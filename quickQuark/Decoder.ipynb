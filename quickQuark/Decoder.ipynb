{
 "cells": [
  {
   "cell_type": "code",
   "execution_count": 172,
   "metadata": {
    "collapsed": false
   },
   "outputs": [],
   "source": [
    "import sys\n",
    "def revcomp(s):\n",
    "    comp = {'A':'T','T':'A','G':'C','C':'G','a':'t','t':'a','g':'c','c':'g','N':'N'}\n",
    "    r = ''.join(comp[e] for e in s[::-1])\n",
    "    return r\n",
    "\n",
    "class island:\n",
    "    start = 0\n",
    "    end = 0\n",
    "    def create(self,s,e):\n",
    "        self.start = s\n",
    "        self.end = e\n",
    "    def updateboth(self,s,e):\n",
    "        self.start = s\n",
    "        self.end = e\n",
    "    def updatestart(self,s):\n",
    "        self.start = s\n",
    "    def updateend(self,e):\n",
    "        self.end = e\n",
    "    def get(self):\n",
    "        return (self.start,self.end)\n",
    "\n",
    "def isInt(s):\n",
    "    try:\n",
    "        int(s)\n",
    "        return True\n",
    "    except ValueError:\n",
    "        return False\n",
    "\n",
    "def decodeQuark(island,leftt,pos):\n",
    "    if leftt == \"-14:CCTCCTGGGCTCACGCAACM32CM2\":\n",
    "        print \"pos\",pos\n",
    "    ind = 0\n",
    "    #pos = 5\n",
    "    real = \"\"\n",
    "    left = \"\"\n",
    "    import re\n",
    "    #coded = re.split('(\\d+)',left)\n",
    "    if(leftt[0] == \"-\"):\n",
    "        #this is a negative read we have to append what we get\n",
    "        overhang,left = leftt.split(\":\")\n",
    "        overhang = abs(int(overhang))\n",
    "        real += left[0:overhang]\n",
    "        ind = overhang\n",
    "    else:\n",
    "        left = leftt\n",
    "        #ind -= 1\n",
    "    #ore = left[-1]\n",
    "    #left = left[:-1]\n",
    "    if left == \"CCTCCTGGGCTCACGCAACM32CM2\":\n",
    "        print \"pos\",pos,\"ind\",ind\n",
    "    while(ind < len(left)):\n",
    "        if left == \"CCTCCTGGGCTCACGCAACM32CM2\":\n",
    "            print \"pos\",pos,\"ind\",ind\n",
    "        if(left[ind] == \"M\"):\n",
    "            digit = \"\"\n",
    "            digitInd = ind+1\n",
    "            #I have to check for numbers\n",
    "            #print left[digitInd]\n",
    "            while(isInt(left[digitInd])):\n",
    "                #print left[digitInd],digitInd\n",
    "                digit += left[digitInd]\n",
    "                digitInd += 1\n",
    "                if (digitInd == len(left)):\n",
    "                    break\n",
    "            matches = int(digit)\n",
    "            if left == \"CCTCCTGGGCTCACGCAACM32CM2\":\n",
    "                print ind\n",
    "                print matches\n",
    "                print real\n",
    "                print pos\n",
    "                print len(island)\n",
    "            matchChars = island[pos:pos+matches]\n",
    "            real += matchChars\n",
    "            pos += matches\n",
    "            ind = digitInd\n",
    "        else:\n",
    "            if left == \"CCTCCTGGGCTCACGCAACM32CM2\":\n",
    "                print \"pos\",pos,\"ind\",ind\n",
    "            real += left[ind]\n",
    "            ind += 1\n",
    "            pos += 1\n",
    "    return real\n",
    "\n",
    "import time\n",
    "\n",
    "\n",
    "def decode(islandFile, quarkFile, outFile):\n",
    "    lFile = outFile + \"mapped.1.seq\"\n",
    "    rFile = outFile + \"mapped.2.seq\"\n",
    "    headerFile = outFile + \"header\"\n",
    "    wlFile = open(lFile,\"w\")\n",
    "    wrFile = open(rFile,\"w\")\n",
    "    hrFile = open(headerFile,\"w\")\n",
    "\n",
    "    linenum = 0\n",
    "    with open(islandFile,\"r\") as iFile:\n",
    "        with open(quarkFile,\"r\") as qFile:\n",
    "            starttime = time.time()\n",
    "            numEq = int(iFile.readline().rstrip())\n",
    "            for eqNum in xrange(numEq):\n",
    "                \n",
    "                \n",
    "                if(eqNum%100 == 0):\n",
    "                    percent = float(eqNum)/numEq\n",
    "                    hashes = '#'* int(round(percent * 50))\n",
    "                    dashes = ' '* (50 - len(hashes))\n",
    "                    elapsedtime = float(time.time() - starttime)\n",
    "                    #print type(elapsedtime)\n",
    "                    sys.stdout.write(\"\\rProgress [{}] {}% {} seconds elapsed\".format(hashes+dashes, int(round(percent * 100)),elapsedtime))\n",
    "                    sys.stdout.flush()\n",
    "                \n",
    "                \n",
    "                \n",
    "                islands = []\n",
    "                numIslands = int(iFile.readline().rstrip())\n",
    "                for i in xrange(numIslands):\n",
    "                    islands.append(iFile.readline().rstrip())\n",
    "\n",
    "                numSeq = int(qFile.readline().rstrip())\n",
    "                linenum += 1\n",
    "                #print numSeq\n",
    "                #print numIslands\n",
    "                for i in xrange(numSeq):\n",
    "                    lDecoded = \"\"\n",
    "                    rDecoded = \"\"\n",
    "                    bothSeq,metaData = qFile.readline().rstrip().split(\"\\t\")\n",
    "                    linenum += 1\n",
    "                    #bothSeq,metaData = qFile.readline().rstrip().strip(\"\\t\")\n",
    "                    #return\n",
    "                    #print bothSew\n",
    "                    left_name,right = bothSeq.split(\"|\")\n",
    "                    lname = \"\"\n",
    "                    \n",
    "                    '''\n",
    "                    try:\n",
    "                        left,lname = left_name.split(\",\")\n",
    "                    except:\n",
    "                        print left_name,linenum\n",
    "                        #import sys\n",
    "                        sys.exit()\n",
    "                    '''\n",
    "                    left = left_name\n",
    "                    \n",
    "                    #hrFile.write(\"{}\\n\".format(lname))\n",
    "                    lIsland,lPos,rIsland,rPos = map(int, metaData.split(\",\"))\n",
    "                    #decode the left end first\n",
    "                    #ignore if it maps to $\n",
    "                    if(islands[lIsland] == \"$\"):\n",
    "                        lDecoded = left\n",
    "                    else:\n",
    "                        #need decoding\n",
    "                        ore = left[-1]\n",
    "                        orebool = True if (ore == \"0\") else False\n",
    "                        lDecoded = decodeQuark(islands[lIsland],left[:-1],lPos)\n",
    "                        if(orebool):\n",
    "                            lDecoded = revcomp(lDecoded)\n",
    "\n",
    "                    if(islands[rIsland] == \"$\"):\n",
    "                        rDecoded = right\n",
    "                    else:\n",
    "                        #need decoding\n",
    "                        ore = right[-1]\n",
    "                        orebool = True if (ore == \"0\") else False\n",
    "                        rDecoded = decodeQuark(islands[rIsland],right[:-1],rPos)\n",
    "                        if(orebool):\n",
    "                            rDecoded = revcomp(rDecoded)\n",
    "                    if(len(rDecoded) != 54):\n",
    "                        print \"\\n---------\"\n",
    "                        print linenum\n",
    "                        print rDecoded\n",
    "                        print right\n",
    "                        #print lname\n",
    "                        print islands[rIsland][rPos:rPos+54]\n",
    "                        print lIsland,lPos,rIsland,rPos\n",
    "                        print \"---------\"\n",
    "                        #break\n",
    "                    wlFile.write(\"{}\\n\".format(lDecoded))\n",
    "                    wrFile.write(\"{}\\n\".format(rDecoded))\n",
    "    wlFile.close()\n",
    "    wrFile.close()"
   ]
  },
  {
   "cell_type": "code",
   "execution_count": 173,
   "metadata": {
    "collapsed": true
   },
   "outputs": [],
   "source": [
    "islandFile = \"/mnt/scratch2/hirak/quantAnalysis/data/SRR635193_final/aux/islands.quark\"\n",
    "quarkFile = \"/mnt/scratch2/hirak/quantAnalysis/data/SRR635193_final/aux/reads.quark\"\n",
    "outFile = \"/mnt/scratch2/hirak/quantAnalysis/data/SRR635193_final/\""
   ]
  },
  {
   "cell_type": "code",
   "execution_count": 174,
   "metadata": {
    "collapsed": false,
    "scrolled": true
   },
   "outputs": [
    {
     "name": "stdout",
     "output_type": "stream",
     "text": [
      "Progress [#####                                             ] 10% 63.6733500957 seconds elapsedpos 0\n",
      "pos 0 ind 14\n",
      "pos 0 ind 14\n",
      "pos 0 ind 14\n",
      "pos 1 ind 15\n",
      "pos 1 ind 15\n",
      "pos 2 ind 16\n",
      "pos 2 ind 16\n",
      "pos 3 ind 17\n",
      "pos 3 ind 17\n",
      "pos 4 ind 18\n",
      "pos 4 ind 18\n",
      "pos 5 ind 19\n",
      "19\n",
      "32\n",
      "CCTCCTGGGCTCACGCAAC\n",
      "5\n",
      "46\n",
      "pos 37 ind 22\n",
      "pos 37 ind 22\n",
      "pos 38 ind 23\n",
      "23\n",
      "2\n",
      "CCTCCTGGGCTCACGCAACTCTCCCGCCTCAGCCTCCCGAGTAGCTGGGACC\n",
      "38\n",
      "46\n",
      "Progress [##################################################] 100% 584.411854982 seconds elapsed"
     ]
    }
   ],
   "source": [
    "decode(islandFile,quarkFile,outFile)"
   ]
  },
  {
   "cell_type": "code",
   "execution_count": 36,
   "metadata": {
    "collapsed": true
   },
   "outputs": [],
   "source": [
    "import re\n",
    "s = \"CGCGCTTAGM451\"\n",
    "ll = re.split('(\\d+)',s)"
   ]
  },
  {
   "cell_type": "code",
   "execution_count": 138,
   "metadata": {
    "collapsed": false
   },
   "outputs": [
    {
     "data": {
      "text/plain": [
       "'CCTCCTGGGCTCACGCAACGCCATTCTCCCGCCTCAGCCTCCCGAGTAGCTCGG'"
      ]
     },
     "execution_count": 138,
     "metadata": {},
     "output_type": "execute_result"
    }
   ],
   "source": [
    "\"CCTCCTGGGCTCACGCAAC\"+\"GCCATTCTCCCGCCTCAGCCTCCCGAGTAGCT\"+\"C\" +\"GG\""
   ]
  },
  {
   "cell_type": "code",
   "execution_count": 162,
   "metadata": {
    "collapsed": false
   },
   "outputs": [
    {
     "data": {
      "text/plain": [
       "('CCTCCTGGGCTCACGCAACTCTCCCGCCTCAGCCTCCCGAGTAGCTGGGACCAC',\n",
       " 'CCTCCTGGGCTCACGCAACTCTCCCGCCTCAGCCTCCCGAGTAGCTGGGACCAC')"
      ]
     },
     "execution_count": 162,
     "metadata": {},
     "output_type": "execute_result"
    }
   ],
   "source": [
    "revcomp(\"GTGGTCCCAGCTACTCGGGAGGCTGAGGCGGGAGAGTTGCGTGAGCCCAGGAGG\"),\"CCTCCTGGGCTCACGCAACTCTCCCGCCTCAGCCTCCCGAGTAGCTGGGACCAC\""
   ]
  },
  {
   "cell_type": "code",
   "execution_count": 137,
   "metadata": {
    "collapsed": false
   },
   "outputs": [
    {
     "data": {
      "text/plain": [
       "35"
      ]
     },
     "execution_count": 137,
     "metadata": {},
     "output_type": "execute_result"
    }
   ],
   "source": [
    "len(\"GCCATTCTCCCGCCTCAGCCTCCCGAGTAGCTGGG\")"
   ]
  },
  {
   "cell_type": "code",
   "execution_count": 48,
   "metadata": {
    "collapsed": false
   },
   "outputs": [
    {
     "data": {
      "text/plain": [
       "37"
      ]
     },
     "execution_count": 48,
     "metadata": {},
     "output_type": "execute_result"
    }
   ],
   "source": [
    "len(\"GGGGGGCTTGTGGGTCCTCCTCCCCCTCCCACTGACA\")"
   ]
  },
  {
   "cell_type": "code",
   "execution_count": 144,
   "metadata": {
    "collapsed": false
   },
   "outputs": [],
   "source": [
    "s = \"-14:CCTCCTGGGCTCACGCAACM32CM2\""
   ]
  },
  {
   "cell_type": "code",
   "execution_count": 147,
   "metadata": {
    "collapsed": false
   },
   "outputs": [],
   "source": [
    "o,ss = s.split(\":\")"
   ]
  },
  {
   "cell_type": "code",
   "execution_count": 151,
   "metadata": {
    "collapsed": false
   },
   "outputs": [
    {
     "data": {
      "text/plain": [
       "'CCTCCTGGGCTCAC'"
      ]
     },
     "execution_count": 151,
     "metadata": {},
     "output_type": "execute_result"
    }
   ],
   "source": [
    "ss[0:abs(int(o))]"
   ]
  },
  {
   "cell_type": "code",
   "execution_count": null,
   "metadata": {
    "collapsed": true
   },
   "outputs": [],
   "source": [
    "CTGCCATCAGTCAGGAGGCCGTGCAGTCCGAGATGGGCTCGTCTCGGGCACCCT\n",
    "CTGCCM49ACCCT1"
   ]
  },
  {
   "cell_type": "code",
   "execution_count": 70,
   "metadata": {
    "collapsed": false
   },
   "outputs": [
    {
     "data": {
      "text/plain": [
       "43"
      ]
     },
     "execution_count": 70,
     "metadata": {},
     "output_type": "execute_result"
    }
   ],
   "source": [
    "len(\"CTCCCACAGAGGAGGAAGACAATAAATATTTGTTGAACTGAAA\")"
   ]
  },
  {
   "cell_type": "code",
   "execution_count": 59,
   "metadata": {
    "collapsed": false
   },
   "outputs": [
    {
     "data": {
      "text/plain": [
       "54"
      ]
     },
     "execution_count": 59,
     "metadata": {},
     "output_type": "execute_result"
    }
   ],
   "source": [
    "len(\"CAGGGGTCGTTAAGGGAGGTGATACGCGTGGGGTCCTTACAGGGGTCTGAGAAG\")"
   ]
  },
  {
   "cell_type": "code",
   "execution_count": 80,
   "metadata": {
    "collapsed": true
   },
   "outputs": [],
   "source": [
    "islandFile = \"/mnt/scratch2/hirak/quantAnalysis/data/SRR635193_test3/aux/islands.quark\""
   ]
  },
  {
   "cell_type": "code",
   "execution_count": 81,
   "metadata": {
    "collapsed": false
   },
   "outputs": [],
   "source": [
    "with open(islandFile,\"r\") as iFile:\n",
    "    numEq = int(iFile.readline().rstrip())\n",
    "    islands = []\n",
    "    for ne in xrange(numEq):\n",
    "        numIslands = int(iFile.readline().rstrip())\n",
    "        eqislands = []\n",
    "        for i in xrange(numIslands):\n",
    "            eqislands.append(iFile.readline().rstrip())\n",
    "        islands.append(eqislands)"
   ]
  },
  {
   "cell_type": "code",
   "execution_count": 82,
   "metadata": {
    "collapsed": false
   },
   "outputs": [
    {
     "data": {
      "text/plain": [
       "6"
      ]
     },
     "execution_count": 82,
     "metadata": {},
     "output_type": "execute_result"
    }
   ],
   "source": [
    "len(islands[47][1])"
   ]
  },
  {
   "cell_type": "code",
   "execution_count": 85,
   "metadata": {
    "collapsed": false
   },
   "outputs": [],
   "source": [
    "t47 = islands[47]"
   ]
  },
  {
   "cell_type": "code",
   "execution_count": 46,
   "metadata": {
    "collapsed": false
   },
   "outputs": [],
   "source": [
    "def mergeint(intervals):\n",
    "    sorted_by_lower_bound = sorted(intervals, key=lambda tup: tup[0])\n",
    "    merged = []\n",
    "\n",
    "    for higher in sorted_by_lower_bound:\n",
    "        if not merged:\n",
    "            merged.append(higher)\n",
    "        else:\n",
    "            lower = merged[-1]\n",
    "            # test for intersection between lower and higher:\n",
    "            # we know via sorting that lower[0] <= higher[0]\n",
    "            if higher[0] <= lower[1]:\n",
    "                upper_bound = max(lower[1], higher[1])\n",
    "                merged[-1] = (lower[0], upper_bound)  # replace by merged interval\n",
    "            else:\n",
    "                merged.append(higher)\n",
    "    return merged"
   ]
  },
  {
   "cell_type": "code",
   "execution_count": 89,
   "metadata": {
    "collapsed": false
   },
   "outputs": [],
   "source": [
    "intervals = [map(int, t.split(\"\\t\")) for t in t47]"
   ]
  },
  {
   "cell_type": "code",
   "execution_count": 90,
   "metadata": {
    "collapsed": false
   },
   "outputs": [
    {
     "data": {
      "text/plain": [
       "[[-1, -1], [0, 2551]]"
      ]
     },
     "execution_count": 90,
     "metadata": {},
     "output_type": "execute_result"
    }
   ],
   "source": [
    "intervals"
   ]
  },
  {
   "cell_type": "code",
   "execution_count": 47,
   "metadata": {
    "collapsed": false
   },
   "outputs": [
    {
     "data": {
      "text/plain": [
       "[(-1, -1), (112, 168), (179, 399)]"
      ]
     },
     "execution_count": 47,
     "metadata": {},
     "output_type": "execute_result"
    }
   ],
   "source": [
    "mergeint(intervals)"
   ]
  },
  {
   "cell_type": "code",
   "execution_count": 48,
   "metadata": {
    "collapsed": false
   },
   "outputs": [
    {
     "data": {
      "text/plain": [
       "56"
      ]
     },
     "execution_count": 48,
     "metadata": {},
     "output_type": "execute_result"
    }
   ],
   "source": [
    "168-112"
   ]
  },
  {
   "cell_type": "code",
   "execution_count": null,
   "metadata": {
    "collapsed": true
   },
   "outputs": [],
   "source": []
  }
 ],
 "metadata": {
  "kernelspec": {
   "display_name": "Python 2",
   "language": "python",
   "name": "python2"
  },
  "language_info": {
   "codemirror_mode": {
    "name": "ipython",
    "version": 2
   },
   "file_extension": ".py",
   "mimetype": "text/x-python",
   "name": "python",
   "nbconvert_exporter": "python",
   "pygments_lexer": "ipython2",
   "version": "2.7.8"
  }
 },
 "nbformat": 4,
 "nbformat_minor": 0
}

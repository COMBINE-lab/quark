{
 "cells": [
  {
   "cell_type": "code",
   "execution_count": 8,
   "metadata": {
    "collapsed": true
   },
   "outputs": [],
   "source": [
    "import cPickle as pk \n",
    "import pandas as pd"
   ]
  },
  {
   "cell_type": "code",
   "execution_count": 4,
   "metadata": {
    "collapsed": false
   },
   "outputs": [],
   "source": [
    "from collections import defaultdict\n",
    "t2e_d_path = '/mnt/scratch2/FusionGenome/data/tr2exonBoundaries_sorted.pk'\n",
    "t2e = pk.load(open(t2e_d_path,'rb'))\n",
    "t2g = {}\n",
    "def parse_tname(name):\n",
    "    return name.split('.')[0].rstrip()\n",
    "with open(\"/mnt/scratch2/FusionGenome/data/gencodeTranscriptIDToGeneNameClean2.tsv\") as f:\n",
    "    for row in f:\n",
    "        k=parse_tname(row.split('\\t')[0])\n",
    "        v= (row.split('\\t')[1].rstrip())\n",
    "        t2g[k]=v.split('__')[0].strip()\n",
    "gexonsch37 = defaultdict(list)\n",
    "for tname,elist in t2e.iteritems():\n",
    "    gexonsch37[t2g[tname]].extend(elist)"
   ]
  },
  {
   "cell_type": "code",
   "execution_count": 5,
   "metadata": {
    "collapsed": true
   },
   "outputs": [],
   "source": [
    "df = pk.load(open(\"/mnt/scratch2/FusionGenome/data/paralogs/paralog.pickle\",'r'))\n",
    "dfsyn = pk.load(open(\"/mnt/scratch2/FusionGenome/data/synonyms/syn.pickle\",'r'))"
   ]
  },
  {
   "cell_type": "code",
   "execution_count": 6,
   "metadata": {
    "collapsed": true
   },
   "outputs": [],
   "source": [
    "fp = open(\"/mnt/scratch2/FusionGenome/FusionCancer/SRAfiles/SRR449360/nao.filter\",'w')\n",
    "with open(\"/mnt/scratch2/FusionGenome/FusionCancer/SRAfiles/SRR449360/nao\",'r') as naoFile:\n",
    "    for line in naoFile:\n",
    "        g1 = line.rstrip('\\n').split('\\t')[0]\n",
    "        g2 = line.rstrip('\\n').split('\\t')[1]\n",
    "        if not(g2 in df[g1]) and not(g1 in df[g2]):\n",
    "            print >>fp,line.rstrip('\\n')"
   ]
  },
  {
   "cell_type": "code",
   "execution_count": 9,
   "metadata": {
    "collapsed": false
   },
   "outputs": [
    {
     "name": "stderr",
     "output_type": "stream",
     "text": [
      "/usr/local/lib/python2.7/dist-packages/ipykernel/__main__.py:3: FutureWarning: by argument to sort_index is deprecated, pls use .sort_values(by=...)\n",
      "  app.launch_new_instance()\n"
     ]
    }
   ],
   "source": [
    "df3 = pd.read_table(\"/mnt/scratch2/FusionGenome/FusionCancer/SRAfiles/SRR449360/nao.filter\",sep=\"\\t\",header=None)\n",
    "df3['norm'] = (df3[2] - df3[2].min()) / (df3[2].max() - df3[2].min())\n",
    "df3_sorted = df3.sort_index(by=['norm'],ascending=[False])"
   ]
  },
  {
   "cell_type": "code",
   "execution_count": 10,
   "metadata": {
    "collapsed": false
   },
   "outputs": [
    {
     "data": {
      "text/html": [
       "<div>\n",
       "<table border=\"1\" class=\"dataframe\">\n",
       "  <thead>\n",
       "    <tr style=\"text-align: right;\">\n",
       "      <th></th>\n",
       "      <th>0</th>\n",
       "      <th>1</th>\n",
       "      <th>2</th>\n",
       "      <th>norm</th>\n",
       "    </tr>\n",
       "  </thead>\n",
       "  <tbody>\n",
       "    <tr>\n",
       "      <th>2379</th>\n",
       "      <td>HK1</td>\n",
       "      <td>RCC1</td>\n",
       "      <td>353.000000</td>\n",
       "      <td>1.000000</td>\n",
       "    </tr>\n",
       "    <tr>\n",
       "      <th>42726</th>\n",
       "      <td>PTMA</td>\n",
       "      <td>S100A8</td>\n",
       "      <td>348.000000</td>\n",
       "      <td>0.985825</td>\n",
       "    </tr>\n",
       "    <tr>\n",
       "      <th>35797</th>\n",
       "      <td>DXO</td>\n",
       "      <td>STK19</td>\n",
       "      <td>344.000000</td>\n",
       "      <td>0.974486</td>\n",
       "    </tr>\n",
       "    <tr>\n",
       "      <th>47306</th>\n",
       "      <td>HLA-DRB1</td>\n",
       "      <td>HLA-DRB3$0301</td>\n",
       "      <td>337.000000</td>\n",
       "      <td>0.954641</td>\n",
       "    </tr>\n",
       "    <tr>\n",
       "      <th>7028</th>\n",
       "      <td>PFDN6</td>\n",
       "      <td>RGL2</td>\n",
       "      <td>328.000000</td>\n",
       "      <td>0.929127</td>\n",
       "    </tr>\n",
       "    <tr>\n",
       "      <th>44490</th>\n",
       "      <td>NONO</td>\n",
       "      <td>ZNF106</td>\n",
       "      <td>322.000000</td>\n",
       "      <td>0.912117</td>\n",
       "    </tr>\n",
       "    <tr>\n",
       "      <th>18647</th>\n",
       "      <td>NBPF11</td>\n",
       "      <td>NBPF9</td>\n",
       "      <td>315.000000</td>\n",
       "      <td>0.892272</td>\n",
       "    </tr>\n",
       "    <tr>\n",
       "      <th>56713</th>\n",
       "      <td>C9orf43</td>\n",
       "      <td>POLE3</td>\n",
       "      <td>308.000000</td>\n",
       "      <td>0.872428</td>\n",
       "    </tr>\n",
       "    <tr>\n",
       "      <th>22265</th>\n",
       "      <td>HLA-E</td>\n",
       "      <td>LYZ</td>\n",
       "      <td>298.000000</td>\n",
       "      <td>0.844078</td>\n",
       "    </tr>\n",
       "    <tr>\n",
       "      <th>75</th>\n",
       "      <td>C1orf186</td>\n",
       "      <td>GBP4</td>\n",
       "      <td>284.000000</td>\n",
       "      <td>0.804389</td>\n",
       "    </tr>\n",
       "    <tr>\n",
       "      <th>5382</th>\n",
       "      <td>C8orf59</td>\n",
       "      <td>E2F5</td>\n",
       "      <td>271.000000</td>\n",
       "      <td>0.767535</td>\n",
       "    </tr>\n",
       "    <tr>\n",
       "      <th>54856</th>\n",
       "      <td>SLC25A5</td>\n",
       "      <td>WBP2NL</td>\n",
       "      <td>264.000000</td>\n",
       "      <td>0.747691</td>\n",
       "    </tr>\n",
       "    <tr>\n",
       "      <th>5469</th>\n",
       "      <td>ACTB</td>\n",
       "      <td>ACTG1</td>\n",
       "      <td>261.000000</td>\n",
       "      <td>0.739186</td>\n",
       "    </tr>\n",
       "    <tr>\n",
       "      <th>17140</th>\n",
       "      <td>LST1</td>\n",
       "      <td>LYZ</td>\n",
       "      <td>242.000000</td>\n",
       "      <td>0.685322</td>\n",
       "    </tr>\n",
       "    <tr>\n",
       "      <th>31576</th>\n",
       "      <td>EHMT2</td>\n",
       "      <td>KMT2E</td>\n",
       "      <td>240.000000</td>\n",
       "      <td>0.679652</td>\n",
       "    </tr>\n",
       "    <tr>\n",
       "      <th>14930</th>\n",
       "      <td>RUNX1T1</td>\n",
       "      <td>RUNX1</td>\n",
       "      <td>236.207063</td>\n",
       "      <td>0.668899</td>\n",
       "    </tr>\n",
       "    <tr>\n",
       "      <th>43272</th>\n",
       "      <td>BRD2</td>\n",
       "      <td>HLA-C</td>\n",
       "      <td>232.000000</td>\n",
       "      <td>0.656973</td>\n",
       "    </tr>\n",
       "    <tr>\n",
       "      <th>59171</th>\n",
       "      <td>CSF3R</td>\n",
       "      <td>EEF1A1</td>\n",
       "      <td>222.000000</td>\n",
       "      <td>0.628623</td>\n",
       "    </tr>\n",
       "    <tr>\n",
       "      <th>35291</th>\n",
       "      <td>EEF1A1</td>\n",
       "      <td>PTMA</td>\n",
       "      <td>216.000000</td>\n",
       "      <td>0.611614</td>\n",
       "    </tr>\n",
       "    <tr>\n",
       "      <th>67219</th>\n",
       "      <td>EEF1A1</td>\n",
       "      <td>MPO</td>\n",
       "      <td>214.000000</td>\n",
       "      <td>0.605944</td>\n",
       "    </tr>\n",
       "  </tbody>\n",
       "</table>\n",
       "</div>"
      ],
      "text/plain": [
       "              0              1           2      norm\n",
       "2379        HK1           RCC1  353.000000  1.000000\n",
       "42726      PTMA         S100A8  348.000000  0.985825\n",
       "35797       DXO          STK19  344.000000  0.974486\n",
       "47306  HLA-DRB1  HLA-DRB3$0301  337.000000  0.954641\n",
       "7028      PFDN6           RGL2  328.000000  0.929127\n",
       "44490      NONO         ZNF106  322.000000  0.912117\n",
       "18647    NBPF11          NBPF9  315.000000  0.892272\n",
       "56713   C9orf43          POLE3  308.000000  0.872428\n",
       "22265     HLA-E            LYZ  298.000000  0.844078\n",
       "75     C1orf186           GBP4  284.000000  0.804389\n",
       "5382    C8orf59           E2F5  271.000000  0.767535\n",
       "54856   SLC25A5         WBP2NL  264.000000  0.747691\n",
       "5469       ACTB          ACTG1  261.000000  0.739186\n",
       "17140      LST1            LYZ  242.000000  0.685322\n",
       "31576     EHMT2          KMT2E  240.000000  0.679652\n",
       "14930   RUNX1T1          RUNX1  236.207063  0.668899\n",
       "43272      BRD2          HLA-C  232.000000  0.656973\n",
       "59171     CSF3R         EEF1A1  222.000000  0.628623\n",
       "35291    EEF1A1           PTMA  216.000000  0.611614\n",
       "67219    EEF1A1            MPO  214.000000  0.605944"
      ]
     },
     "execution_count": 10,
     "metadata": {},
     "output_type": "execute_result"
    }
   ],
   "source": [
    "df3_sorted[:20]"
   ]
  },
  {
   "cell_type": "code",
   "execution_count": 12,
   "metadata": {
    "collapsed": false
   },
   "outputs": [],
   "source": [
    "import networkx as nx\n",
    "G = nx.read_edgelist('/mnt/scratch2/FusionGenome/FusionCancer/SRAfiles/SRR449360/nao.filter', nodetype=str, data=(('weight',float),))"
   ]
  },
  {
   "cell_type": "code",
   "execution_count": 26,
   "metadata": {
    "collapsed": false
   },
   "outputs": [],
   "source": [
    "T = nx.max_weight_matching(G,False)"
   ]
  },
  {
   "cell_type": "code",
   "execution_count": 15,
   "metadata": {
    "collapsed": true
   },
   "outputs": [],
   "source": [
    "tplist = pd.read_table('/mnt/scratch2/FusionGenome/FusionCancer/SRAfiles/SRR449360/SRR449360.truth',skiprows=2,header=None,sep=\" \")"
   ]
  },
  {
   "cell_type": "code",
   "execution_count": 24,
   "metadata": {
    "collapsed": false
   },
   "outputs": [],
   "source": [
    "TN = {}\n",
    "for u,v in TN.iteritems():\n",
    "    w = G.get_edge_data(*(u,v))['weight']\n",
    "    TN[(u,v)] = w"
   ]
  },
  {
   "cell_type": "code",
   "execution_count": 20,
   "metadata": {
    "collapsed": false
   },
   "outputs": [
    {
     "data": {
      "text/plain": [
       "{}"
      ]
     },
     "execution_count": 20,
     "metadata": {},
     "output_type": "execute_result"
    }
   ],
   "source": [
    "import operator\n",
    "sorted_T = sorted(TN.items(), key=operator.itemgetter(1))\n",
    "sorted_Tkeys = set([p for p,_ in sorted_T[30]])"
   ]
  },
  {
   "cell_type": "code",
   "execution_count": 25,
   "metadata": {
    "collapsed": false
   },
   "outputs": [
    {
     "ename": "KeyError",
     "evalue": "('FUT4', 'PIWIL4')",
     "output_type": "error",
     "traceback": [
      "\u001b[1;31m---------------------------------------------------------------------------\u001b[0m",
      "\u001b[1;31mKeyError\u001b[0m                                  Traceback (most recent call last)",
      "\u001b[1;32m<ipython-input-25-f43bef38b527>\u001b[0m in \u001b[0;36m<module>\u001b[1;34m()\u001b[0m\n\u001b[0;32m      4\u001b[0m     \u001b[1;32mif\u001b[0m \u001b[0mu\u001b[0m \u001b[1;33m<\u001b[0m \u001b[0mv\u001b[0m\u001b[1;33m:\u001b[0m\u001b[1;33m\u001b[0m\u001b[0m\n\u001b[0;32m      5\u001b[0m         \u001b[0mtplistN\u001b[0m\u001b[1;33m.\u001b[0m\u001b[0madd\u001b[0m\u001b[1;33m(\u001b[0m\u001b[1;33m(\u001b[0m\u001b[0mu\u001b[0m\u001b[1;33m,\u001b[0m\u001b[0mv\u001b[0m\u001b[1;33m)\u001b[0m\u001b[1;33m)\u001b[0m\u001b[1;33m\u001b[0m\u001b[0m\n\u001b[1;32m----> 6\u001b[1;33m         \u001b[1;32mprint\u001b[0m \u001b[0mT\u001b[0m\u001b[1;33m[\u001b[0m\u001b[1;33m(\u001b[0m\u001b[0mu\u001b[0m\u001b[1;33m,\u001b[0m\u001b[0mv\u001b[0m\u001b[1;33m)\u001b[0m\u001b[1;33m]\u001b[0m\u001b[1;33m\u001b[0m\u001b[0m\n\u001b[0m\u001b[0;32m      7\u001b[0m     \u001b[1;32melse\u001b[0m\u001b[1;33m:\u001b[0m\u001b[1;33m\u001b[0m\u001b[0m\n\u001b[0;32m      8\u001b[0m         \u001b[0mtplistN\u001b[0m\u001b[1;33m.\u001b[0m\u001b[0madd\u001b[0m\u001b[1;33m(\u001b[0m\u001b[1;33m(\u001b[0m\u001b[0mv\u001b[0m\u001b[1;33m,\u001b[0m\u001b[0mu\u001b[0m\u001b[1;33m)\u001b[0m\u001b[1;33m)\u001b[0m\u001b[1;33m\u001b[0m\u001b[0m\n",
      "\u001b[1;31mKeyError\u001b[0m: ('FUT4', 'PIWIL4')"
     ]
    }
   ],
   "source": [
    "import itertools\n",
    "tplistN = set()\n",
    "for _,u,v in tplist.itertuples():\n",
    "    if u < v:\n",
    "        tplistN.add((u,v))\n",
    "        print T[(u,v)]\n",
    "    else:\n",
    "        tplistN.add((v,u))\n",
    "        print T[(u,v)]"
   ]
  },
  {
   "cell_type": "code",
   "execution_count": null,
   "metadata": {
    "collapsed": true
   },
   "outputs": [],
   "source": []
  }
 ],
 "metadata": {
  "kernelspec": {
   "display_name": "Python 2",
   "language": "python",
   "name": "python2"
  },
  "language_info": {
   "codemirror_mode": {
    "name": "ipython",
    "version": 2
   },
   "file_extension": ".py",
   "mimetype": "text/x-python",
   "name": "python",
   "nbconvert_exporter": "python",
   "pygments_lexer": "ipython2",
   "version": "2.7.8"
  }
 },
 "nbformat": 4,
 "nbformat_minor": 0
}

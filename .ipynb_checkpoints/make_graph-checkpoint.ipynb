{
 "cells": [
  {
   "cell_type": "code",
   "execution_count": 5,
   "metadata": {
    "collapsed": true
   },
   "outputs": [],
   "source": [
    "#copy this to separate place"
   ]
  },
  {
   "cell_type": "code",
   "execution_count": 6,
   "metadata": {
    "collapsed": true
   },
   "outputs": [],
   "source": [
    "#Make a graph out of equivalence classes. Edge distance is Jaccard"
   ]
  },
  {
   "cell_type": "code",
   "execution_count": 1,
   "metadata": {
    "collapsed": true
   },
   "outputs": [],
   "source": [
    "class EquivCollection(object):\n",
    "    def __init__(self):\n",
    "        self.tnames = []\n",
    "        self.eqClasses = {}\n",
    "        self.hasNames = False\n",
    "\n",
    "    def setNames(self, names):\n",
    "        self.tnames = names\n",
    "        self.hasNames = True\n",
    "\n",
    "    def add(self, tids, count):\n",
    "        if tids in self.eqClasses:\n",
    "            self.eqClasses[tids] += count\n",
    "        else:\n",
    "            self.eqClasses[tids] = count\n",
    "\n",
    "def readEqClass(eqfile, eqCollection):\n",
    "    with open(eqfile) as ifile:\n",
    "        numTran = int(ifile.readline().rstrip())\n",
    "        numEq = int(ifile.readline().rstrip())\n",
    "        print(\"file: {}; # tran = {}; # eq = {}\".format(eqfile, numTran, numEq))\n",
    "        if not eqCollection.hasNames:\n",
    "            tnames = []\n",
    "            for i in xrange(numTran):\n",
    "                tnames.append(ifile.readline().rstrip())\n",
    "            eqCollection.setNames(tnames)\n",
    "        else:\n",
    "            for i in xrange(numTran):\n",
    "                ifile.readline()\n",
    "\n",
    "        for i in xrange(numEq):\n",
    "            toks = map(int, ifile.readline().rstrip().split('\\t'))\n",
    "            nt = toks[0]\n",
    "            tids = tuple(toks[1:-1])\n",
    "            count = toks[-1]\n",
    "            eqCollection.add(tids, count)\n",
    "            \n",
    "def getCountsFromEquiv(eqCollection):\n",
    "    countDict = {}\n",
    "    tn = eqCollection.tnames\n",
    "    for tids, count in eqCollection.eqClasses.iteritems():\n",
    "        for t in tids:\n",
    "            if tn[t] in countDict:\n",
    "                countDict[tn[t]] += count\n",
    "            else:\n",
    "                countDict[tn[t]] = count\n",
    "    # ensure no division by 0\n",
    "    for t in eqCollection.tnames:\n",
    "        if t in countDict:\n",
    "            countDict[t] += 1.0\n",
    "        else:\n",
    "            countDict[t] = 1.0\n",
    "    return countDict\n",
    "\n",
    "def buildEqGraph(eqPath):\n",
    "    tn = eqiv.tnames"
   ]
  },
  {
   "cell_type": "code",
   "execution_count": 2,
   "metadata": {
    "collapsed": false
   },
   "outputs": [
    {
     "name": "stdout",
     "output_type": "stream",
     "text": [
      "file: /mnt/scratch1/hirak/RapCompressData/sailfish/sailfish_quant/aux/eq_classes.txt; # tran = 86331; # eq = 75568\n"
     ]
    }
   ],
   "source": [
    "eqPath = \"/mnt/scratch1/hirak/RapCompressData/sailfish/sailfish_quant/aux/eq_classes.txt\"\n",
    "equiv = EquivCollection()\n",
    "readEqClass(eqPath, equiv)\n",
    "groups = equiv.eqClasses.keys()"
   ]
  },
  {
   "cell_type": "code",
   "execution_count": 107,
   "metadata": {
    "collapsed": false
   },
   "outputs": [],
   "source": [
    "import itertools\n",
    "\n",
    "oMetaFile = open(\"/mnt/scratch1/hirak/RapCompressData/metagraph.info\",'w')\n",
    "tn = equiv.tnames\n",
    "oMetaFile.write(\"{}\\n\".format(len(tn)))\n",
    "for tname in tn:\n",
    "    oMetaFile.write(\"{}\\n\".format(tname))\n",
    "for g in groups:\n",
    "    oMetaFile.write(\"{}\\n\".format(g))"
   ]
  },
  {
   "cell_type": "code",
   "execution_count": 106,
   "metadata": {
    "collapsed": false
   },
   "outputs": [
    {
     "ename": "KeyboardInterrupt",
     "evalue": "",
     "output_type": "error",
     "traceback": [
      "\u001b[1;31m---------------------------------------------------------------------------\u001b[0m",
      "\u001b[1;31mKeyboardInterrupt\u001b[0m                         Traceback (most recent call last)",
      "\u001b[1;32m<ipython-input-106-2342b0260ad0>\u001b[0m in \u001b[0;36m<module>\u001b[1;34m()\u001b[0m\n\u001b[0;32m      2\u001b[0m \u001b[0moGraphFile\u001b[0m \u001b[1;33m=\u001b[0m \u001b[0mopen\u001b[0m\u001b[1;33m(\u001b[0m\u001b[1;34m\"/mnt/scratch1/hirak/RapCompressData/graph.net\"\u001b[0m\u001b[1;33m,\u001b[0m\u001b[1;34m'w'\u001b[0m\u001b[1;33m)\u001b[0m\u001b[1;33m\u001b[0m\u001b[0m\n\u001b[0;32m      3\u001b[0m \u001b[1;32mfor\u001b[0m \u001b[0mi\u001b[0m \u001b[1;32min\u001b[0m \u001b[0mliX\u001b[0m\u001b[1;33m:\u001b[0m\u001b[1;33m\u001b[0m\u001b[0m\n\u001b[1;32m----> 4\u001b[1;33m     \u001b[1;32mfor\u001b[0m \u001b[0mj\u001b[0m \u001b[1;32min\u001b[0m \u001b[0mxrange\u001b[0m\u001b[1;33m(\u001b[0m\u001b[0mi\u001b[0m\u001b[1;33m+\u001b[0m\u001b[1;36m1\u001b[0m\u001b[1;33m,\u001b[0m\u001b[0mlen\u001b[0m\u001b[1;33m(\u001b[0m\u001b[0mliX\u001b[0m\u001b[1;33m)\u001b[0m\u001b[1;33m)\u001b[0m\u001b[1;33m:\u001b[0m\u001b[1;33m\u001b[0m\u001b[0m\n\u001b[0m\u001b[0;32m      5\u001b[0m         \u001b[0mg1\u001b[0m \u001b[1;33m=\u001b[0m \u001b[0mgroups\u001b[0m\u001b[1;33m[\u001b[0m\u001b[0mi\u001b[0m\u001b[1;33m]\u001b[0m\u001b[1;33m\u001b[0m\u001b[0m\n\u001b[0;32m      6\u001b[0m         \u001b[0mg2\u001b[0m \u001b[1;33m=\u001b[0m \u001b[0mgroups\u001b[0m\u001b[1;33m[\u001b[0m\u001b[0mj\u001b[0m\u001b[1;33m]\u001b[0m\u001b[1;33m\u001b[0m\u001b[0m\n",
      "\u001b[1;31mKeyboardInterrupt\u001b[0m: "
     ]
    }
   ],
   "source": [
    "liX = xrange(len(groups))\n",
    "oGraphFile = open(\"/mnt/scratch1/hirak/RapCompressData/graph.net\",'w')\n",
    "for i in liX:\n",
    "    for j in xrange(i+1,len(liX)):\n",
    "        g1 = groups[i]\n",
    "        g2 = groups[j]\n",
    "        eW = float(len(set(g1).intersection(set(g2))))/float(len(set(g1).union(set(g2))))\n",
    "        if eW > 0.0:\n",
    "            oGraphFile.write(\"{}\\t{}\\t{}\\n\".format(i,j,eW))"
   ]
  },
  {
   "cell_type": "code",
   "execution_count": null,
   "metadata": {
    "collapsed": true
   },
   "outputs": [],
   "source": [
    "liX = xrange(len(groups))\n",
    "oGraphFile = open(\"/mnt/scratch1/hirak/RapCompressData/graph.net\",'w')\n",
    "for i,j in itertools.combinations(a,2):\n",
    "    g1 = groups[i]\n",
    "    g2 = groups[j]\n",
    "    eW = float(len(set(g1).intersection(set(g2))))/float(len(set(g1).union(set(g2))))\n",
    "    if eW > 0.0:\n",
    "        oGraphFile.write(\"{}\\t{}\\t{}\\n\".format(i,j,eW))"
   ]
  },
  {
   "cell_type": "code",
   "execution_count": 14,
   "metadata": {
    "collapsed": false
   },
   "outputs": [],
   "source": [
    "import itertools\n",
    "def test1(comb,a):\n",
    "    #a = [0,1,2,3,4,6]\n",
    "    for i,j in itertools.combinations(a,2):\n",
    "        #print i,j\n",
    "        comb.append((i,j))\n",
    "    #return comb\n",
    "def test2(comb1,comb2,a):\n",
    "    c = 0\n",
    "    for i in a:\n",
    "        for j in xrange(i+1,len(a)):\n",
    "            comb1[c] = i\n",
    "            comb2[c] = j\n",
    "            c += 1\n",
    "            #comb.append((i,j))\n",
    "    #return comb"
   ]
  },
  {
   "cell_type": "code",
   "execution_count": 3,
   "metadata": {
    "collapsed": false
   },
   "outputs": [],
   "source": [
    "\n",
    "liX = xrange(len(groups))"
   ]
  },
  {
   "cell_type": "code",
   "execution_count": null,
   "metadata": {
    "collapsed": true
   },
   "outputs": [],
   "source": [
    "comb1 = []\n",
    "test2(comb1,xrange(70000))"
   ]
  },
  {
   "cell_type": "code",
   "execution_count": 65,
   "metadata": {
    "collapsed": false
   },
   "outputs": [],
   "source": [
    "test2(comb2,liX)"
   ]
  },
  {
   "cell_type": "code",
   "execution_count": 19,
   "metadata": {
    "collapsed": false
   },
   "outputs": [],
   "source": [
    "import numpy as np\n",
    "lX = len(liX)\n",
    "sZ = ((lX)*(lX-1))/2\n",
    "comb2i = np.zeros(sZ)\n",
    "comb2j = np.zeros(sZ)\n",
    "comb1 = []\n",
    "#comb2 = []\n",
    "#test1(comb1,xrange(5))\n",
    "test2(comb2i,comb2j,xrange(70000))"
   ]
  },
  {
   "cell_type": "code",
   "execution_count": 7,
   "metadata": {
    "collapsed": false
   },
   "outputs": [
    {
     "data": {
      "text/plain": [
       "75568"
      ]
     },
     "execution_count": 7,
     "metadata": {},
     "output_type": "execute_result"
    }
   ],
   "source": [
    "len(liX)"
   ]
  },
  {
   "cell_type": "code",
   "execution_count": 27,
   "metadata": {
    "collapsed": false
   },
   "outputs": [
    {
     "data": {
      "text/plain": [
       "0.0"
      ]
     },
     "execution_count": 27,
     "metadata": {},
     "output_type": "execute_result"
    }
   ],
   "source": [
    "float(len(set(g1).intersection(set(g2))))/float(len(set(g1).union(set(g2))))"
   ]
  },
  {
   "cell_type": "code",
   "execution_count": null,
   "metadata": {
    "collapsed": true
   },
   "outputs": [],
   "source": []
  },
  {
   "cell_type": "code",
   "execution_count": 109,
   "metadata": {
    "collapsed": true
   },
   "outputs": [],
   "source": [
    "g1,g2,g3 = groups[:3]"
   ]
  },
  {
   "cell_type": "code",
   "execution_count": 110,
   "metadata": {
    "collapsed": false
   },
   "outputs": [
    {
     "data": {
      "text/plain": [
       "((24488, 24489, 24490),\n",
       " (36224, 36225, 36227, 36229, 36230, 36231),\n",
       " (5767, 84558))"
      ]
     },
     "execution_count": 110,
     "metadata": {},
     "output_type": "execute_result"
    }
   ],
   "source": [
    "g1,g2,g3"
   ]
  },
  {
   "cell_type": "code",
   "execution_count": 111,
   "metadata": {
    "collapsed": false
   },
   "outputs": [
    {
     "ename": "TypeError",
     "evalue": "unsupported operand type(s) for -: 'tuple' and 'tuple'",
     "output_type": "error",
     "traceback": [
      "\u001b[1;31m---------------------------------------------------------------------------\u001b[0m",
      "\u001b[1;31mTypeError\u001b[0m                                 Traceback (most recent call last)",
      "\u001b[1;32m<ipython-input-111-65dd4b75d659>\u001b[0m in \u001b[0;36m<module>\u001b[1;34m()\u001b[0m\n\u001b[1;32m----> 1\u001b[1;33m \u001b[0mg1\u001b[0m \u001b[1;33m-\u001b[0m \u001b[0mg1\u001b[0m\u001b[1;33m\u001b[0m\u001b[0m\n\u001b[0m",
      "\u001b[1;31mTypeError\u001b[0m: unsupported operand type(s) for -: 'tuple' and 'tuple'"
     ]
    }
   ],
   "source": [
    "from functools import partial\n",
    "import numpy as np\n",
    "import cPickle as pickle\n",
    "\n",
    "from joblib import Parallel, delayed\n",
    "import more_itertools\n",
    "import random\n",
    "from scipy.spatial.distance import cosine\n",
    "from collections import defaultdict\n",
    "from scipy.spatial.distance import cosine\n",
    "import pandas as pd\n",
    "import os\n",
    "import cPickle as pickle\n",
    "\n",
    "import psutil\n",
    "from multiprocessing import cpu_count\n",
    "import itertools\n",
    "\n",
    "p = psutil.Process(os.getpid())\n",
    "p.set_cpu_affinity(list(range(cpu_count())))\n"
   ]
  },
  {
   "cell_type": "code",
   "execution_count": null,
   "metadata": {
    "collapsed": true
   },
   "outputs": [],
   "source": [
    "def parallelize_func(iterable, func, chunksz=1, n_jobs=16, *args, **kwargs):\n",
    "    \"\"\" Parallelize a function over each element of an iterable. \"\"\"\n",
    "    chunker = func\n",
    "    chunks = more_itertools.chunked(iterable, chunksz)\n",
    "    chunks_results = Parallel(n_jobs=n_jobs, verbose=50)(\n",
    "        delayed(chunker)(chunk, *args, **kwargs) for chunk in chunks)\n",
    "    results = more_itertools.flatten(chunks_results)\n",
    "    return list(results)"
   ]
  },
  {
   "cell_type": "code",
   "execution_count": 25,
   "metadata": {
    "collapsed": true
   },
   "outputs": [],
   "source": [
    "import more_itertools as mi"
   ]
  },
  {
   "cell_type": "code",
   "execution_count": 50,
   "metadata": {
    "collapsed": true
   },
   "outputs": [],
   "source": [
    "comb1 = itertools.combinations(xrange(70000),2)"
   ]
  },
  {
   "cell_type": "code",
   "execution_count": 51,
   "metadata": {
    "collapsed": true
   },
   "outputs": [],
   "source": [
    "chunks = mi.chunked(comb1,1000)"
   ]
  },
  {
   "cell_type": "raw",
   "metadata": {
    "collapsed": false
   },
   "source": [
    "count = 0\n",
    "exG = open(\"/mnt/scratch1/hirak/RapCompressData/exgraph.net\",'w')\n",
    "for chunk in chunks:\n",
    "    count += 1\n",
    "    for i,j in chunk:\n",
    "        g1 = groups[i]\n",
    "        g2 = groups[j]\n",
    "        eW = float(len(set(g1).intersection(set(g2))))/float(len(set(g1).union(set(g2))))\n",
    "        if eW > 0.0:\n",
    "            exG.write(\"{}\\t{}\\t{}\\n\".format(i,j,eW))"
   ]
  },
  {
   "cell_type": "code",
   "execution_count": 47,
   "metadata": {
    "collapsed": false
   },
   "outputs": [
    {
     "data": {
      "text/plain": [
       "2449965"
      ]
     },
     "execution_count": 47,
     "metadata": {},
     "output_type": "execute_result"
    }
   ],
   "source": [
    "count"
   ]
  },
  {
   "cell_type": "code",
   "execution_count": null,
   "metadata": {
    "collapsed": true
   },
   "outputs": [],
   "source": []
  }
 ],
 "metadata": {
  "kernelspec": {
   "display_name": "Python 2",
   "language": "python",
   "name": "python2"
  },
  "language_info": {
   "codemirror_mode": {
    "name": "ipython",
    "version": 2
   },
   "file_extension": ".py",
   "mimetype": "text/x-python",
   "name": "python",
   "nbconvert_exporter": "python",
   "pygments_lexer": "ipython2",
   "version": "2.7.8"
  }
 },
 "nbformat": 4,
 "nbformat_minor": 0
}

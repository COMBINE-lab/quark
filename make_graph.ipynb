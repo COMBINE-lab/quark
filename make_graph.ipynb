{
 "cells": [
  {
   "cell_type": "code",
   "execution_count": 5,
   "metadata": {
    "collapsed": true
   },
   "outputs": [],
   "source": [
    "#copy this to separate place"
   ]
  },
  {
   "cell_type": "code",
   "execution_count": 6,
   "metadata": {
    "collapsed": true
   },
   "outputs": [],
   "source": [
    "#Make a graph out of equivalence classes. Edge distance is Jaccard"
   ]
  },
  {
   "cell_type": "code",
   "execution_count": 2,
   "metadata": {
    "collapsed": true
   },
   "outputs": [],
   "source": [
    "class EquivCollection(object):\n",
    "    def __init__(self):\n",
    "        self.tnames = []\n",
    "        self.eqClasses = {}\n",
    "        self.hasNames = False\n",
    "\n",
    "    def setNames(self, names):\n",
    "        self.tnames = names\n",
    "        self.hasNames = True\n",
    "\n",
    "    def add(self, tids, count):\n",
    "        if tids in self.eqClasses:\n",
    "            self.eqClasses[tids] += count\n",
    "        else:\n",
    "            self.eqClasses[tids] = count\n",
    "\n",
    "def readEqClass(eqfile, eqCollection):\n",
    "    with open(eqfile) as ifile:\n",
    "        numTran = int(ifile.readline().rstrip())\n",
    "        numEq = int(ifile.readline().rstrip())\n",
    "        print(\"file: {}; # tran = {}; # eq = {}\".format(eqfile, numTran, numEq))\n",
    "        if not eqCollection.hasNames:\n",
    "            tnames = []\n",
    "            for i in xrange(numTran):\n",
    "                tnames.append(ifile.readline().rstrip())\n",
    "            eqCollection.setNames(tnames)\n",
    "        else:\n",
    "            for i in xrange(numTran):\n",
    "                ifile.readline()\n",
    "\n",
    "        for i in xrange(numEq):\n",
    "            toks = map(int, ifile.readline().rstrip().split('\\t'))\n",
    "            nt = toks[0]\n",
    "            tids = tuple(toks[1:-1])\n",
    "            count = toks[-1]\n",
    "            eqCollection.add(tids, count)\n",
    "            \n",
    "def getCountsFromEquiv(eqCollection):\n",
    "    countDict = {}\n",
    "    tn = eqCollection.tnames\n",
    "    for tids, count in eqCollection.eqClasses.iteritems():\n",
    "        for t in tids:\n",
    "            if tn[t] in countDict:\n",
    "                countDict[tn[t]] += count\n",
    "            else:\n",
    "                countDict[tn[t]] = count\n",
    "    # ensure no division by 0\n",
    "    for t in eqCollection.tnames:\n",
    "        if t in countDict:\n",
    "            countDict[t] += 1.0\n",
    "        else:\n",
    "            countDict[t] = 1.0\n",
    "    return countDict\n",
    "\n",
    "def buildEqGraph(eqPath):\n",
    "    tn = eqiv.tnames"
   ]
  },
  {
   "cell_type": "code",
   "execution_count": 22,
   "metadata": {
    "collapsed": false
   },
   "outputs": [],
   "source": [
    "def revcomp(s):\n",
    "    comp = {'A':'T','T':'A','G':'C','C':'G','a':'t','t':'a','g':'c','c':'g','N':'N'}\n",
    "    r = ''.join(comp[e] for e in s[::-1])\n",
    "    return r"
   ]
  },
  {
   "cell_type": "code",
   "execution_count": 3,
   "metadata": {
    "collapsed": false
   },
   "outputs": [
    {
     "name": "stdout",
     "output_type": "stream",
     "text": [
      "file: /home/hirak/Projects/quark/quickQuark/data/res/aux/eq_classes.txt; # tran = 95309; # eq = 186611\n"
     ]
    }
   ],
   "source": [
    "eqPath = \"/home/hirak/Projects/quark/quickQuark/data/res/aux/eq_classes.txt\"\n",
    "equiv = EquivCollection()\n",
    "readEqClass(eqPath, equiv)\n",
    "groups = equiv.eqClasses.keys()"
   ]
  },
  {
   "cell_type": "code",
   "execution_count": 11,
   "metadata": {
    "collapsed": false
   },
   "outputs": [
    {
     "data": {
      "text/plain": [
       "'ENST00000442160.3|ENSG00000119725.13|OTTHUMG00000171257.3|OTTHUMT00000412595.1|ZNF410-012|ZNF410|2076|UTR5:1-194|CDS:195-1745|UTR3:1746-2076|'"
      ]
     },
     "execution_count": 11,
     "metadata": {},
     "output_type": "execute_result"
    }
   ],
   "source": [
    "equiv.tnames[61539]"
   ]
  },
  {
   "cell_type": "code",
   "execution_count": 17,
   "metadata": {
    "collapsed": false
   },
   "outputs": [],
   "source": [
    "import linecache\n",
    "txpPath = \"/home/hirak/Projects/quark/quickQuark/data/gencode_transcript/gencode.v19.pc_transcripts.fa\"\n",
    "seq = linecache.getline(txpPath,61540*2).rstrip()"
   ]
  },
  {
   "cell_type": "code",
   "execution_count": 33,
   "metadata": {
    "collapsed": false
   },
   "outputs": [
    {
     "data": {
      "text/plain": [
       "'TCTGGCCCTAATTATGCTCTTCTATACCCACATACAGATCTTTTTTTTTTTTTT'"
      ]
     },
     "execution_count": 33,
     "metadata": {},
     "output_type": "execute_result"
    }
   ],
   "source": [
    "\"TCTGGCCCTAATTATGCTCTTCTATACCCACATACAGATCTTTTTTTTTTTTTT\""
   ]
  },
  {
   "cell_type": "code",
   "execution_count": 37,
   "metadata": {
    "collapsed": false
   },
   "outputs": [
    {
     "data": {
      "text/plain": [
       "'GTAAATCCACAAGAGAGTCTCGCTCCGTTGCCCAGGCTGGAGTGCAGTGGTGCG'"
      ]
     },
     "execution_count": 37,
     "metadata": {},
     "output_type": "execute_result"
    }
   ],
   "source": [
    "seq[1628:1628+54]"
   ]
  },
  {
   "cell_type": "code",
   "execution_count": 54,
   "metadata": {
    "collapsed": false
   },
   "outputs": [
    {
     "name": "stdout",
     "output_type": "stream",
     "text": [
      "file: /mnt/scratch1/hirak/RapCompressData/sailfish/sailfish_quant/aux/eq_classes.txt; # tran = 86331; # eq = 75568\n"
     ]
    }
   ],
   "source": [
    "eqPath = \"/mnt/scratch1/hirak/RapCompressData/sailfish/sailfish_quant/aux/eq_classes.txt\"\n",
    "equiv = EquivCollection()\n",
    "readEqClass(eqPath, equiv)\n",
    "groups = equiv.eqClasses.keys()"
   ]
  },
  {
   "cell_type": "code",
   "execution_count": 66,
   "metadata": {
    "collapsed": false
   },
   "outputs": [],
   "source": [
    "from collections import defaultdict\n",
    "classDict = {}\n",
    "tr2eq = defaultdict(list)\n",
    "for gkey,tids in enumerate(equiv.eqClasses.keys()):\n",
    "    classDict[gkey] = tids\n",
    "    for t in tids:\n",
    "        tr2eq[t].append(gkey)"
   ]
  },
  {
   "cell_type": "code",
   "execution_count": 84,
   "metadata": {
    "collapsed": false
   },
   "outputs": [
    {
     "data": {
      "text/plain": [
       "{24488, 24489, 24490, 36224, 36225, 36227, 36229, 36230, 36231}"
      ]
     },
     "execution_count": 84,
     "metadata": {},
     "output_type": "execute_result"
    }
   ],
   "source": [
    "set(classDict[0]).union(set(classDict[1]))"
   ]
  },
  {
   "cell_type": "code",
   "execution_count": 107,
   "metadata": {
    "collapsed": false
   },
   "outputs": [],
   "source": [
    "import itertools\n",
    "\n",
    "oMetaFile = open(\"/mnt/scratch1/hirak/RapCompressData/metagraph.info\",'w')\n",
    "tn = equiv.tnames\n",
    "oMetaFile.write(\"{}\\n\".format(len(tn)))\n",
    "for tname in tn:\n",
    "    oMetaFile.write(\"{}\\n\".format(tname))\n",
    "for g in groups:\n",
    "    oMetaFile.write(\"{}\\n\".format(g))"
   ]
  },
  {
   "cell_type": "code",
   "execution_count": 106,
   "metadata": {
    "collapsed": false
   },
   "outputs": [
    {
     "ename": "KeyboardInterrupt",
     "evalue": "",
     "output_type": "error",
     "traceback": [
      "\u001b[1;31m---------------------------------------------------------------------------\u001b[0m",
      "\u001b[1;31mKeyboardInterrupt\u001b[0m                         Traceback (most recent call last)",
      "\u001b[1;32m<ipython-input-106-2342b0260ad0>\u001b[0m in \u001b[0;36m<module>\u001b[1;34m()\u001b[0m\n\u001b[0;32m      2\u001b[0m \u001b[0moGraphFile\u001b[0m \u001b[1;33m=\u001b[0m \u001b[0mopen\u001b[0m\u001b[1;33m(\u001b[0m\u001b[1;34m\"/mnt/scratch1/hirak/RapCompressData/graph.net\"\u001b[0m\u001b[1;33m,\u001b[0m\u001b[1;34m'w'\u001b[0m\u001b[1;33m)\u001b[0m\u001b[1;33m\u001b[0m\u001b[0m\n\u001b[0;32m      3\u001b[0m \u001b[1;32mfor\u001b[0m \u001b[0mi\u001b[0m \u001b[1;32min\u001b[0m \u001b[0mliX\u001b[0m\u001b[1;33m:\u001b[0m\u001b[1;33m\u001b[0m\u001b[0m\n\u001b[1;32m----> 4\u001b[1;33m     \u001b[1;32mfor\u001b[0m \u001b[0mj\u001b[0m \u001b[1;32min\u001b[0m \u001b[0mxrange\u001b[0m\u001b[1;33m(\u001b[0m\u001b[0mi\u001b[0m\u001b[1;33m+\u001b[0m\u001b[1;36m1\u001b[0m\u001b[1;33m,\u001b[0m\u001b[0mlen\u001b[0m\u001b[1;33m(\u001b[0m\u001b[0mliX\u001b[0m\u001b[1;33m)\u001b[0m\u001b[1;33m)\u001b[0m\u001b[1;33m:\u001b[0m\u001b[1;33m\u001b[0m\u001b[0m\n\u001b[0m\u001b[0;32m      5\u001b[0m         \u001b[0mg1\u001b[0m \u001b[1;33m=\u001b[0m \u001b[0mgroups\u001b[0m\u001b[1;33m[\u001b[0m\u001b[0mi\u001b[0m\u001b[1;33m]\u001b[0m\u001b[1;33m\u001b[0m\u001b[0m\n\u001b[0;32m      6\u001b[0m         \u001b[0mg2\u001b[0m \u001b[1;33m=\u001b[0m \u001b[0mgroups\u001b[0m\u001b[1;33m[\u001b[0m\u001b[0mj\u001b[0m\u001b[1;33m]\u001b[0m\u001b[1;33m\u001b[0m\u001b[0m\n",
      "\u001b[1;31mKeyboardInterrupt\u001b[0m: "
     ]
    }
   ],
   "source": [
    "liX = xrange(len(groups))\n",
    "oGraphFile = open(\"/mnt/scratch1/hirak/RapCompressData/graph.net\",'w')\n",
    "for i in liX:\n",
    "    for j in xrange(i+1,len(liX)):\n",
    "        g1 = groups[i]\n",
    "        g2 = groups[j]\n",
    "        eW = float(len(set(g1).intersection(set(g2))))/float(len(set(g1).union(set(g2))))\n",
    "        if eW > 0.0:\n",
    "            oGraphFile.write(\"{}\\t{}\\t{}\\n\".format(i,j,eW))"
   ]
  },
  {
   "cell_type": "code",
   "execution_count": null,
   "metadata": {
    "collapsed": true
   },
   "outputs": [],
   "source": [
    "liX = xrange(len(groups))\n",
    "oGraphFile = open(\"/mnt/scratch1/hirak/RapCompressData/graph.net\",'w')\n",
    "for i,j in itertools.combinations(a,2):\n",
    "    g1 = groups[i]\n",
    "    g2 = groups[j]\n",
    "    eW = float(len(set(g1).intersection(set(g2))))/float(len(set(g1).union(set(g2))))\n",
    "    if eW > 0.0:\n",
    "        oGraphFile.write(\"{}\\t{}\\t{}\\n\".format(i,j,eW))"
   ]
  },
  {
   "cell_type": "code",
   "execution_count": 14,
   "metadata": {
    "collapsed": false
   },
   "outputs": [],
   "source": [
    "import itertools\n",
    "def test1(comb,a):\n",
    "    #a = [0,1,2,3,4,6]\n",
    "    for i,j in itertools.combinations(a,2):\n",
    "        #print i,j\n",
    "        comb.append((i,j))\n",
    "    #return comb\n",
    "def test2(comb1,comb2,a):\n",
    "    c = 0\n",
    "    for i in a:\n",
    "        for j in xrange(i+1,len(a)):\n",
    "            comb1[c] = i\n",
    "            comb2[c] = j\n",
    "            c += 1\n",
    "            #comb.append((i,j))\n",
    "    #return comb"
   ]
  },
  {
   "cell_type": "code",
   "execution_count": 3,
   "metadata": {
    "collapsed": false
   },
   "outputs": [],
   "source": [
    "\n",
    "liX = xrange(len(groups))"
   ]
  },
  {
   "cell_type": "code",
   "execution_count": null,
   "metadata": {
    "collapsed": true
   },
   "outputs": [],
   "source": [
    "comb1 = []\n",
    "test2(comb1,xrange(70000))"
   ]
  },
  {
   "cell_type": "code",
   "execution_count": 65,
   "metadata": {
    "collapsed": false
   },
   "outputs": [],
   "source": [
    "test2(comb2,liX)"
   ]
  },
  {
   "cell_type": "code",
   "execution_count": 19,
   "metadata": {
    "collapsed": false
   },
   "outputs": [],
   "source": [
    "import numpy as np\n",
    "lX = len(liX)\n",
    "sZ = ((lX)*(lX-1))/2\n",
    "comb2i = np.zeros(sZ)\n",
    "comb2j = np.zeros(sZ)\n",
    "comb1 = []\n",
    "#comb2 = []\n",
    "#test1(comb1,xrange(5))\n",
    "test2(comb2i,comb2j,xrange(70000))"
   ]
  },
  {
   "cell_type": "code",
   "execution_count": 7,
   "metadata": {
    "collapsed": false
   },
   "outputs": [
    {
     "data": {
      "text/plain": [
       "75568"
      ]
     },
     "execution_count": 7,
     "metadata": {},
     "output_type": "execute_result"
    }
   ],
   "source": [
    "len(liX)"
   ]
  },
  {
   "cell_type": "code",
   "execution_count": 27,
   "metadata": {
    "collapsed": false
   },
   "outputs": [
    {
     "data": {
      "text/plain": [
       "0.0"
      ]
     },
     "execution_count": 27,
     "metadata": {},
     "output_type": "execute_result"
    }
   ],
   "source": [
    "float(len(set(g1).intersection(set(g2))))/float(len(set(g1).union(set(g2))))"
   ]
  },
  {
   "cell_type": "code",
   "execution_count": null,
   "metadata": {
    "collapsed": true
   },
   "outputs": [],
   "source": []
  },
  {
   "cell_type": "code",
   "execution_count": 109,
   "metadata": {
    "collapsed": true
   },
   "outputs": [],
   "source": [
    "g1,g2,g3 = groups[:3]"
   ]
  },
  {
   "cell_type": "code",
   "execution_count": 110,
   "metadata": {
    "collapsed": false
   },
   "outputs": [
    {
     "data": {
      "text/plain": [
       "((24488, 24489, 24490),\n",
       " (36224, 36225, 36227, 36229, 36230, 36231),\n",
       " (5767, 84558))"
      ]
     },
     "execution_count": 110,
     "metadata": {},
     "output_type": "execute_result"
    }
   ],
   "source": [
    "g1,g2,g3"
   ]
  },
  {
   "cell_type": "code",
   "execution_count": 111,
   "metadata": {
    "collapsed": false
   },
   "outputs": [
    {
     "ename": "TypeError",
     "evalue": "unsupported operand type(s) for -: 'tuple' and 'tuple'",
     "output_type": "error",
     "traceback": [
      "\u001b[1;31m---------------------------------------------------------------------------\u001b[0m",
      "\u001b[1;31mTypeError\u001b[0m                                 Traceback (most recent call last)",
      "\u001b[1;32m<ipython-input-111-65dd4b75d659>\u001b[0m in \u001b[0;36m<module>\u001b[1;34m()\u001b[0m\n\u001b[1;32m----> 1\u001b[1;33m \u001b[0mg1\u001b[0m \u001b[1;33m-\u001b[0m \u001b[0mg1\u001b[0m\u001b[1;33m\u001b[0m\u001b[0m\n\u001b[0m",
      "\u001b[1;31mTypeError\u001b[0m: unsupported operand type(s) for -: 'tuple' and 'tuple'"
     ]
    }
   ],
   "source": [
    "from functools import partial\n",
    "import numpy as np\n",
    "import cPickle as pickle\n",
    "\n",
    "from joblib import Parallel, delayed\n",
    "import more_itertools\n",
    "import random\n",
    "from scipy.spatial.distance import cosine\n",
    "from collections import defaultdict\n",
    "from scipy.spatial.distance import cosine\n",
    "import pandas as pd\n",
    "import os\n",
    "import cPickle as pickle\n",
    "\n",
    "import psutil\n",
    "from multiprocessing import cpu_count\n",
    "import itertools\n",
    "\n",
    "p = psutil.Process(os.getpid())\n",
    "p.set_cpu_affinity(list(range(cpu_count())))\n"
   ]
  },
  {
   "cell_type": "code",
   "execution_count": null,
   "metadata": {
    "collapsed": true
   },
   "outputs": [],
   "source": [
    "def parallelize_func(iterable, func, chunksz=1, n_jobs=16, *args, **kwargs):\n",
    "    \"\"\" Parallelize a function over each element of an iterable. \"\"\"\n",
    "    chunker = func\n",
    "    chunks = more_itertools.chunked(iterable, chunksz)\n",
    "    chunks_results = Parallel(n_jobs=n_jobs, verbose=50)(\n",
    "        delayed(chunker)(chunk, *args, **kwargs) for chunk in chunks)\n",
    "    results = more_itertools.flatten(chunks_results)\n",
    "    return list(results)"
   ]
  },
  {
   "cell_type": "code",
   "execution_count": 25,
   "metadata": {
    "collapsed": true
   },
   "outputs": [],
   "source": [
    "import more_itertools as mi"
   ]
  },
  {
   "cell_type": "code",
   "execution_count": 50,
   "metadata": {
    "collapsed": true
   },
   "outputs": [],
   "source": [
    "comb1 = itertools.combinations(xrange(70000),2)"
   ]
  },
  {
   "cell_type": "code",
   "execution_count": 51,
   "metadata": {
    "collapsed": true
   },
   "outputs": [],
   "source": [
    "chunks = mi.chunked(comb1,1000)"
   ]
  },
  {
   "cell_type": "raw",
   "metadata": {
    "collapsed": false
   },
   "source": [
    "count = 0\n",
    "exG = open(\"/mnt/scratch1/hirak/RapCompressData/exgraph.net\",'w')\n",
    "for chunk in chunks:\n",
    "    count += 1\n",
    "    for i,j in chunk:\n",
    "        g1 = groups[i]\n",
    "        g2 = groups[j]\n",
    "        eW = float(len(set(g1).intersection(set(g2))))/float(len(set(g1).union(set(g2))))\n",
    "        if eW > 0.0:\n",
    "            exG.write(\"{}\\t{}\\t{}\\n\".format(i,j,eW))"
   ]
  },
  {
   "cell_type": "code",
   "execution_count": 47,
   "metadata": {
    "collapsed": false
   },
   "outputs": [
    {
     "data": {
      "text/plain": [
       "2449965"
      ]
     },
     "execution_count": 47,
     "metadata": {},
     "output_type": "execute_result"
    }
   ],
   "source": [
    "count"
   ]
  },
  {
   "cell_type": "code",
   "execution_count": 2,
   "metadata": {
    "collapsed": false
   },
   "outputs": [
    {
     "name": "stderr",
     "output_type": "stream",
     "text": [
      "/usr/local/lib/python2.7/dist-packages/matplotlib/__init__.py:872: UserWarning: axes.color_cycle is deprecated and replaced with axes.prop_cycle; please use the latter.\n",
      "  warnings.warn(self.msg_depr % (key, alt_key))\n"
     ]
    }
   ],
   "source": [
    "%matplotlib inline\n",
    "import numpy as np\n",
    "import pandas as pd\n",
    "from scipy import stats, integrate\n",
    "import matplotlib.pyplot as plt\n",
    "import seaborn as sns\n",
    "sns.set(color_codes=True)"
   ]
  },
  {
   "cell_type": "code",
   "execution_count": 3,
   "metadata": {
    "collapsed": true
   },
   "outputs": [],
   "source": [
    "df = pd.read_table(\"/mnt/scratch1/hirak/RapCompressData/gv1.net\",sep=\"\\t\",header=None)"
   ]
  },
  {
   "cell_type": "code",
   "execution_count": 79,
   "metadata": {
    "collapsed": false
   },
   "outputs": [
    {
     "data": {
      "text/plain": [
       "<matplotlib.axes._subplots.AxesSubplot at 0x7ff136ca4a90>"
      ]
     },
     "execution_count": 79,
     "metadata": {},
     "output_type": "execute_result"
    },
    {
     "data": {
      "image/png": "[encoded data removed]",
      "text/plain": [
       "<matplotlib.figure.Figure at 0x7feab8dd3b50>"
      ]
     },
     "metadata": {},
     "output_type": "display_data"
    }
   ],
   "source": [
    "sns.distplot(df[2])"
   ]
  },
  {
   "cell_type": "code",
   "execution_count": 4,
   "metadata": {
    "collapsed": false
   },
   "outputs": [
    {
     "data": {
      "text/plain": [
       "<matplotlib.axes._subplots.AxesSubplot at 0x7f7002c5e090>"
      ]
     },
     "execution_count": 4,
     "metadata": {},
     "output_type": "execute_result"
    },
    {
     "name": "stderr",
     "output_type": "stream",
     "text": [
      "/usr/local/lib/python2.7/dist-packages/matplotlib/font_manager.py:1287: UserWarning: findfont: Font family [u'sans-serif'] not found. Falling back to Bitstream Vera Sans\n",
      "  (prop.get_family(), self.defaultFamily[fontext]))\n",
      "/usr/local/lib/python2.7/dist-packages/matplotlib/font_manager.py:1297: UserWarning: findfont: Could not match :family=Bitstream Vera Sans:style=normal:variant=normal:weight=400:stretch=normal:size=10.0. Returning /usr/share/matplotlib/mpl-data/fonts/ttf/cmb10.ttf\n",
      "  UserWarning)\n",
      "/usr/local/lib/python2.7/dist-packages/matplotlib/font_manager.py:1297: UserWarning: findfont: Could not match :family=Bitstream Vera Sans:style=normal:variant=normal:weight=400:stretch=normal:size=11.0. Returning /usr/share/matplotlib/mpl-data/fonts/ttf/cmb10.ttf\n",
      "  UserWarning)\n"
     ]
    },
    {
     "data": {
      "image/png": "[encoded data removed]",
      "text/plain": [
       "<matplotlib.figure.Figure at 0x7f70400b4490>"
      ]
     },
     "metadata": {},
     "output_type": "display_data"
    }
   ],
   "source": [
    "df = pd.read_table(\"/mnt/scratch1/hirak/RapCompressData/gv2.net\",sep=\"\\t\",header=None)\n",
    "sns.distplot(df[2])"
   ]
  },
  {
   "cell_type": "code",
   "execution_count": 5,
   "metadata": {
    "collapsed": false
   },
   "outputs": [
    {
     "data": {
      "text/html": [
       "<div>\n",
       "<table border=\"1\" class=\"dataframe\">\n",
       "  <thead>\n",
       "    <tr style=\"text-align: right;\">\n",
       "      <th></th>\n",
       "      <th>0</th>\n",
       "      <th>1</th>\n",
       "      <th>2</th>\n",
       "    </tr>\n",
       "  </thead>\n",
       "  <tbody>\n",
       "    <tr>\n",
       "      <th>0</th>\n",
       "      <td>32917</td>\n",
       "      <td>7566</td>\n",
       "      <td>0.420000</td>\n",
       "    </tr>\n",
       "    <tr>\n",
       "      <th>1</th>\n",
       "      <td>24134</td>\n",
       "      <td>55626</td>\n",
       "      <td>0.148387</td>\n",
       "    </tr>\n",
       "    <tr>\n",
       "      <th>2</th>\n",
       "      <td>38900</td>\n",
       "      <td>29177</td>\n",
       "      <td>0.685714</td>\n",
       "    </tr>\n",
       "    <tr>\n",
       "      <th>3</th>\n",
       "      <td>70367</td>\n",
       "      <td>5234</td>\n",
       "      <td>0.036458</td>\n",
       "    </tr>\n",
       "    <tr>\n",
       "      <th>4</th>\n",
       "      <td>63049</td>\n",
       "      <td>56290</td>\n",
       "      <td>0.111111</td>\n",
       "    </tr>\n",
       "    <tr>\n",
       "      <th>5</th>\n",
       "      <td>1535</td>\n",
       "      <td>46448</td>\n",
       "      <td>0.352941</td>\n",
       "    </tr>\n",
       "    <tr>\n",
       "      <th>6</th>\n",
       "      <td>46970</td>\n",
       "      <td>56790</td>\n",
       "      <td>0.200000</td>\n",
       "    </tr>\n",
       "    <tr>\n",
       "      <th>7</th>\n",
       "      <td>54036</td>\n",
       "      <td>73537</td>\n",
       "      <td>0.206897</td>\n",
       "    </tr>\n",
       "    <tr>\n",
       "      <th>8</th>\n",
       "      <td>19124</td>\n",
       "      <td>42474</td>\n",
       "      <td>0.428571</td>\n",
       "    </tr>\n",
       "    <tr>\n",
       "      <th>9</th>\n",
       "      <td>57882</td>\n",
       "      <td>36875</td>\n",
       "      <td>0.500000</td>\n",
       "    </tr>\n",
       "    <tr>\n",
       "      <th>10</th>\n",
       "      <td>70240</td>\n",
       "      <td>24775</td>\n",
       "      <td>0.500000</td>\n",
       "    </tr>\n",
       "    <tr>\n",
       "      <th>11</th>\n",
       "      <td>25606</td>\n",
       "      <td>40941</td>\n",
       "      <td>0.090909</td>\n",
       "    </tr>\n",
       "    <tr>\n",
       "      <th>12</th>\n",
       "      <td>42782</td>\n",
       "      <td>14206</td>\n",
       "      <td>0.625000</td>\n",
       "    </tr>\n",
       "    <tr>\n",
       "      <th>13</th>\n",
       "      <td>48438</td>\n",
       "      <td>9052</td>\n",
       "      <td>0.666667</td>\n",
       "    </tr>\n",
       "    <tr>\n",
       "      <th>14</th>\n",
       "      <td>6800</td>\n",
       "      <td>2029</td>\n",
       "      <td>0.041667</td>\n",
       "    </tr>\n",
       "    <tr>\n",
       "      <th>15</th>\n",
       "      <td>48794</td>\n",
       "      <td>69017</td>\n",
       "      <td>0.411111</td>\n",
       "    </tr>\n",
       "    <tr>\n",
       "      <th>16</th>\n",
       "      <td>30611</td>\n",
       "      <td>46866</td>\n",
       "      <td>0.761905</td>\n",
       "    </tr>\n",
       "    <tr>\n",
       "      <th>17</th>\n",
       "      <td>74808</td>\n",
       "      <td>11943</td>\n",
       "      <td>0.131579</td>\n",
       "    </tr>\n",
       "    <tr>\n",
       "      <th>18</th>\n",
       "      <td>26684</td>\n",
       "      <td>22557</td>\n",
       "      <td>0.375000</td>\n",
       "    </tr>\n",
       "    <tr>\n",
       "      <th>19</th>\n",
       "      <td>32231</td>\n",
       "      <td>50459</td>\n",
       "      <td>0.340909</td>\n",
       "    </tr>\n",
       "    <tr>\n",
       "      <th>20</th>\n",
       "      <td>17788</td>\n",
       "      <td>30152</td>\n",
       "      <td>0.347826</td>\n",
       "    </tr>\n",
       "    <tr>\n",
       "      <th>21</th>\n",
       "      <td>75203</td>\n",
       "      <td>50399</td>\n",
       "      <td>0.204545</td>\n",
       "    </tr>\n",
       "    <tr>\n",
       "      <th>22</th>\n",
       "      <td>39436</td>\n",
       "      <td>2539</td>\n",
       "      <td>0.045455</td>\n",
       "    </tr>\n",
       "    <tr>\n",
       "      <th>23</th>\n",
       "      <td>29013</td>\n",
       "      <td>38253</td>\n",
       "      <td>0.410714</td>\n",
       "    </tr>\n",
       "    <tr>\n",
       "      <th>24</th>\n",
       "      <td>64607</td>\n",
       "      <td>36829</td>\n",
       "      <td>0.333333</td>\n",
       "    </tr>\n",
       "    <tr>\n",
       "      <th>25</th>\n",
       "      <td>74663</td>\n",
       "      <td>68111</td>\n",
       "      <td>0.655172</td>\n",
       "    </tr>\n",
       "    <tr>\n",
       "      <th>26</th>\n",
       "      <td>26285</td>\n",
       "      <td>8275</td>\n",
       "      <td>0.400000</td>\n",
       "    </tr>\n",
       "    <tr>\n",
       "      <th>27</th>\n",
       "      <td>29416</td>\n",
       "      <td>63733</td>\n",
       "      <td>0.333333</td>\n",
       "    </tr>\n",
       "    <tr>\n",
       "      <th>28</th>\n",
       "      <td>26557</td>\n",
       "      <td>32491</td>\n",
       "      <td>0.333333</td>\n",
       "    </tr>\n",
       "    <tr>\n",
       "      <th>29</th>\n",
       "      <td>39125</td>\n",
       "      <td>66278</td>\n",
       "      <td>0.354839</td>\n",
       "    </tr>\n",
       "    <tr>\n",
       "      <th>...</th>\n",
       "      <td>...</td>\n",
       "      <td>...</td>\n",
       "      <td>...</td>\n",
       "    </tr>\n",
       "    <tr>\n",
       "      <th>3282432</th>\n",
       "      <td>58532</td>\n",
       "      <td>38815</td>\n",
       "      <td>0.025641</td>\n",
       "    </tr>\n",
       "    <tr>\n",
       "      <th>3282433</th>\n",
       "      <td>9568</td>\n",
       "      <td>72765</td>\n",
       "      <td>0.200000</td>\n",
       "    </tr>\n",
       "    <tr>\n",
       "      <th>3282434</th>\n",
       "      <td>59444</td>\n",
       "      <td>4302</td>\n",
       "      <td>0.970588</td>\n",
       "    </tr>\n",
       "    <tr>\n",
       "      <th>3282435</th>\n",
       "      <td>27875</td>\n",
       "      <td>20770</td>\n",
       "      <td>0.125000</td>\n",
       "    </tr>\n",
       "    <tr>\n",
       "      <th>3282436</th>\n",
       "      <td>9073</td>\n",
       "      <td>55296</td>\n",
       "      <td>0.500000</td>\n",
       "    </tr>\n",
       "    <tr>\n",
       "      <th>3282437</th>\n",
       "      <td>69571</td>\n",
       "      <td>43485</td>\n",
       "      <td>0.133333</td>\n",
       "    </tr>\n",
       "    <tr>\n",
       "      <th>3282438</th>\n",
       "      <td>11358</td>\n",
       "      <td>21384</td>\n",
       "      <td>0.428571</td>\n",
       "    </tr>\n",
       "    <tr>\n",
       "      <th>3282439</th>\n",
       "      <td>51763</td>\n",
       "      <td>36750</td>\n",
       "      <td>0.176471</td>\n",
       "    </tr>\n",
       "    <tr>\n",
       "      <th>3282440</th>\n",
       "      <td>18345</td>\n",
       "      <td>22615</td>\n",
       "      <td>0.190476</td>\n",
       "    </tr>\n",
       "    <tr>\n",
       "      <th>3282441</th>\n",
       "      <td>74969</td>\n",
       "      <td>30650</td>\n",
       "      <td>0.034483</td>\n",
       "    </tr>\n",
       "    <tr>\n",
       "      <th>3282442</th>\n",
       "      <td>13444</td>\n",
       "      <td>59127</td>\n",
       "      <td>0.062500</td>\n",
       "    </tr>\n",
       "    <tr>\n",
       "      <th>3282443</th>\n",
       "      <td>31876</td>\n",
       "      <td>27980</td>\n",
       "      <td>0.173913</td>\n",
       "    </tr>\n",
       "    <tr>\n",
       "      <th>3282444</th>\n",
       "      <td>42219</td>\n",
       "      <td>7700</td>\n",
       "      <td>0.129032</td>\n",
       "    </tr>\n",
       "    <tr>\n",
       "      <th>3282445</th>\n",
       "      <td>43047</td>\n",
       "      <td>36607</td>\n",
       "      <td>0.111111</td>\n",
       "    </tr>\n",
       "    <tr>\n",
       "      <th>3282446</th>\n",
       "      <td>69433</td>\n",
       "      <td>9687</td>\n",
       "      <td>0.076923</td>\n",
       "    </tr>\n",
       "    <tr>\n",
       "      <th>3282447</th>\n",
       "      <td>56745</td>\n",
       "      <td>31474</td>\n",
       "      <td>0.074074</td>\n",
       "    </tr>\n",
       "    <tr>\n",
       "      <th>3282448</th>\n",
       "      <td>25533</td>\n",
       "      <td>46319</td>\n",
       "      <td>0.090909</td>\n",
       "    </tr>\n",
       "    <tr>\n",
       "      <th>3282449</th>\n",
       "      <td>75116</td>\n",
       "      <td>29966</td>\n",
       "      <td>0.333333</td>\n",
       "    </tr>\n",
       "    <tr>\n",
       "      <th>3282450</th>\n",
       "      <td>5247</td>\n",
       "      <td>1340</td>\n",
       "      <td>0.325000</td>\n",
       "    </tr>\n",
       "    <tr>\n",
       "      <th>3282451</th>\n",
       "      <td>37661</td>\n",
       "      <td>33265</td>\n",
       "      <td>0.372093</td>\n",
       "    </tr>\n",
       "    <tr>\n",
       "      <th>3282452</th>\n",
       "      <td>7566</td>\n",
       "      <td>3364</td>\n",
       "      <td>0.294118</td>\n",
       "    </tr>\n",
       "    <tr>\n",
       "      <th>3282453</th>\n",
       "      <td>25757</td>\n",
       "      <td>55391</td>\n",
       "      <td>0.209302</td>\n",
       "    </tr>\n",
       "    <tr>\n",
       "      <th>3282454</th>\n",
       "      <td>51855</td>\n",
       "      <td>26560</td>\n",
       "      <td>0.142857</td>\n",
       "    </tr>\n",
       "    <tr>\n",
       "      <th>3282455</th>\n",
       "      <td>41450</td>\n",
       "      <td>17167</td>\n",
       "      <td>0.250000</td>\n",
       "    </tr>\n",
       "    <tr>\n",
       "      <th>3282456</th>\n",
       "      <td>29210</td>\n",
       "      <td>22782</td>\n",
       "      <td>0.205128</td>\n",
       "    </tr>\n",
       "    <tr>\n",
       "      <th>3282457</th>\n",
       "      <td>59082</td>\n",
       "      <td>37275</td>\n",
       "      <td>0.333333</td>\n",
       "    </tr>\n",
       "    <tr>\n",
       "      <th>3282458</th>\n",
       "      <td>72427</td>\n",
       "      <td>59477</td>\n",
       "      <td>0.062500</td>\n",
       "    </tr>\n",
       "    <tr>\n",
       "      <th>3282459</th>\n",
       "      <td>69338</td>\n",
       "      <td>57514</td>\n",
       "      <td>0.512195</td>\n",
       "    </tr>\n",
       "    <tr>\n",
       "      <th>3282460</th>\n",
       "      <td>13220</td>\n",
       "      <td>3961</td>\n",
       "      <td>0.229167</td>\n",
       "    </tr>\n",
       "    <tr>\n",
       "      <th>3282461</th>\n",
       "      <td>3715</td>\n",
       "      <td>73179</td>\n",
       "      <td>0.076923</td>\n",
       "    </tr>\n",
       "  </tbody>\n",
       "</table>\n",
       "<p>3282462 rows × 3 columns</p>\n",
       "</div>"
      ],
      "text/plain": [
       "             0      1         2\n",
       "0        32917   7566  0.420000\n",
       "1        24134  55626  0.148387\n",
       "2        38900  29177  0.685714\n",
       "3        70367   5234  0.036458\n",
       "4        63049  56290  0.111111\n",
       "5         1535  46448  0.352941\n",
       "6        46970  56790  0.200000\n",
       "7        54036  73537  0.206897\n",
       "8        19124  42474  0.428571\n",
       "9        57882  36875  0.500000\n",
       "10       70240  24775  0.500000\n",
       "11       25606  40941  0.090909\n",
       "12       42782  14206  0.625000\n",
       "13       48438   9052  0.666667\n",
       "14        6800   2029  0.041667\n",
       "15       48794  69017  0.411111\n",
       "16       30611  46866  0.761905\n",
       "17       74808  11943  0.131579\n",
       "18       26684  22557  0.375000\n",
       "19       32231  50459  0.340909\n",
       "20       17788  30152  0.347826\n",
       "21       75203  50399  0.204545\n",
       "22       39436   2539  0.045455\n",
       "23       29013  38253  0.410714\n",
       "24       64607  36829  0.333333\n",
       "25       74663  68111  0.655172\n",
       "26       26285   8275  0.400000\n",
       "27       29416  63733  0.333333\n",
       "28       26557  32491  0.333333\n",
       "29       39125  66278  0.354839\n",
       "...        ...    ...       ...\n",
       "3282432  58532  38815  0.025641\n",
       "3282433   9568  72765  0.200000\n",
       "3282434  59444   4302  0.970588\n",
       "3282435  27875  20770  0.125000\n",
       "3282436   9073  55296  0.500000\n",
       "3282437  69571  43485  0.133333\n",
       "3282438  11358  21384  0.428571\n",
       "3282439  51763  36750  0.176471\n",
       "3282440  18345  22615  0.190476\n",
       "3282441  74969  30650  0.034483\n",
       "3282442  13444  59127  0.062500\n",
       "3282443  31876  27980  0.173913\n",
       "3282444  42219   7700  0.129032\n",
       "3282445  43047  36607  0.111111\n",
       "3282446  69433   9687  0.076923\n",
       "3282447  56745  31474  0.074074\n",
       "3282448  25533  46319  0.090909\n",
       "3282449  75116  29966  0.333333\n",
       "3282450   5247   1340  0.325000\n",
       "3282451  37661  33265  0.372093\n",
       "3282452   7566   3364  0.294118\n",
       "3282453  25757  55391  0.209302\n",
       "3282454  51855  26560  0.142857\n",
       "3282455  41450  17167  0.250000\n",
       "3282456  29210  22782  0.205128\n",
       "3282457  59082  37275  0.333333\n",
       "3282458  72427  59477  0.062500\n",
       "3282459  69338  57514  0.512195\n",
       "3282460  13220   3961  0.229167\n",
       "3282461   3715  73179  0.076923\n",
       "\n",
       "[3282462 rows x 3 columns]"
      ]
     },
     "execution_count": 5,
     "metadata": {},
     "output_type": "execute_result"
    }
   ],
   "source": [
    "df"
   ]
  },
  {
   "cell_type": "code",
   "execution_count": 93,
   "metadata": {
    "collapsed": false
   },
   "outputs": [
    {
     "data": {
      "text/plain": [
       "'S100A4__0'"
      ]
     },
     "execution_count": 93,
     "metadata": {},
     "output_type": "execute_result"
    }
   ],
   "source": [
    "' S100A4__0'.strip()"
   ]
  },
  {
   "cell_type": "code",
   "execution_count": 94,
   "metadata": {
    "collapsed": true
   },
   "outputs": [],
   "source": [
    "import networkx as nx"
   ]
  },
  {
   "cell_type": "code",
   "execution_count": 96,
   "metadata": {
    "collapsed": false
   },
   "outputs": [
    {
     "name": "stdout",
     "output_type": "stream",
     "text": [
      "1 loops, best of 3: 40 s per loop\n"
     ]
    }
   ],
   "source": [
    "%timeit G = nx.read_edgelist('/mnt/scratch1/hirak/RapCompressData/gv2.net', nodetype=int, data=(('weight',float),))"
   ]
  },
  {
   "cell_type": "code",
   "execution_count": 98,
   "metadata": {
    "collapsed": false
   },
   "outputs": [],
   "source": [
    "import numpy\n",
    "\n",
    "from nearpy import Engine\n",
    "from nearpy.hashes import RandomBinaryProjections\n",
    "\n",
    "\n",
    "eqPath = \"/mnt/scratch1/hirak/RapCompressData/sailfish/sailfish_quant/aux/eq_classes.txt\"\n",
    "equiv = EquivCollection()\n",
    "readEqClass(eqPath, equiv)\n",
    "groups = equiv.eqClasses.keys()\n",
    "# Dimension of our vector space\n",
    "dimension = len(equiv.tnames)\n",
    "\n",
    "# Create a random binary hash with 10 bits\n",
    "rbp = RandomBinaryProjections('rbp', 10)\n",
    "\n",
    "# Create engine with pipeline configuration\n",
    "engine = Engine(dimension, lshashes=[rbp])\n",
    "\n",
    "# Index 1000000 random vectors (set their data to a unique string)\n",
    "for index in range(100000):\n",
    "    v = numpy.random.randn(dimension)\n",
    "    engine.store_vector(v, 'data_%d' % index)\n",
    "\n",
    "# Create random query vector\n",
    "query = numpy.random.randn(dimension)\n",
    "\n",
    "# Get nearest neighbours\n",
    "N = engine.neighbours(query)"
   ]
  },
  {
   "cell_type": "code",
   "execution_count": 123,
   "metadata": {
    "collapsed": true
   },
   "outputs": [],
   "source": [
    "import numpy, scipy.sparse\n",
    "sz = len(equiv.tnames)\n",
    "n = 10\n",
    "x = (numpy.zeros(sz)).astype(bool)"
   ]
  }
 ],
 "metadata": {
  "kernelspec": {
   "display_name": "Python 2",
   "language": "python",
   "name": "python2"
  },
  "language_info": {
   "codemirror_mode": {
    "name": "ipython",
    "version": 2
   },
   "file_extension": ".py",
   "mimetype": "text/x-python",
   "name": "python",
   "nbconvert_exporter": "python",
   "pygments_lexer": "ipython2",
   "version": "2.7.8"
  }
 },
 "nbformat": 4,
 "nbformat_minor": 0
}

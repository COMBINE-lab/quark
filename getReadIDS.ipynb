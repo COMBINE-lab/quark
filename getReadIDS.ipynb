{
 "cells": [
  {
   "cell_type": "code",
   "execution_count": 1,
   "metadata": {
    "collapsed": true
   },
   "outputs": [],
   "source": [
    "eqfile = \"/mnt/scratch1/hirak/RapCompressData/sailfish/sailfish_quant/aux/eq_classes.txt\"\n",
    "serialReadID = \"/mnt/scratch1/hirak/RapCompressData/sailfish/sailfish_quant/aux/serialreadID.txt\"\n",
    "eq2readInfo = \"/mnt/scratch1/hirak/RapCompressData/sailfish/sailfish_quant/aux/eq2readID.txt\""
   ]
  },
  {
   "cell_type": "code",
   "execution_count": 12,
   "metadata": {
    "collapsed": false
   },
   "outputs": [
    {
     "name": "stdout",
     "output_type": "stream",
     "text": [
      "file: /mnt/scratch1/hirak/RapCompressData/sailfish/sailfish_quant/aux/eq_classes.txt; # tran = 86331; # eq = 75568\n"
     ]
    }
   ],
   "source": [
    "tnames = []\n",
    "readSeqs = []\n",
    "with open(serialReadID,'w') as wfile:\n",
    "    with open(eqfile,'r') as ifile:\n",
    "        numTran = int(ifile.readline().rstrip())\n",
    "        numEq = int(ifile.readline().rstrip())\n",
    "        for i in xrange(numTran):\n",
    "            tnames.append(ifile.readline().rstrip())\n",
    "        print(\"file: {}; # tran = {}; # eq = {}\".format(eqfile, numTran, numEq))\n",
    "        for i in xrange(numEq):\n",
    "            tok = map(str, ifile.readline().rstrip().split('\\t'))\n",
    "            nt = int(tok[0])\n",
    "            readnames = tuple(tok[int(nt)+2:-1])\n",
    "            for rid in readnames:\n",
    "                print >>wfile,rid\n",
    "            readSeqs.append(readnames)"
   ]
  },
  {
   "cell_type": "code",
   "execution_count": 13,
   "metadata": {
    "collapsed": false
   },
   "outputs": [
    {
     "name": "stdout",
     "output_type": "stream",
     "text": [
      "file: /mnt/scratch1/hirak/RapCompressData/sailfish/sailfish_quant/aux/eq_classes.txt; # tran = 86331; # eq = 75568\n"
     ]
    }
   ],
   "source": [
    "with open(eq2readInfo,'w') as wfile:\n",
    "    with open(eqfile,'r') as ifile:\n",
    "        numTran = int(ifile.readline().rstrip())\n",
    "        numEq = int(ifile.readline().rstrip())\n",
    "        for i in xrange(numTran):\n",
    "            ifile.readline()\n",
    "        print(\"file: {}; # tran = {}; # eq = {}\".format(eqfile, numTran, numEq))\n",
    "        for i in xrange(numEq):\n",
    "            tok = map(str, ifile.readline().rstrip().split('\\t'))\n",
    "            nt = int(tok[0])\n",
    "            readnames = tuple(tok[int(nt)+2:-1])\n",
    "            print>>wfile,i\n",
    "            print>>wfile,len(readnames)\n",
    "            for rid in readnames:\n",
    "                print >>wfile,rid"
   ]
  },
  {
   "cell_type": "code",
   "execution_count": 13,
   "metadata": {
    "collapsed": false
   },
   "outputs": [],
   "source": [
    "f1 = \"/mnt/scratch1/hirak/RapCompressData/flux/reads/r1.fq\""
   ]
  },
  {
   "cell_type": "code",
   "execution_count": 7,
   "metadata": {
    "collapsed": false,
    "scrolled": true
   },
   "outputs": [
    {
     "data": {
      "text/plain": [
       "['3',\n",
       " '39841',\n",
       " '63551',\n",
       " '76149',\n",
       " '1',\n",
       " '4:2071918-2242164C:ENST00000243706:34990:5620:2437:2660:S/1',\n",
       " '1']"
      ]
     },
     "execution_count": 7,
     "metadata": {},
     "output_type": "execute_result"
    }
   ],
   "source": [
    "tok"
   ]
  },
  {
   "cell_type": "code",
   "execution_count": 11,
   "metadata": {
    "collapsed": false
   },
   "outputs": [
    {
     "data": {
      "text/plain": [
       "['4:2071918-2242164C:ENST00000243706:34990:5620:2437:2660:S/1', '1']"
      ]
     },
     "execution_count": 11,
     "metadata": {},
     "output_type": "execute_result"
    }
   ],
   "source": [
    "tok[int(nt)+2:]"
   ]
  },
  {
   "cell_type": "code",
   "execution_count": 7,
   "metadata": {
    "collapsed": false
   },
   "outputs": [
    {
     "data": {
      "text/plain": [
       "'3'"
      ]
     },
     "execution_count": 7,
     "metadata": {},
     "output_type": "execute_result"
    }
   ],
   "source": [
    "for name,seq,quality"
   ]
  },
  {
   "cell_type": "code",
   "execution_count": 9,
   "metadata": {
    "collapsed": false
   },
   "outputs": [
    {
     "data": {
      "text/plain": [
       "['39841', '63551', '76149']"
      ]
     },
     "execution_count": 9,
     "metadata": {},
     "output_type": "execute_result"
    }
   ],
   "source": [
    "tok[1:int(nt)+1]"
   ]
  },
  {
   "cell_type": "code",
   "execution_count": 21,
   "metadata": {
    "collapsed": false
   },
   "outputs": [],
   "source": [
    "import uuid"
   ]
  },
  {
   "cell_type": "code",
   "execution_count": 27,
   "metadata": {
    "collapsed": false
   },
   "outputs": [],
   "source": [
    "from graph_tool.all import *"
   ]
  },
  {
   "cell_type": "code",
   "execution_count": 39,
   "metadata": {
    "collapsed": false
   },
   "outputs": [],
   "source": [
    "graphFile = \"/mnt/scratch1/hirak/RapCompressData/gv2.net\"\n",
    "wList = []\n",
    "import pandas as pd\n",
    "nf = pd.read_table(graphFile,header=None,sep=\"\\t\")"
   ]
  },
  {
   "cell_type": "code",
   "execution_count": 61,
   "metadata": {
    "collapsed": false
   },
   "outputs": [],
   "source": [
    "ug = Graph(directed=False)\n",
    "eWeight = ug.new_edge_property(\"float\")\n",
    "for _,u,v,_ in nf.itertuples():\n",
    "    ug.add_edge(u,v)"
   ]
  },
  {
   "cell_type": "code",
   "execution_count": 63,
   "metadata": {
    "collapsed": false
   },
   "outputs": [],
   "source": [
    "eWeight.a = nf[2].values"
   ]
  },
  {
   "cell_type": "code",
   "execution_count": null,
   "metadata": {
    "collapsed": true
   },
   "outputs": [],
   "source": [
    "#find out all the connected component\n",
    "components,_ = label_components(g,attractors=False)\n"
   ]
  },
  {
   "cell_type": "code",
   "execution_count": 74,
   "metadata": {
    "collapsed": false
   },
   "outputs": [],
   "source": [
    "tree = min_spanning_tree(ug, weights=eWeight)"
   ]
  },
  {
   "cell_type": "code",
   "execution_count": 76,
   "metadata": {
    "collapsed": false
   },
   "outputs": [
    {
     "data": {
      "text/plain": [
       "3282462"
      ]
     },
     "execution_count": 76,
     "metadata": {},
     "output_type": "execute_result"
    }
   ],
   "source": [
    "len(tree.a)"
   ]
  },
  {
   "cell_type": "code",
   "execution_count": 94,
   "metadata": {
    "collapsed": false
   },
   "outputs": [
    {
     "data": {
      "text/plain": [
       "<bound method Graph.num_edges of <Graph object, undirected, with 75568 vertices and 3282462 edges at 0x7f30513401d0>>"
      ]
     },
     "execution_count": 94,
     "metadata": {},
     "output_type": "execute_result"
    }
   ],
   "source": [
    "ug.num_edges"
   ]
  },
  {
   "cell_type": "code",
   "execution_count": 127,
   "metadata": {
    "collapsed": false
   },
   "outputs": [],
   "source": [
    "import numpy.random as npr\n",
    "g = random_graph(100, lambda: npr.poisson(2.2), directed=False)\n",
    "egw = g.new_edge_property(\"float\")\n",
    "egw.a = npr.random(g.num_edges())\n",
    "h,a = label_components(g, attractors=True)"
   ]
  },
  {
   "cell_type": "code",
   "execution_count": 126,
   "metadata": {
    "collapsed": false
   },
   "outputs": [
    {
     "data": {
      "text/plain": [
       "117"
      ]
     },
     "execution_count": 126,
     "metadata": {},
     "output_type": "execute_result"
    }
   ],
   "source": []
  },
  {
   "cell_type": "code",
   "execution_count": 125,
   "metadata": {
    "collapsed": false
   },
   "outputs": [
    {
     "data": {
      "text/plain": [
       "<Graph object, undirected, with 100 vertices and 117 edges at 0x7f30513ed4d0>"
      ]
     },
     "execution_count": 125,
     "metadata": {},
     "output_type": "execute_result"
    }
   ],
   "source": []
  },
  {
   "cell_type": "code",
   "execution_count": 113,
   "metadata": {
    "collapsed": false
   },
   "outputs": [
    {
     "data": {
      "text/plain": [
       "numpy.ndarray"
      ]
     },
     "execution_count": 113,
     "metadata": {},
     "output_type": "execute_result"
    }
   ],
   "source": [
    "type(nf[2].values)"
   ]
  },
  {
   "cell_type": "code",
   "execution_count": 89,
   "metadata": {
    "collapsed": false
   },
   "outputs": [],
   "source": [
    "cdict = {}\n",
    "seen = set()\n",
    "for v,ind in enumerate(h.a):\n",
    "    if not(ind in seen):\n",
    "        cdict[ind] = v\n",
    "        seen.add(ind)"
   ]
  },
  {
   "cell_type": "code",
   "execution_count": 147,
   "metadata": {
    "collapsed": false
   },
   "outputs": [
    {
     "ename": "SyntaxError",
     "evalue": "invalid syntax (<ipython-input-147-e71b4fac95ba>, line 12)",
     "output_type": "error",
     "traceback": [
      "\u001b[1;36m  File \u001b[1;32m\"<ipython-input-147-e71b4fac95ba>\"\u001b[1;36m, line \u001b[1;32m12\u001b[0m\n\u001b[1;33m    seenv.add(b) for _,b in allN.keys():\u001b[0m\n\u001b[1;37m                   ^\u001b[0m\n\u001b[1;31mSyntaxError\u001b[0m\u001b[1;31m:\u001b[0m invalid syntax\n"
     ]
    }
   ],
   "source": [
    "vn = {}\n",
    "import operator\n",
    "#def find_bfs(v):\n",
    "    \n",
    "for comp,v in cdict.iteritems():\n",
    "    seenv = set()\n",
    "    print \"\\n \",v\n",
    "    go = True\n",
    "    while(go):\n",
    "        allN = {e:egw[e] for e in g.vertex(v).all_edges()}\n",
    "        if len(allN) > 0:\n",
    "            for _,b in allN.keys():\n",
    "                seenv.add(b)\n",
    "            _,n = max(allN.iteritems(), key=operator.itemgetter(1))[0]\n",
    "        go = False"
   ]
  },
  {
   "cell_type": "code",
   "execution_count": 153,
   "metadata": {
    "collapsed": true
   },
   "outputs": [],
   "source": [
    "import networkx as nx"
   ]
  },
  {
   "cell_type": "code",
   "execution_count": 154,
   "metadata": {
    "collapsed": true
   },
   "outputs": [],
   "source": [
    "nxG = nx.read_edgelist(graphFile, nodetype=int, data=(('weight',float),))"
   ]
  },
  {
   "cell_type": "code",
   "execution_count": 144,
   "metadata": {
    "collapsed": false
   },
   "outputs": [
    {
     "data": {
      "text/plain": [
       "0"
      ]
     },
     "execution_count": 144,
     "metadata": {},
     "output_type": "execute_result"
    }
   ],
   "source": [
    "len(allN)"
   ]
  },
  {
   "cell_type": "code",
   "execution_count": 103,
   "metadata": {
    "collapsed": false
   },
   "outputs": [
    {
     "data": {
      "text/plain": [
       "{0: 0,\n",
       " 1: 8,\n",
       " 2: 10,\n",
       " 3: 22,\n",
       " 4: 32,\n",
       " 5: 35,\n",
       " 6: 39,\n",
       " 7: 47,\n",
       " 8: 55,\n",
       " 9: 68,\n",
       " 10: 75,\n",
       " 11: 84,\n",
       " 12: 97}"
      ]
     },
     "execution_count": 103,
     "metadata": {},
     "output_type": "execute_result"
    }
   ],
   "source": [
    "cdict"
   ]
  },
  {
   "cell_type": "code",
   "execution_count": 91,
   "metadata": {
    "collapsed": false
   },
   "outputs": [],
   "source": [
    "tours = {}\n",
    "for comp,v in cdict.iteritems():\n",
    "    tour = tsp_tour(g,g.vertex(v))\n",
    "    tours[comp] = tour"
   ]
  },
  {
   "cell_type": "code",
   "execution_count": 93,
   "metadata": {
    "collapsed": false
   },
   "outputs": [
    {
     "data": {
      "text/plain": [
       "87"
      ]
     },
     "execution_count": 93,
     "metadata": {},
     "output_type": "execute_result"
    }
   ],
   "source": [
    "len(tours[0])"
   ]
  },
  {
   "cell_type": "code",
   "execution_count": 50,
   "metadata": {
    "collapsed": false
   },
   "outputs": [],
   "source": [
    "def readMCLClust(fn):\n",
    "    fp = open(fn)\n",
    "    tr_clust = {}\n",
    "    tr_clust_inv = {}\n",
    "    key = 1\n",
    "    for cnum, line in enumerate(fp):\n",
    "        same_cluster = line.rstrip().split('\\t')\n",
    "        for contig in same_cluster:\n",
    "            tr_clust[contig] = cnum \n",
    "    for k,v in tr_clust.iteritems():\n",
    "        if v in tr_clust_inv:\n",
    "            tr_clust_inv[v].append(k)\n",
    "        else:\n",
    "            tr_clust_inv[v] = [k]\n",
    "    return tr_clust, tr_clust_inv"
   ]
  },
  {
   "cell_type": "code",
   "execution_count": 51,
   "metadata": {
    "collapsed": true
   },
   "outputs": [],
   "source": [
    "eq_clust, eq_clust_inv = readMCLClust('gv2.clust')"
   ]
  },
  {
   "cell_type": "code",
   "execution_count": 54,
   "metadata": {
    "collapsed": false
   },
   "outputs": [
    {
     "data": {
      "text/plain": [
       "8180"
      ]
     },
     "execution_count": 54,
     "metadata": {},
     "output_type": "execute_result"
    }
   ],
   "source": [
    "len(eq_clust_inv.keys())"
   ]
  },
  {
   "cell_type": "code",
   "execution_count": 55,
   "metadata": {
    "collapsed": false
   },
   "outputs": [
    {
     "data": {
      "text/plain": [
       "74030"
      ]
     },
     "execution_count": 55,
     "metadata": {},
     "output_type": "execute_result"
    }
   ],
   "source": [
    "len(eq_clust.keys())"
   ]
  },
  {
   "cell_type": "code",
   "execution_count": 14,
   "metadata": {
    "collapsed": false
   },
   "outputs": [
    {
     "name": "stderr",
     "output_type": "stream",
     "text": [
      "/usr/local/lib/python2.7/dist-packages/matplotlib/__init__.py:872: UserWarning: axes.color_cycle is deprecated and replaced with axes.prop_cycle; please use the latter.\n",
      "  warnings.warn(self.msg_depr % (key, alt_key))\n"
     ]
    }
   ],
   "source": [
    "%matplotlib inline\n",
    "import numpy as np\n",
    "import pandas as pd\n",
    "from scipy import stats, integrate\n",
    "import matplotlib.pyplot as plt\n",
    "import seaborn as sns\n",
    "sns.set(color_codes=True)"
   ]
  },
  {
   "cell_type": "code",
   "execution_count": 15,
   "metadata": {
    "collapsed": true
   },
   "outputs": [],
   "source": [
    "df = pd.read_table(\"./tmpeq.aux\",sep=\"\\t\",header=None)"
   ]
  },
  {
   "cell_type": "code",
   "execution_count": 36,
   "metadata": {
    "collapsed": false
   },
   "outputs": [
    {
     "data": {
      "image/png": "[encoded data removed]",
      "text/plain": [
       "<matplotlib.figure.Figure at 0x7f88f7a06810>"
      ]
     },
     "metadata": {},
     "output_type": "display_data"
    }
   ],
   "source": [
    "ax = sns.distplot(df[0])\n",
    "ax.set_yscale('log')"
   ]
  },
  {
   "cell_type": "code",
   "execution_count": 38,
   "metadata": {
    "collapsed": false
   },
   "outputs": [
    {
     "data": {
      "text/plain": [
       "663"
      ]
     },
     "execution_count": 38,
     "metadata": {},
     "output_type": "execute_result"
    }
   ],
   "source": [
    "len(df[df[0]>10000])"
   ]
  },
  {
   "cell_type": "code",
   "execution_count": null,
   "metadata": {
    "collapsed": true
   },
   "outputs": [],
   "source": []
  }
 ],
 "metadata": {
  "kernelspec": {
   "display_name": "Python 2",
   "language": "python",
   "name": "python2"
  },
  "language_info": {
   "codemirror_mode": {
    "name": "ipython",
    "version": 2
   },
   "file_extension": ".py",
   "mimetype": "text/x-python",
   "name": "python",
   "nbconvert_exporter": "python",
   "pygments_lexer": "ipython2",
   "version": "2.7.8"
  }
 },
 "nbformat": 4,
 "nbformat_minor": 0
}

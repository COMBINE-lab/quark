{
 "cells": [
  {
   "cell_type": "code",
   "execution_count": 22,
   "metadata": {
    "collapsed": true
   },
   "outputs": [],
   "source": [
    "import pandas as pd\n",
    "import seaborn as sns\n",
    "import numpy as np\n",
    "import matplotlib.pyplot as plt\n",
    "from numpy import *"
   ]
  },
  {
   "cell_type": "code",
   "execution_count": 23,
   "metadata": {
    "collapsed": true
   },
   "outputs": [],
   "source": [
    "#fp = open(\"/home/hirak/rapmapClustering/sailfish/build/quant_yeast.clust\")"
   ]
  },
  {
   "cell_type": "code",
   "execution_count": 24,
   "metadata": {
    "collapsed": false
   },
   "outputs": [
    {
     "data": {
      "text/plain": [
       "'comp2876_c0_seq2'"
      ]
     },
     "execution_count": 24,
     "metadata": {},
     "output_type": "execute_result"
    }
   ],
   "source": [
    "s = \"1       2735nt, >comp2876_c0_seq2... at +/97.44%\"\n",
    "s.split()[2].lstrip('>').rstrip('.')"
   ]
  },
  {
   "cell_type": "code",
   "execution_count": 37,
   "metadata": {
    "collapsed": true
   },
   "outputs": [],
   "source": [
    "def readSailfishQuasi(fn, suffix=\"\"):\n",
    "    df = pd.read_table(fn, sep='\\t', comment='#',\n",
    "                     names=['Name',\n",
    "                            'Length{}'.format(suffix),\n",
    "                            'TPM{}'.format(suffix),\n",
    "                            'NumReads{}'.format(suffix)])\n",
    "    df.dropna(how='all', inplace=True)\n",
    "    df.convert_objects(convert_numeric=True)\n",
    "    df.set_index('Name', inplace=True)\n",
    "    return df\n",
    "sailfishFluxEM = readSailfishQuasi('/home/hirak/rapmapClustering/sailfish/build/data/human/quant_combined/quant.sf',\"_sailfish\")"
   ]
  },
  {
   "cell_type": "code",
   "execution_count": 44,
   "metadata": {
    "collapsed": false,
    "scrolled": false
   },
   "outputs": [
    {
     "data": {
      "text/plain": [
       "2.4053900000000001"
      ]
     },
     "execution_count": 44,
     "metadata": {},
     "output_type": "execute_result"
    }
   ],
   "source": [
    "sailfishFluxEM['TPM_sailfish']['comp4886_c0_seq1']"
   ]
  },
  {
   "cell_type": "code",
   "execution_count": 61,
   "metadata": {
    "collapsed": true
   },
   "outputs": [],
   "source": [
    "def modifyGraph(fn,quantResult,w):\n",
    "    fp = open(fn)\n",
    "    fname = fn.split('.')[0]\n",
    "    print fname \n",
    "    fp_mod = open(fname + '_'+'modified'+str(w)+'.net','w')\n",
    "    for l in fp:\n",
    "        tr_1,tr_2,ct = l[:-1].split('\\t')\n",
    "        if len(tr_2.split('_')) == 3:\n",
    "            exp_1 = quantResult['TPM_sailfish'][tr_1]\n",
    "            exp_2 = quantResult['TPM_sailfish'][tr_2]\n",
    "            newWeight = w*int(ct) + (1-w) * np.reciprocal(np.abs(exp_1 - exp_2))\n",
    "            fp_mod.write(tr_1 + '\\t' + tr_2 + '\\t' + str(newWeight) + '\\n')\n",
    "    return fp_mod"
   ]
  },
  {
   "cell_type": "code",
   "execution_count": 67,
   "metadata": {
    "collapsed": false
   },
   "outputs": [
    {
     "name": "stdout",
     "output_type": "stream",
     "text": [
      "/home/hirak/rapmapClustering/sailfish/build/data/human/quant_combined\n"
     ]
    }
   ],
   "source": [
    "_ = modifyGraph('/home/hirak/rapmapClustering/sailfish/build/data/human/quant_combined.net',sailfishFluxEM,0.8)"
   ]
  },
  {
   "cell_type": "code",
   "execution_count": 42,
   "metadata": {
    "collapsed": false
   },
   "outputs": [
    {
     "name": "stdout",
     "output_type": "stream",
     "text": [
      "3\n"
     ]
    }
   ],
   "source": [
    "s = \"comp2876_c0_seq2\"\n",
    "print len(s.split('_'))"
   ]
  },
  {
   "cell_type": "code",
   "execution_count": 25,
   "metadata": {
    "collapsed": true
   },
   "outputs": [],
   "source": [
    "def readCDHitClust(fn, filtDict=None):\n",
    "    tr_clust = {}\n",
    "    fp = open(fn)\n",
    "    cnum = None\n",
    "    for l in fp:\n",
    "        if l.startswith('>Cluster'):\n",
    "            cnum = int(l.rstrip().split()[-1])\n",
    "        else:\n",
    "            e = l.split()[2].lstrip('>').rstrip('.')\n",
    "            if not filtDict or e in filtDict:\n",
    "                tr_clust[e] = cnum\n",
    "    return tr_clust"
   ]
  },
  {
   "cell_type": "code",
   "execution_count": 26,
   "metadata": {
    "collapsed": false
   },
   "outputs": [],
   "source": [
    "def readMCLClust(fn):\n",
    "    fp = open(fn)\n",
    "    tr_clust = {}\n",
    "    key = 1\n",
    "    for cnum, line in enumerate(fp):\n",
    "        same_cluster = line.rstrip().split('\\t')\n",
    "        for contig in same_cluster:\n",
    "            tr_clust[contig] = cnum \n",
    "    return tr_clust"
   ]
  },
  {
   "cell_type": "code",
   "execution_count": 27,
   "metadata": {
    "collapsed": false
   },
   "outputs": [],
   "source": [
    "def readTrueLabels(fn):\n",
    "    ft = open(fn)\n",
    "    groundTruth_clust = {}\n",
    "    gtClusterCount = {}\n",
    "    for line in ft:\n",
    "        tr_gn = line[:-1].split(\"\\t\")\n",
    "        groundTruth_clust[tr_gn[0]] = tr_gn[1]\n",
    "        if tr_gn[0] in gtClusterCount.keys():\n",
    "            gtClusterCount[tr_gn[0]] += 1\n",
    "        else:\n",
    "            gtClusterCount[tr_gn[0]] = 1\n",
    "    return groundTruth_clust"
   ]
  },
  {
   "cell_type": "code",
   "execution_count": null,
   "metadata": {
    "collapsed": true
   },
   "outputs": [],
   "source": [
    "def accuracyExpressed(groundTruth_clust, tr_clust):\n",
    "    #count true postive for each pair of transcripts O(N^2)\n",
    "    tp, fp, tn, fn = 0, 0, 0, 0\n",
    "    for tr_1 in tr_cluststst.keys():\n",
    "        for tr_2 in tr_clust.keys():\n",
    "            if tr_1 != tr_2:\n",
    "                if tr_1 not in groundTruth_clust or tr_2 not in groundTruth_clust:\n",
    "                    continue\n",
    "                ct = classType(groundTruth_clust[tr_1], groundTruth_clust[tr_2], tr_clust[tr_1], tr_clust[tr_2]) \n",
    "                if ct == Classification.TruePos:\n",
    "                    tp += 1\n",
    "                elif ct == Classification.TrueNeg:\n",
    "                    tn += 1\n",
    "                elif ct == Classification.FalsePos:\n",
    "                    fp += 1\n",
    "                elif ct == Classification.FalseNeg:\n",
    "                    fn += 1\n",
    "    return tp, fp, tn, fn"
   ]
  },
  {
   "cell_type": "code",
   "execution_count": 28,
   "metadata": {
    "collapsed": true
   },
   "outputs": [],
   "source": [
    "import itertools\n",
    "\n",
    "class Classification:\n",
    "    TruePos, FalsePos, TrueNeg, FalseNeg = range(4)\n",
    "\n",
    "def classType(true1, true2, pred1, pred2):\n",
    "    if true1 == true2:\n",
    "        if pred1 == pred2:\n",
    "            return Classification.TruePos\n",
    "        else: # truely the same, predicted different\n",
    "            return Classification.FalseNeg\n",
    "    else: # truly different\n",
    "        if pred1 == pred2: #predicted same\n",
    "            return Classification.FalsePos\n",
    "        else:\n",
    "            return Classification.TrueNeg\n",
    "        \n",
    "    \n",
    "def accuracyExpressed(groundTruth_clust, tr_clust):\n",
    "    #count true postive for each pair of transcripts O(N^2)\n",
    "    tp, fp, tn, fn = 0, 0, 0, 0\n",
    "    for tr_1, tr_2 in itertools.combinations(tr_clust.keys(), 2):\n",
    "        if tr_1 not in groundTruth_clust or tr_2 not in groundTruth_clust:\n",
    "            continue\n",
    "        ct = classType(groundTruth_clust[tr_1], groundTruth_clust[tr_2], tr_clust[tr_1], tr_clust[tr_2]) \n",
    "        if ct == Classification.TruePos:\n",
    "            tp += 1\n",
    "        elif ct == Classification.TrueNeg:\n",
    "            tn += 1\n",
    "        elif ct == Classification.FalsePos:\n",
    "            fp += 1\n",
    "        elif ct == Classification.FalseNeg:\n",
    "            fn += 1\n",
    "    return tp, fp, tn, fn"
   ]
  },
  {
   "cell_type": "code",
   "execution_count": 29,
   "metadata": {
    "collapsed": false
   },
   "outputs": [],
   "source": [
    "ft = \"/mnt/scratch3/avi/clustering/human/truth/contigs2genes.disambiguous.txt\"\n",
    "groundTruth_clust = readTrueLabels(ft)"
   ]
  },
  {
   "cell_type": "code",
   "execution_count": 69,
   "metadata": {
    "collapsed": false
   },
   "outputs": [],
   "source": [
    "ft = \"/home/hirak/rapmapClustering/sailfish/build/data/human/clusters/quant_combined_modified0.8.clust\"\n",
    "tr_clust = readMCLClust(ft)"
   ]
  },
  {
   "cell_type": "code",
   "execution_count": null,
   "metadata": {
    "collapsed": true
   },
   "outputs": [],
   "source": [
    "tr_clust_1 = readMCLClust(\"/home/hirak/rapmapClustering/sailfish/build/data/human/clusters/quant66.clust\")\n",
    "tr_clust_2 = readMCLClust(\"/home/hirak/rapmapClustering/sailfish/build/data/human/clusters/quant67.clust\")\n",
    "tr_clust_3 = readMCLClust(\"/home/hirak/rapmapClustering/sailfish/build/data/human/clusters/quant68.clust\")\n",
    "tr_clust_4 = readMCLClust(\"/home/hirak/rapmapClustering/sailfish/build/data/human/clusters/quant69.clust\")\n",
    "tr_clust_5 = readMCLClust(\"/home/hirak/rapmapClustering/sailfish/build/data/human/clusters/quant70.clust\")\n",
    "tr_clust_6 = readMCLClust(\"/home/hirak/rapmapClustering/sailfish/build/data/human/clusters/quant71.clust\")"
   ]
  },
  {
   "cell_type": "code",
   "execution_count": 70,
   "metadata": {
    "collapsed": false
   },
   "outputs": [
    {
     "name": "stdout",
     "output_type": "stream",
     "text": [
      "tp : 36725, fp : 2758, tn : 935706494, fn : 119239\n"
     ]
    }
   ],
   "source": [
    "tp, fp, tn, fn = accuracyExpressed(groundTruth_clust, tr_clust)\n",
    "print(\"tp : {}, fp : {}, tn : {}, fn : {}\".format(tp, fp, tn, fn))"
   ]
  },
  {
   "cell_type": "code",
   "execution_count": 81,
   "metadata": {
    "collapsed": false,
    "scrolled": true
   },
   "outputs": [
    {
     "name": "stdout",
     "output_type": "stream",
     "text": [
      "prec: 0.969696117842, recall: 0.219092381467\n"
     ]
    }
   ],
   "source": [
    "print(\"prec: {}, recall: {}\".format(tp / float(tp + fp), tp / float(tp + fn)))"
   ]
  },
  {
   "cell_type": "code",
   "execution_count": null,
   "metadata": {
    "collapsed": true
   },
   "outputs": [],
   "source": [
    "tp, fp, tn, fn = accuracyExpressed(groundTruth_clust, tr_clust_1)\n",
    "print(\"tp : {}, fp : {}, tn : {}, fn : {}\".format(tp, fp, tn, fn))"
   ]
  },
  {
   "cell_type": "code",
   "execution_count": null,
   "metadata": {
    "collapsed": true
   },
   "outputs": [],
   "source": [
    "print(\"prec: {}, recall: {}\".format(tp / float(tp + fp), tp / float(tp + fn)))"
   ]
  },
  {
   "cell_type": "code",
   "execution_count": null,
   "metadata": {
    "collapsed": true
   },
   "outputs": [],
   "source": [
    "tp, fp, tn, fn = accuracyExpressed(groundTruth_clust, tr_clust_2)\n",
    "print(\"tp : {}, fp : {}, tn : {}, fn : {}\".format(tp, fp, tn, fn))"
   ]
  },
  {
   "cell_type": "code",
   "execution_count": null,
   "metadata": {
    "collapsed": true
   },
   "outputs": [],
   "source": [
    "print(\"prec: {}, recall: {}\".format(tp / float(tp + fp), tp / float(tp + fn)))"
   ]
  },
  {
   "cell_type": "code",
   "execution_count": null,
   "metadata": {
    "collapsed": true
   },
   "outputs": [],
   "source": [
    "tp, fp, tn, fn = accuracyExpressed(groundTruth_clust, tr_clust_2)\n",
    "print(\"tp : {}, fp : {}, tn : {}, fn : {}\".format(tp, fp, tn, fn))"
   ]
  },
  {
   "cell_type": "code",
   "execution_count": 33,
   "metadata": {
    "collapsed": false
   },
   "outputs": [],
   "source": [
    "ft = \"/mnt/scratch3/avi/clustering/human/cd_hit/0.95.clstr\"\n",
    "cd_clust = readCDHitClust(ft, filtDict=tr_clust)"
   ]
  },
  {
   "cell_type": "code",
   "execution_count": 35,
   "metadata": {
    "collapsed": false
   },
   "outputs": [
    {
     "name": "stdout",
     "output_type": "stream",
     "text": [
      "tp : 21499, fp : 405, tn : 958295803, fn : 135946\n"
     ]
    }
   ],
   "source": [
    "tp, fp, tn, fn = accuracyExpressed(groundTruth_clust, cd_clust)\n",
    "print(\"tp : {}, fp : {}, tn : {}, fn : {}\".format(tp, fp, tn, fn))"
   ]
  },
  {
   "cell_type": "code",
   "execution_count": 36,
   "metadata": {
    "collapsed": false
   },
   "outputs": [
    {
     "name": "stdout",
     "output_type": "stream",
     "text": [
      "prec: 0.981510226443, recall: 0.136549271174\n"
     ]
    }
   ],
   "source": [
    "print(\"prec: {}, recall: {}\".format(tp / float(tp + fp), tp / float(tp + fn)))"
   ]
  },
  {
   "cell_type": "code",
   "execution_count": null,
   "metadata": {
    "collapsed": false
   },
   "outputs": [],
   "source": []
  },
  {
   "cell_type": "code",
   "execution_count": null,
   "metadata": {
    "collapsed": false
   },
   "outputs": [],
   "source": [
    "len(tr_clust.keys())"
   ]
  },
  {
   "cell_type": "code",
   "execution_count": null,
   "metadata": {
    "collapsed": false
   },
   "outputs": [],
   "source": [
    "\"true positive: \"+str(tp),\"false positive: \"+str(fp),\"true negative: \"+str(tn),\"false negative: \"+str(fn)"
   ]
  },
  {
   "cell_type": "code",
   "execution_count": null,
   "metadata": {
    "collapsed": false
   },
   "outputs": [],
   "source": [
    "pwd"
   ]
  },
  {
   "cell_type": "code",
   "execution_count": null,
   "metadata": {
    "collapsed": false
   },
   "outputs": [],
   "source": [
    "%matplotlib inline\n",
    "plt.hist(tr_clust.values())"
   ]
  },
  {
   "cell_type": "code",
   "execution_count": null,
   "metadata": {
    "collapsed": false
   },
   "outputs": [],
   "source": [
    "%matplotlib inline\n",
    "plt.hist(gtClusterCount.values())"
   ]
  },
  {
   "cell_type": "code",
   "execution_count": null,
   "metadata": {
    "collapsed": false
   },
   "outputs": [],
   "source": [
    "import plotly.plotly as py\n",
    "import plotly.graph_objs as go"
   ]
  },
  {
   "cell_type": "code",
   "execution_count": null,
   "metadata": {
    "collapsed": true
   },
   "outputs": [],
   "source": []
  }
 ],
 "metadata": {
  "kernelspec": {
   "display_name": "Python 2",
   "language": "python",
   "name": "python2"
  },
  "language_info": {
   "codemirror_mode": {
    "name": "ipython",
    "version": 2
   },
   "file_extension": ".py",
   "mimetype": "text/x-python",
   "name": "python",
   "nbconvert_exporter": "python",
   "pygments_lexer": "ipython2",
   "version": "2.7.8"
  }
 },
 "nbformat": 4,
 "nbformat_minor": 0
}

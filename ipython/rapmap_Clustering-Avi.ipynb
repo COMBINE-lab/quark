{
 "cells": [
  {
   "cell_type": "markdown",
   "metadata": {
    "collapsed": true
   },
   "source": [
    "##prec/Recall"
   ]
  },
  {
   "cell_type": "code",
   "execution_count": 40,
   "metadata": {
    "collapsed": true
   },
   "outputs": [],
   "source": [
    "import itertools\n",
    "\n",
    "class Classification:\n",
    "    TruePos, FalsePos, TrueNeg, FalseNeg = range(4)\n",
    "\n",
    "def classType(true1, true2, pred1, pred2):\n",
    "    if true1 == true2:\n",
    "        if pred1 == pred2:\n",
    "            return Classification.TruePos\n",
    "        else: # truely the same, predicted different\n",
    "            return Classification.FalseNeg\n",
    "    else: # truly different\n",
    "        if pred1 == pred2: #predicted same\n",
    "            return Classification.FalsePos\n",
    "        else:\n",
    "            return Classification.TrueNeg\n",
    "        \n",
    "    \n",
    "def accuracyExpressed(groundTruth_clust, tr_clust):\n",
    "    #count true postive for each pair of transcripts O(N^2)\n",
    "    tp, fp, tn, fn = 0, 0, 0, 0\n",
    "    for tr_1, tr_2 in itertools.combinations(tr_clust.keys(), 2):\n",
    "        if tr_1 not in groundTruth_clust or tr_2 not in groundTruth_clust:\n",
    "            continue\n",
    "        ct = classType(groundTruth_clust[tr_1], groundTruth_clust[tr_2], tr_clust[tr_1], tr_clust[tr_2]) \n",
    "        if ct == Classification.TruePos:\n",
    "            tp += 1\n",
    "        elif ct == Classification.TrueNeg:\n",
    "            tn += 1\n",
    "        elif ct == Classification.FalsePos:\n",
    "            fp += 1\n",
    "        elif ct == Classification.FalseNeg:\n",
    "            fn += 1\n",
    "    return tp, fp, tn, fn\n",
    "\n",
    "\n",
    "def accuracyExpressedFast(groundTruth_clust, groundTruth_clust_inv,\n",
    "                          tr_clust, tr_clust_inv):\n",
    "    num = len(set(tr_clust.keys()) & set(groundTruth_clust.keys()))\n",
    "    tp, fp, tn, fn = 0, 0, 0, 0\n",
    "    for clustName, clustMems in tr_clust_inv.iteritems():\n",
    "        for tr_1, tr_2 in itertools.combinations(clustMems,2):\n",
    "            if tr_1 not in groundTruth_clust or tr_2 not in groundTruth_clust:\n",
    "                continue\n",
    "            if groundTruth_clust[tr_1] == groundTruth_clust[tr_2]:\n",
    "                tp += 1\n",
    "            else:\n",
    "                fp += 1\n",
    "    for clustName, clustMems in groundTruth_clust_inv.iteritems():\n",
    "        for tr_1, tr_2 in itertools.combinations(clustMems,2):\n",
    "            if tr_1 not in tr_clust or tr_2 not in tr_clust:\n",
    "                continue\n",
    "            if tr_clust[tr_1] != tr_clust[tr_2]:\n",
    "                fn += 1\n",
    "    nc2 = (num * (num-1)) / 2\n",
    "    tn = nc2 - (fp + tp + fn)\n",
    "    return tp, fp, tn, fn\n",
    "\n",
    "def readCDHitClust(fn, filtDict=None):\n",
    "    tr_clust = {}\n",
    "    tr_clust_inv = {}\n",
    "    fp = open(fn)\n",
    "    cnum = None\n",
    "    for l in fp:\n",
    "        if l.startswith('>Cluster'):\n",
    "            cnum = int(l.rstrip().split()[-1])\n",
    "        else:\n",
    "            e = l.split()[2].lstrip('>').rstrip('.')\n",
    "            if not filtDict or e in filtDict:\n",
    "                tr_clust[e] = cnum\n",
    "    for k,v in tr_clust.iteritems():\n",
    "        if v in tr_clust_inv:\n",
    "            tr_clust_inv[v].append(k)\n",
    "        else:\n",
    "            tr_clust_inv[v] = [k]\n",
    "    return tr_clust, tr_clust_inv\n",
    "\n",
    "def readCorset(fn):\n",
    "    ft = open(fn)\n",
    "    clust_dict = {}\n",
    "    clust_dict_inv = {}\n",
    "    for line in ft:\n",
    "        toks = line.rstrip().split()\n",
    "        clust_dict[toks[0]] = toks[1]\n",
    "    for k,v in clust_dict.iteritems():\n",
    "        if v in clust_dict_inv:\n",
    "            clust_dict_inv[v].append(k)\n",
    "        else:\n",
    "            clust_dict_inv[v] = [k]\n",
    "    return clust_dict, clust_dict_inv"
   ]
  },
  {
   "cell_type": "markdown",
   "metadata": {},
   "source": [
    "##CD-HIT-0.95"
   ]
  },
  {
   "cell_type": "code",
   "execution_count": 46,
   "metadata": {
    "collapsed": false
   },
   "outputs": [
    {
     "name": "stdout",
     "output_type": "stream",
     "text": [
      "tp : 21499, fp : 405, tn : 958295803, fn : 135946\n",
      "prec: 0.981510226443, recall: 0.136549271174\n"
     ]
    }
   ],
   "source": [
    "ft = \"/mnt/scratch3/avi/clustering/human/cd_hit/0.95.clstr\"\n",
    "tr_clust, tr_clust_inv = readCDHitClust(ft)\n",
    "ft = \"/mnt/scratch3/avi/clustering/human/truth/contigs2genes.disambiguous.txt\"\n",
    "groundTruth_clust, ground_truth_clust_inv = readTrueLabels(ft)\n",
    "tp, fp, tn, fn = accuracyExpressedFast(groundTruth_clust, ground_truth_clust_inv, tr_clust, tr_clust_inv)\n",
    "print(\"tp : {}, fp : {}, tn : {}, fn : {}\".format(tp, fp, tn, fn))\n",
    "print(\"prec: {}, recall: {}\".format(tp / float(tp + fp), tp / float(tp + fn)))"
   ]
  },
  {
   "cell_type": "markdown",
   "metadata": {},
   "source": [
    "##CD-HIT-0.8"
   ]
  },
  {
   "cell_type": "code",
   "execution_count": 47,
   "metadata": {
    "collapsed": false
   },
   "outputs": [
    {
     "name": "stdout",
     "output_type": "stream",
     "text": [
      "tp : 58979, fp : 2607, tn : 958293601, fn : 98466\n",
      "prec: 0.957668950736, recall: 0.374600654197\n"
     ]
    }
   ],
   "source": [
    "ft = \"/mnt/scratch3/avi/clustering/human/cd_hit/0.8.clstr\"\n",
    "tr_clust, tr_clust_inv = readCDHitClust(ft)\n",
    "ft = \"/mnt/scratch3/avi/clustering/human/truth/contigs2genes.disambiguous.txt\"\n",
    "groundTruth_clust, ground_truth_clust_inv = readTrueLabels(ft)\n",
    "tp, fp, tn, fn = accuracyExpressedFast(groundTruth_clust, ground_truth_clust_inv, tr_clust, tr_clust_inv)\n",
    "print(\"tp : {}, fp : {}, tn : {}, fn : {}\".format(tp, fp, tn, fn))\n",
    "print(\"prec: {}, recall: {}\".format(tp / float(tp + fp), tp / float(tp + fn)))"
   ]
  },
  {
   "cell_type": "markdown",
   "metadata": {},
   "source": [
    "##corset"
   ]
  },
  {
   "cell_type": "code",
   "execution_count": 49,
   "metadata": {
    "collapsed": false
   },
   "outputs": [
    {
     "name": "stdout",
     "output_type": "stream",
     "text": [
      "tp : 88003, fp : 3921, tn : 958292287, fn : 69442\n",
      "prec: 0.957345198207, recall: 0.55894439328\n"
     ]
    }
   ],
   "source": [
    "ft = \"/mnt/scratch3/avi/clustering/corsetData/Human-Trinity/corset-clusters.txt\"\n",
    "tr_clust, tr_clust_inv = readCorset(ft)\n",
    "ft = \"/mnt/scratch3/avi/clustering/human/truth/contigs2genes.disambiguous.txt\"\n",
    "groundTruth_clust, ground_truth_clust_inv = readTrueLabels(ft)\n",
    "tp, fp, tn, fn = accuracyExpressedFast(groundTruth_clust, ground_truth_clust_inv, tr_clust, tr_clust_inv)\n",
    "print(\"tp : {}, fp : {}, tn : {}, fn : {}\".format(tp, fp, tn, fn))\n",
    "print(\"prec: {}, recall: {}\".format(tp / float(tp + fp), tp / float(tp + fn)))"
   ]
  },
  {
   "cell_type": "markdown",
   "metadata": {},
   "source": [
    "##qsf"
   ]
  },
  {
   "cell_type": "code",
   "execution_count": 50,
   "metadata": {
    "collapsed": false
   },
   "outputs": [
    {
     "name": "stdout",
     "output_type": "stream",
     "text": [
      "tp : 94896, fp : 5190, tn : 958291018, fn : 62549\n",
      "prec: 0.948144595648, recall: 0.602724761028\n"
     ]
    }
   ],
   "source": [
    "ft = \"/home/hirak/rapmapClustering/sailfish/build/time_results/quant_human.clust\"\n",
    "tr_clust, tr_clust_inv = readMCLClust(ft)\n",
    "ft = \"/mnt/scratch3/avi/clustering/human/truth/contigs2genes.disambiguous.txt\"\n",
    "groundTruth_clust, ground_truth_clust_inv = readTrueLabels(ft)\n",
    "tp, fp, tn, fn = accuracyExpressedFast(groundTruth_clust, ground_truth_clust_inv, tr_clust, tr_clust_inv)\n",
    "print(\"tp : {}, fp : {}, tn : {}, fn : {}\".format(tp, fp, tn, fn))\n",
    "print(\"prec: {}, recall: {}\".format(tp / float(tp + fp), tp / float(tp + fn)))"
   ]
  },
  {
   "cell_type": "markdown",
   "metadata": {},
   "source": [
    "##yeast"
   ]
  },
  {
   "cell_type": "code",
   "execution_count": 52,
   "metadata": {
    "collapsed": false
   },
   "outputs": [
    {
     "name": "stdout",
     "output_type": "stream",
     "text": [
      "tp : 87, fp : 65, tn : 2038467, fn : 571\n",
      "prec: 0.572368421053, recall: 0.132218844985\n"
     ]
    }
   ],
   "source": [
    "ft = \"/mnt/scratch3/avi/clustering/yeast/cd_hit/0.95.clstr\"\n",
    "tr_clust, tr_clust_inv = readCDHitClust(ft)\n",
    "ft = \"/mnt/scratch3/avi/clustering/yeast/truth/contigs2genes.disambiguous.txt\"\n",
    "groundTruth_clust, ground_truth_clust_inv = readTrueLabels(ft)\n",
    "tp, fp, tn, fn = accuracyExpressedFast(groundTruth_clust, ground_truth_clust_inv, tr_clust, tr_clust_inv)\n",
    "print(\"tp : {}, fp : {}, tn : {}, fn : {}\".format(tp, fp, tn, fn))\n",
    "print(\"prec: {}, recall: {}\".format(tp / float(tp + fp), tp / float(tp + fn)))"
   ]
  },
  {
   "cell_type": "code",
   "execution_count": 53,
   "metadata": {
    "collapsed": false
   },
   "outputs": [
    {
     "name": "stdout",
     "output_type": "stream",
     "text": [
      "tp : 239, fp : 340, tn : 2038192, fn : 419\n",
      "prec: 0.412780656304, recall: 0.363221884498\n"
     ]
    }
   ],
   "source": [
    "ft = \"/mnt/scratch3/avi/clustering/yeast/cd_hit/0.8.clstr\"\n",
    "tr_clust, tr_clust_inv = readCDHitClust(ft)\n",
    "ft = \"/mnt/scratch3/avi/clustering/yeast/truth/contigs2genes.disambiguous.txt\"\n",
    "groundTruth_clust, ground_truth_clust_inv = readTrueLabels(ft)\n",
    "tp, fp, tn, fn = accuracyExpressedFast(groundTruth_clust, ground_truth_clust_inv, tr_clust, tr_clust_inv)\n",
    "print(\"tp : {}, fp : {}, tn : {}, fn : {}\".format(tp, fp, tn, fn))\n",
    "print(\"prec: {}, recall: {}\".format(tp / float(tp + fp), tp / float(tp + fn)))"
   ]
  },
  {
   "cell_type": "code",
   "execution_count": null,
   "metadata": {
    "collapsed": true
   },
   "outputs": [],
   "source": []
  }
 ],
 "metadata": {
  "kernelspec": {
   "display_name": "Python 2",
   "language": "python",
   "name": "python2"
  },
  "language_info": {
   "codemirror_mode": {
    "name": "ipython",
    "version": 2
   },
   "file_extension": ".py",
   "mimetype": "text/x-python",
   "name": "python",
   "nbconvert_exporter": "python",
   "pygments_lexer": "ipython2",
   "version": "2.7.8"
  }
 },
 "nbformat": 4,
 "nbformat_minor": 0
}

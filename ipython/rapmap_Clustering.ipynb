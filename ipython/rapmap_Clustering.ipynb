{
 "cells": [
  {
   "cell_type": "code",
   "execution_count": 1,
   "metadata": {
    "collapsed": true
   },
   "outputs": [],
   "source": [
    "import pandas as pd\n",
    "import seaborn as sns\n",
    "import numpy as np\n",
    "import matplotlib.pyplot as plt\n",
    "from numpy import *"
   ]
  },
  {
   "cell_type": "code",
   "execution_count": 424,
   "metadata": {
    "collapsed": true
   },
   "outputs": [],
   "source": [
    "#fp = open(\"/home/hirak/rapmapClustering/sailfish/build/quant_yeast.clust\")"
   ]
  },
  {
   "cell_type": "code",
   "execution_count": 425,
   "metadata": {
    "collapsed": false
   },
   "outputs": [
    {
     "data": {
      "text/plain": [
       "'comp2876_c0_seq2'"
      ]
     },
     "execution_count": 425,
     "metadata": {},
     "output_type": "execute_result"
    }
   ],
   "source": [
    "s = \"1       2735nt, >comp2876_c0_seq2... at +/97.44%\"\n",
    "s.split()[2].lstrip('>').rstrip('.')"
   ]
  },
  {
   "cell_type": "code",
   "execution_count": 2,
   "metadata": {
    "collapsed": true
   },
   "outputs": [],
   "source": [
    "def readCDHitClust(fn, filtDict=None):\n",
    "    tr_clust = {}\n",
    "    tr_clust_inv = {}\n",
    "    fp = open(fn)\n",
    "    cnum = None\n",
    "    for l in fp:\n",
    "        if l.startswith('>Cluster'):\n",
    "            cnum = int(l.rstrip().split()[-1])\n",
    "        else:\n",
    "            e = l.split()[2].lstrip('>').rstrip('.')\n",
    "            if not filtDict or e in filtDict:\n",
    "                tr_clust[e] = cnum\n",
    "    for k,v in tr_clust.iteritems():\n",
    "        if v in tr_clust_inv:\n",
    "            tr_clust_inv[v].append(k)\n",
    "        else:\n",
    "            tr_clust_inv[v] = [k]\n",
    "    return tr_clust, tr_clust_inv"
   ]
  },
  {
   "cell_type": "code",
   "execution_count": 3,
   "metadata": {
    "collapsed": true
   },
   "outputs": [],
   "source": [
    "def readCorset(fn):\n",
    "    ft = open(fn)\n",
    "    clust_dict = {}\n",
    "    clust_dict_inv = {}\n",
    "    for line in ft:\n",
    "        toks = line.rstrip().split()\n",
    "        clust_dict[toks[0]] = toks[1]\n",
    "    for k,v in clust_dict.iteritems():\n",
    "        if v in clust_dict_inv:\n",
    "            clust_dict_inv[v].append(k)\n",
    "        else:\n",
    "            clust_dict_inv[v] = [k]\n",
    "    return clust_dict, clust_dict_inv"
   ]
  },
  {
   "cell_type": "code",
   "execution_count": 4,
   "metadata": {
    "collapsed": false
   },
   "outputs": [],
   "source": [
    "def readMCLClust(fn):\n",
    "    fp = open(fn)\n",
    "    tr_clust = {}\n",
    "    tr_clust_inv = {}\n",
    "    key = 1\n",
    "    for cnum, line in enumerate(fp):\n",
    "        same_cluster = line.rstrip().split('\\t')\n",
    "        for contig in same_cluster:\n",
    "            tr_clust[contig] = cnum \n",
    "    for k,v in tr_clust.iteritems():\n",
    "        if v in tr_clust_inv:\n",
    "            tr_clust_inv[v].append(k)\n",
    "        else:\n",
    "            tr_clust_inv[v] = [k]\n",
    "    return tr_clust, tr_clust_inv"
   ]
  },
  {
   "cell_type": "code",
   "execution_count": 5,
   "metadata": {
    "collapsed": true
   },
   "outputs": [],
   "source": [
    "def converMCLClust(fn, ofn):\n",
    "    fp = open(fn)\n",
    "    tr_clust = {}\n",
    "    key = 1\n",
    "    for cnum, line in enumerate(fp):\n",
    "        same_cluster = line.rstrip().split('\\t')\n",
    "        for contig in same_cluster:\n",
    "            tr_clust[contig] = cnum \n",
    "    with open(ofn,'w') as ofile:\n",
    "        for k,v in tr_clust.iteritems():\n",
    "            ofile.write('{}\\t{}\\n'.format(k, v))"
   ]
  },
  {
   "cell_type": "code",
   "execution_count": 6,
   "metadata": {
    "collapsed": false
   },
   "outputs": [],
   "source": [
    "def readTrueLabels(fn):\n",
    "    ft = open(fn)\n",
    "    groundTruth_clust = {}\n",
    "    groundTruth_clust_inv = {}\n",
    "    gtClusterCount = {}\n",
    "    for line in ft:\n",
    "        tr_gn = line[:-1].split(\"\\t\")\n",
    "        groundTruth_clust[tr_gn[0]] = tr_gn[1]\n",
    "        if tr_gn[0] in gtClusterCount.keys():\n",
    "            gtClusterCount[tr_gn[0]] += 1\n",
    "        else:\n",
    "            gtClusterCount[tr_gn[0]] = 1\n",
    "    for k,v in groundTruth_clust.iteritems():\n",
    "        if v in groundTruth_clust_inv:\n",
    "            groundTruth_clust_inv[v].append(k)\n",
    "        else:\n",
    "            groundTruth_clust_inv[v] = [k]\n",
    "    return groundTruth_clust, groundTruth_clust_inv"
   ]
  },
  {
   "cell_type": "code",
   "execution_count": null,
   "metadata": {
    "collapsed": true
   },
   "outputs": [],
   "source": [
    "#count true postive for each pair of transcripts O(N^2)\n",
    "tp = 0\n",
    "fp = 0\n",
    "tn = 0\n",
    "fn = 0\n",
    "for tr_1 in groundTruth_clust.keys():\n",
    "    for tr_2 in groundTruth_clust.keys():\n",
    "        if tr_1 != tr_2:\n",
    "            if groundTruth_clust[tr_1] == groundTruth_clust[tr_2]:\n",
    "                if tr_clust[tr_1] == tr_clust[tr_2]:\n",
    "                    tp += 1\n",
    "                else:\n",
    "                    tn += 1\n",
    "            else:\n",
    "                if tr_clust[tr_1] == tr_clust[tr_2]:\n",
    "                    fp += 1\n",
    "                else:\n",
    "                    fn += 1"
   ]
  },
  {
   "cell_type": "code",
   "execution_count": 7,
   "metadata": {
    "collapsed": true
   },
   "outputs": [],
   "source": [
    "import itertools\n",
    "\n",
    "class Classification:\n",
    "    TruePos, FalsePos, TrueNeg, FalseNeg = range(4)\n",
    "\n",
    "def classType(true1, true2, pred1, pred2):\n",
    "    if true1 == true2:\n",
    "        if pred1 == pred2:\n",
    "            return Classification.TruePos\n",
    "        else: # truely the same, predicted different\n",
    "            return Classification.FalseNeg\n",
    "    else: # truly different\n",
    "        if pred1 == pred2: #predicted same\n",
    "            return Classification.FalsePos\n",
    "        else:\n",
    "            return Classification.TrueNeg\n",
    "        \n",
    "    \n",
    "def accuracyExpressed(groundTruth_clust, tr_clust):\n",
    "    #count true postive for each pair of transcripts O(N^2)\n",
    "    tp, fp, tn, fn = 0, 0, 0, 0\n",
    "    for tr_1, tr_2 in itertools.combinations(tr_clust.keys(), 2):\n",
    "        if tr_1 not in groundTruth_clust or tr_2 not in groundTruth_clust:\n",
    "            continue\n",
    "        ct = classType(groundTruth_clust[tr_1], groundTruth_clust[tr_2], tr_clust[tr_1], tr_clust[tr_2]) \n",
    "        if ct == Classification.TruePos:\n",
    "            tp += 1\n",
    "        elif ct == Classification.TrueNeg:\n",
    "            tn += 1\n",
    "        elif ct == Classification.FalsePos:\n",
    "            fp += 1\n",
    "        elif ct == Classification.FalseNeg:\n",
    "            fn += 1\n",
    "    return tp, fp, tn, fn\n",
    "\n",
    "\n",
    "def accuracyExpressedFast(groundTruth_clust, groundTruth_clust_inv,\n",
    "                          tr_clust, tr_clust_inv):\n",
    "    num = len(set(tr_clust.keys()) & set(groundTruth_clust.keys()))\n",
    "    tp, fp, tn, fn = 0, 0, 0, 0\n",
    "    for clustName, clustMems in tr_clust_inv.iteritems():\n",
    "        for tr_1, tr_2 in itertools.combinations(clustMems,2):\n",
    "            if tr_1 not in groundTruth_clust or tr_2 not in groundTruth_clust:\n",
    "                continue\n",
    "            if groundTruth_clust[tr_1] == groundTruth_clust[tr_2]:\n",
    "                tp += 1\n",
    "            else:\n",
    "                fp += 1\n",
    "    for clustName, clustMems in groundTruth_clust_inv.iteritems():\n",
    "        for tr_1, tr_2 in itertools.combinations(clustMems,2):\n",
    "            if tr_1 not in tr_clust or tr_2 not in tr_clust:\n",
    "                continue\n",
    "            if tr_clust[tr_1] != tr_clust[tr_2]:\n",
    "                fn += 1\n",
    "    nc2 = (num * (num-1)) / 2\n",
    "    tn = nc2 - (fp + tp + fn)\n",
    "    return tp, fp, tn, fn"
   ]
  },
  {
   "cell_type": "code",
   "execution_count": null,
   "metadata": {
    "collapsed": true
   },
   "outputs": [],
   "source": [
    "converMCLClust(\"/home/hirak/rapmapClustering/sailfish/build/time_results/quant_human.clust\",\"/home/hirak/rapmapClustering/sailfish/build/time_results/quant_human.clust2\")"
   ]
  },
  {
   "cell_type": "code",
   "execution_count": 14,
   "metadata": {
    "collapsed": true
   },
   "outputs": [],
   "source": [
    "ft = \"/home/hirak/rapmapClustering/sailfish/build/time_results/quant_yeast.clust\"\n",
    "tr_clust, tr_clust_inv = readMCLClust(ft)"
   ]
  },
  {
   "cell_type": "code",
   "execution_count": 15,
   "metadata": {
    "collapsed": true
   },
   "outputs": [],
   "source": [
    "ft = \"/mnt/scratch3/avi/clustering/yeast/truth/contigs2genes.disambiguous.txt\"\n",
    "groundTruth_clust, ground_truth_clust_inv = readTrueLabels(ft)"
   ]
  },
  {
   "cell_type": "code",
   "execution_count": 16,
   "metadata": {
    "collapsed": false
   },
   "outputs": [
    {
     "name": "stdout",
     "output_type": "stream",
     "text": [
      "tp : 468, fp : 840, tn : 2037692, fn : 190\n"
     ]
    }
   ],
   "source": [
    "tp, fp, tn, fn = accuracyExpressedFast(groundTruth_clust, ground_truth_clust_inv, tr_clust, tr_clust_inv)\n",
    "print(\"tp : {}, fp : {}, tn : {}, fn : {}\".format(tp, fp, tn, fn))"
   ]
  },
  {
   "cell_type": "code",
   "execution_count": 17,
   "metadata": {
    "collapsed": false
   },
   "outputs": [
    {
     "name": "stdout",
     "output_type": "stream",
     "text": [
      "prec: 0.357798165138, recall: 0.711246200608\n"
     ]
    }
   ],
   "source": [
    "print(\"prec: {}, recall: {}\".format(tp / float(tp + fp), tp / float(tp + fn)))"
   ]
  },
  {
   "cell_type": "code",
   "execution_count": 333,
   "metadata": {
    "collapsed": false
   },
   "outputs": [
    {
     "name": "stdout",
     "output_type": "stream",
     "text": [
      "tp : 453, fp : 30136, tn : 2008396, fn : 205\n"
     ]
    }
   ],
   "source": [
    "tp, fp, tn, fn = accuracyExpressedFast(groundTruth_clust, ground_truth_clust_inv, tr_clust, tr_clust_inv)\n",
    "print(\"tp : {}, fp : {}, tn : {}, fn : {}\".format(tp, fp, tn, fn))"
   ]
  },
  {
   "cell_type": "code",
   "execution_count": 331,
   "metadata": {
    "collapsed": false
   },
   "outputs": [],
   "source": [
    "ft = \"/mnt/scratch3/avi/clustering/yeast/truth/contigs2genes.disambiguous.txt\"\n",
    "groundTruth_clust, ground_truth_clust_inv = readTrueLabels(ft)"
   ]
  },
  {
   "cell_type": "code",
   "execution_count": 332,
   "metadata": {
    "collapsed": false
   },
   "outputs": [],
   "source": [
    "ft = \"/home/hirak/quant_mod_count.clust\"\n",
    "tr_clust, tr_clust_inv = readMCLClust(ft)"
   ]
  },
  {
   "cell_type": "code",
   "execution_count": 201,
   "metadata": {
    "collapsed": false
   },
   "outputs": [],
   "source": [
    "ft = \"/mnt/scratch3/avi/clustering/yeast/cd_hit/0.8.clstr\"\n",
    "cd_clust = readCDHitClust(ft, filtDict=tr_clust)"
   ]
  },
  {
   "cell_type": "code",
   "execution_count": 202,
   "metadata": {
    "collapsed": false
   },
   "outputs": [
    {
     "name": "stdout",
     "output_type": "stream",
     "text": [
      "tp : 239, fp : 340, tn : 2038192, fn : 419\n"
     ]
    }
   ],
   "source": [
    "tp, fp, tn, fn = accuracyExpressed(groundTruth_clust, cd_clust)\n",
    "print(\"tp : {}, fp : {}, tn : {}, fn : {}\".format(tp, fp, tn, fn))"
   ]
  },
  {
   "cell_type": "code",
   "execution_count": 203,
   "metadata": {
    "collapsed": false
   },
   "outputs": [
    {
     "name": "stdout",
     "output_type": "stream",
     "text": [
      "prec: 0.412780656304, recall: 0.363221884498\n"
     ]
    }
   ],
   "source": [
    "print(\"prec: {}, recall: {}\".format(tp / float(tp + fp), tp / float(tp + fn)))"
   ]
  },
  {
   "cell_type": "code",
   "execution_count": 152,
   "metadata": {
    "collapsed": false
   },
   "outputs": [
    {
     "data": {
      "text/plain": [
       "True"
      ]
     },
     "execution_count": 152,
     "metadata": {},
     "output_type": "execute_result"
    }
   ],
   "source": []
  },
  {
   "cell_type": "code",
   "execution_count": 57,
   "metadata": {
    "collapsed": false
   },
   "outputs": [
    {
     "data": {
      "text/plain": [
       "7353"
      ]
     },
     "execution_count": 57,
     "metadata": {},
     "output_type": "execute_result"
    }
   ],
   "source": [
    "len(tr_clust.keys())"
   ]
  },
  {
   "cell_type": "code",
   "execution_count": 25,
   "metadata": {
    "collapsed": false
   },
   "outputs": [
    {
     "data": {
      "text/plain": [
       "('true positive: 620',\n",
       " 'false positive: 41626',\n",
       " 'true negative: 696',\n",
       " 'false negative: 4035438')"
      ]
     },
     "execution_count": 25,
     "metadata": {},
     "output_type": "execute_result"
    }
   ],
   "source": [
    "\"true positive: \"+str(tp),\"false positive: \"+str(fp),\"true negative: \"+str(tn),\"false negative: \"+str(fn)"
   ]
  },
  {
   "cell_type": "code",
   "execution_count": 26,
   "metadata": {
    "collapsed": false
   },
   "outputs": [
    {
     "data": {
      "text/plain": [
       "u'/mnt/scratch1/avi/rapmapAnalysis/data/stats/ipython'"
      ]
     },
     "execution_count": 26,
     "metadata": {},
     "output_type": "execute_result"
    }
   ],
   "source": [
    "pwd"
   ]
  },
  {
   "cell_type": "code",
   "execution_count": 28,
   "metadata": {
    "collapsed": false
   },
   "outputs": [
    {
     "data": {
      "text/plain": [
       "(array([ 3421.,   861.,   622.,   582.,   311.,   311.,   311.,   311.,\n",
       "          311.,   312.]),\n",
       " array([  1.00000000e+00,   3.12000000e+02,   6.23000000e+02,\n",
       "          9.34000000e+02,   1.24500000e+03,   1.55600000e+03,\n",
       "          1.86700000e+03,   2.17800000e+03,   2.48900000e+03,\n",
       "          2.80000000e+03,   3.11100000e+03]),\n",
       " <a list of 10 Patch objects>)"
      ]
     },
     "execution_count": 28,
     "metadata": {},
     "output_type": "execute_result"
    },
    {
     "data": {
      "image/png": "[encoded data removed]",
      "text/plain": [
       "<matplotlib.figure.Figure at 0x7fba1dccb090>"
      ]
     },
     "metadata": {},
     "output_type": "display_data"
    }
   ],
   "source": [
    "%matplotlib inline\n",
    "plt.hist(tr_clust.values())"
   ]
  },
  {
   "cell_type": "code",
   "execution_count": 30,
   "metadata": {
    "collapsed": false
   },
   "outputs": [
    {
     "data": {
      "text/plain": [
       "(array([    0.,     0.,     0.,     0.,     0.,  2020.,     0.,     0.,\n",
       "            0.,     0.]),\n",
       " array([ 0.5,  0.6,  0.7,  0.8,  0.9,  1. ,  1.1,  1.2,  1.3,  1.4,  1.5]),\n",
       " <a list of 10 Patch objects>)"
      ]
     },
     "execution_count": 30,
     "metadata": {},
     "output_type": "execute_result"
    },
    {
     "data": {
      "image/png": "[encoded data removed]",
      "text/plain": [
       "<matplotlib.figure.Figure at 0x7fba1dc22250>"
      ]
     },
     "metadata": {},
     "output_type": "display_data"
    }
   ],
   "source": [
    "%matplotlib inline\n",
    "plt.hist(gtClusterCount.values())"
   ]
  },
  {
   "cell_type": "code",
   "execution_count": 31,
   "metadata": {
    "collapsed": false
   },
   "outputs": [
    {
     "ename": "ImportError",
     "evalue": "No module named plotly.plotly",
     "output_type": "error",
     "traceback": [
      "\u001b[1;31m---------------------------------------------------------------------------\u001b[0m",
      "\u001b[1;31mImportError\u001b[0m                               Traceback (most recent call last)",
      "\u001b[1;32m<ipython-input-31-c7a267d39ed4>\u001b[0m in \u001b[0;36m<module>\u001b[1;34m()\u001b[0m\n\u001b[1;32m----> 1\u001b[1;33m \u001b[1;32mimport\u001b[0m \u001b[0mplotly\u001b[0m\u001b[1;33m.\u001b[0m\u001b[0mplotly\u001b[0m \u001b[1;32mas\u001b[0m \u001b[0mpy\u001b[0m\u001b[1;33m\u001b[0m\u001b[0m\n\u001b[0m\u001b[0;32m      2\u001b[0m \u001b[1;32mimport\u001b[0m \u001b[0mplotly\u001b[0m\u001b[1;33m.\u001b[0m\u001b[0mgraph_objs\u001b[0m \u001b[1;32mas\u001b[0m \u001b[0mgo\u001b[0m\u001b[1;33m\u001b[0m\u001b[0m\n",
      "\u001b[1;31mImportError\u001b[0m: No module named plotly.plotly"
     ]
    }
   ],
   "source": [
    "import plotly.plotly as py\n",
    "import plotly.graph_objs as go"
   ]
  },
  {
   "cell_type": "code",
   "execution_count": 313,
   "metadata": {
    "collapsed": true
   },
   "outputs": [],
   "source": [
    "ft = \"/home/rob/quant_yeast_mod.clust\"\n",
    "tr_clust_rob = readMCLClust(ft)"
   ]
  },
  {
   "cell_type": "code",
   "execution_count": 314,
   "metadata": {
    "collapsed": false
   },
   "outputs": [
    {
     "name": "stdout",
     "output_type": "stream",
     "text": [
      "tp : 468, fp : 840, tn : 2037692, fn : 190\n"
     ]
    }
   ],
   "source": [
    "tp, fp, tn, fn = accuracyExpressed(groundTruth_clust, tr_clust_rob)\n",
    "print(\"tp : {}, fp : {}, tn : {}, fn : {}\".format(tp, fp, tn, fn))"
   ]
  },
  {
   "cell_type": "code",
   "execution_count": 315,
   "metadata": {
    "collapsed": false
   },
   "outputs": [
    {
     "name": "stdout",
     "output_type": "stream",
     "text": [
      "prec: 0.357798165138, recall: 0.711246200608\n"
     ]
    }
   ],
   "source": [
    "print(\"prec: {}, recall: {}\".format(tp / float(tp + fp), tp / float(tp + fn)))"
   ]
  },
  {
   "cell_type": "code",
   "execution_count": 310,
   "metadata": {
    "collapsed": false
   },
   "outputs": [],
   "source": [
    "ft = \"/mnt/scratch3/avi/clustering/corsetData/Yeast-Trinity/corset-clusters.txt\"\n",
    "corset_clust = readCorset(ft)"
   ]
  },
  {
   "cell_type": "code",
   "execution_count": 311,
   "metadata": {
    "collapsed": false
   },
   "outputs": [
    {
     "name": "stdout",
     "output_type": "stream",
     "text": [
      "tp : 412, fp : 745, tn : 2037787, fn : 246\n"
     ]
    }
   ],
   "source": [
    "tp, fp, tn, fn = accuracyExpressed(groundTruth_clust, corset_clust)\n",
    "print(\"tp : {}, fp : {}, tn : {}, fn : {}\".format(tp, fp, tn, fn))"
   ]
  },
  {
   "cell_type": "code",
   "execution_count": 312,
   "metadata": {
    "collapsed": false
   },
   "outputs": [
    {
     "name": "stdout",
     "output_type": "stream",
     "text": [
      "prec: 0.356093344857, recall: 0.626139817629\n"
     ]
    }
   ],
   "source": [
    "print(\"prec: {}, recall: {}\".format(tp / float(tp + fp), tp / float(tp + fn)))"
   ]
  },
  {
   "cell_type": "code",
   "execution_count": 354,
   "metadata": {
    "collapsed": true
   },
   "outputs": [],
   "source": [
    "ft_hs = \"/mnt/scratch3/avi/clustering/human/truth/contigs2genes.disambiguous.txt\"\n",
    "groundTruth_clust_hs, ground_truth_clust_inv_hs = readTrueLabels(ft_hs)"
   ]
  },
  {
   "cell_type": "code",
   "execution_count": 355,
   "metadata": {
    "collapsed": true
   },
   "outputs": [],
   "source": [
    "ft_hs = \"/home/rob/quant_human_mod.clust\"\n",
    "tr_clust_hs, tr_clust_inv_hs = readMCLClust(ft_hs)"
   ]
  },
  {
   "cell_type": "code",
   "execution_count": 356,
   "metadata": {
    "collapsed": false
   },
   "outputs": [
    {
     "name": "stdout",
     "output_type": "stream",
     "text": [
      "tp : 94896, fp : 5189, tn : 958291019, fn : 62549\n"
     ]
    }
   ],
   "source": [
    "tp, fp, tn, fn = accuracyExpressedFast(groundTruth_clust_hs, ground_truth_clust_inv_hs, tr_clust_hs, tr_clust_inv_hs)\n",
    "print(\"tp : {}, fp : {}, tn : {}, fn : {}\".format(tp, fp, tn, fn))"
   ]
  },
  {
   "cell_type": "code",
   "execution_count": 357,
   "metadata": {
    "collapsed": false
   },
   "outputs": [
    {
     "name": "stdout",
     "output_type": "stream",
     "text": [
      "prec: 0.948154069041, recall: 0.602724761028\n"
     ]
    }
   ],
   "source": [
    "print(\"prec: {}, recall: {}\".format(tp / float(tp + fp), tp / float(tp + fn)))"
   ]
  },
  {
   "cell_type": "code",
   "execution_count": 18,
   "metadata": {
    "collapsed": true
   },
   "outputs": [],
   "source": [
    "s = '/home/hirak/rapmapClustering/sailfish/build/oases_data/oases_yeast/quant.net'\n",
    "import pandas as pd\n",
    "d = pd.read_table(s)"
   ]
  },
  {
   "cell_type": "code",
   "execution_count": 21,
   "metadata": {
    "collapsed": false
   },
   "outputs": [],
   "source": [
    "d = d.convert_objects(convert_numeric=True)"
   ]
  },
  {
   "cell_type": "code",
   "execution_count": 24,
   "metadata": {
    "collapsed": false
   },
   "outputs": [],
   "source": [
    "v = np.array(d.ix[:,2])"
   ]
  },
  {
   "cell_type": "code",
   "execution_count": 28,
   "metadata": {
    "collapsed": true
   },
   "outputs": [],
   "source": [
    "import matplotlib.pyplot as plt\n",
    "%matplotlib inline"
   ]
  },
  {
   "cell_type": "code",
   "execution_count": 30,
   "metadata": {
    "collapsed": false
   },
   "outputs": [
    {
     "data": {
      "image/png": "[encoded data removed]",
      "text/plain": [
       "<matplotlib.figure.Figure at 0x7f602b3ad8d0>"
      ]
     },
     "metadata": {},
     "output_type": "display_data"
    }
   ],
   "source": [
    "_ = plt.hist(v, bins=100, log=True)"
   ]
  },
  {
   "cell_type": "code",
   "execution_count": null,
   "metadata": {
    "collapsed": true
   },
   "outputs": [],
   "source": []
  }
 ],
 "metadata": {
  "kernelspec": {
   "display_name": "Python 2",
   "language": "python",
   "name": "python2"
  },
  "language_info": {
   "codemirror_mode": {
    "name": "ipython",
    "version": 2
   },
   "file_extension": ".py",
   "mimetype": "text/x-python",
   "name": "python",
   "nbconvert_exporter": "python",
   "pygments_lexer": "ipython2",
   "version": "2.7.8"
  }
 },
 "nbformat": 4,
 "nbformat_minor": 0
}

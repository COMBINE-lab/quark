{
 "cells": [
  {
   "cell_type": "code",
   "execution_count": 84,
   "metadata": {
    "collapsed": false
   },
   "outputs": [],
   "source": [
    "%matplotlib inline\n",
    "import math\n",
    "import seaborn as sns\n",
    "import pandas as pd\n",
    "import matplotlib\n",
    "import matplotlib.pyplot as plt"
   ]
  },
  {
   "cell_type": "code",
   "execution_count": 85,
   "metadata": {
    "collapsed": true
   },
   "outputs": [],
   "source": [
    "def addBreakClips(ax1,ax2):\n",
    "    \"\"\" Code to add diagonal slashes to truncated y-axes.\n",
    "    copied from http://matplotlib.org/examples/pylab_examples/broken_axis.html\"\"\"\n",
    "    \n",
    "    d = .015 # how big to make the diagonal lines in axes coordinates\n",
    "    # arguments to pass plot, just so we don't keep repeating them\n",
    "    kwargs = dict(transform=ax1.transAxes, color='r', clip_on=False)\n",
    "    ax1.plot((-d,+d),(-d,+d), **kwargs)      # top-left diagonal\n",
    "    #ax1.plot((1-d,1+d),(-d,+d), **kwargs)    # top-right diagonal\n",
    "\n",
    "    kwargs.update(transform=ax2.transAxes)  # switch to the bottom axes\n",
    "    ax2.plot((-d,+d),(1-d,1+d), **kwargs)   # bottom-left diagonal\n",
    "    #ax2.plot((1-d,1+d),(1-d,1+d), **kwargs) # bottom-right diagonal"
   ]
  },
  {
   "cell_type": "code",
   "execution_count": 86,
   "metadata": {
    "collapsed": true
   },
   "outputs": [],
   "source": [
    "def barvalues(m,u,ms,us):\n",
    "    mp = float(m)/float(m+u)\n",
    "    up = float(u)/float(m+u)\n",
    "    msp = float(ms)/float(ms+us)\n",
    "    usp = float(us)/float(ms+us)\n",
    "    return map(int,(mp*100,up*100,msp*100,usp*100))"
   ]
  },
  {
   "cell_type": "code",
   "execution_count": 87,
   "metadata": {
    "collapsed": true
   },
   "outputs": [],
   "source": [
    "#49\n",
    "mapped_reads = 37562274\n",
    "unmapped_reads = 11565349\n",
    "zipped_mapped = 131+8\n",
    "zipped_unmapped = 141\n",
    "v49 = barvalues(mapped_reads,unmapped_reads,zipped_mapped,zipped_unmapped)"
   ]
  },
  {
   "cell_type": "code",
   "execution_count": 88,
   "metadata": {
    "collapsed": false
   },
   "outputs": [
    {
     "data": {
      "text/plain": [
       "[76, 23, 49, 50]"
      ]
     },
     "execution_count": 88,
     "metadata": {},
     "output_type": "execute_result"
    }
   ],
   "source": [
    "v49 "
   ]
  },
  {
   "cell_type": "code",
   "execution_count": 89,
   "metadata": {
    "collapsed": true
   },
   "outputs": [],
   "source": [
    "#63\n",
    "mapped_reads = 21624168\n",
    "unmapped_reads = 5641713\n",
    "zipped_mapped = 86 + 15\n",
    "zipped_unmapped = 52+52\n",
    "v63 = barvalues(mapped_reads,unmapped_reads,zipped_mapped,zipped_unmapped)"
   ]
  },
  {
   "cell_type": "code",
   "execution_count": 90,
   "metadata": {
    "collapsed": true
   },
   "outputs": [],
   "source": [
    "#44\n",
    "mapped_reads = 25511853\n",
    "unmapped_reads = 7431772\n",
    "zipped_mapped = 11+109\n",
    "zipped_unmapped = 117\n",
    "v44 =  barvalues(mapped_reads,unmapped_reads,zipped_mapped,zipped_unmapped)"
   ]
  },
  {
   "cell_type": "code",
   "execution_count": 91,
   "metadata": {
    "collapsed": false
   },
   "outputs": [],
   "source": [
    "mapped = [v63[0],v63[2],v49[0],v49[2],v44[0],v44[2]]"
   ]
  },
  {
   "cell_type": "code",
   "execution_count": 92,
   "metadata": {
    "collapsed": true
   },
   "outputs": [],
   "source": [
    "unmapped = [v63[1],v63[3],v49[1],v49[3],v44[1],v44[3]]"
   ]
  },
  {
   "cell_type": "code",
   "execution_count": 113,
   "metadata": {
    "collapsed": false
   },
   "outputs": [
    {
     "data": {
      "image/png": "[encoded data removed]",
      "text/plain": [
       "<matplotlib.figure.Figure at 0x7fcea65a7fd0>"
      ]
     },
     "metadata": {},
     "output_type": "display_data"
    }
   ],
   "source": [
    "sns.set_style(\"white\")\n",
    "width = 0.07 \n",
    "fig,ax = plt.subplots(1, 1, sharex=True)\n",
    "ax.set_ylim([0,150])\n",
    "plt.ylabel('Percentage of mapped vs unmapped', fontsize= 'large' )\n",
    "plt.xlabel('SRRID: (SRR635193,SRR445718,SRR490961)', fontsize= 'large' )\n",
    "x = [1,1,1.5,1.5,2,6]\n",
    "m = ax.bar([x[0]-0.1,x[0]+0.1],[mapped[0],mapped[1]],width,align='center')\n",
    "u = ax.bar([x[0]-0.1,x[0]+0.1],[unmapped[0],unmapped[1]],width,bottom=[mapped[0],mapped[1]], color='r', fill=False, hatch='//', align='center')\n",
    "ax.bar([x[2]-0.1,x[2]+0.1],[mapped[2],mapped[3]],width,align='center')\n",
    "ax.bar([x[2]-0.1,x[2]+0.1],[unmapped[2],unmapped[3]],width,bottom=[mapped[2],mapped[3]], color='r', fill=False, hatch='//', align='center')\n",
    "ax.bar([x[4]-0.1,x[4]+0.1],[mapped[4],mapped[5]],width,align='center')\n",
    "ax.bar([x[4]-0.1,x[4]+0.1],[unmapped[4],unmapped[5]],width,bottom=[mapped[4],mapped[5]], color='r', fill=False, hatch='//', align='center')\n",
    "ax.set_xlim([0.8,2.2])\n",
    "ax.legend( (m,u), ('mapped', 'unmapped') )\n",
    "ax.text(m[0].get_x() + m[0].get_width()/2., 1.05*100,'%s' % \"2.3G\",ha='center', va='bottom')\n",
    "ax.text(m[1].get_x() + m[1].get_width()/2., 1.05*100,'%s' % \"140M\",ha='center', va='bottom')\n",
    "plt.xticks([x[0]-0.1,x[0]+0.1,x[2]-0.1,x[2]+0.1,x[4]-0.1,x[4]+0.1],['Original','Quark','Original','Quark','Original','Quark'], size='small', rotation=45)\n",
    "\n",
    "#plt.xticks([x[2]-0.1,x[2]+0.1],['Original','Quark'], size='small', rotation=45)\n",
    "#plt.xticks([x[4]-0.1,x[4]+0.1],['Original','Quark'], size='small', rotation=45)\n",
    "sns.despine()\n",
    "#ax.bar(x[0]+0.2,mapped[1],width,align='center')\n",
    "#ax.bar(x-0.2, y,width=0.2,color='b',align='center')\n",
    "#ax.bar(x, z,width=0.2,color='g',align='center')\n",
    "#ax.bar(range(6),mapped,width,align='center')\n",
    "#ax.bar(range(6), unmapped,width, bottom=mapped, color='r', fill=False, hatch='//', align='center')\n",
    "plt.savefig('/home/hirak/percent.pdf',bbox_inches='tight', pad_inches=0)"
   ]
  },
  {
   "cell_type": "code",
   "execution_count": 109,
   "metadata": {
    "collapsed": false
   },
   "outputs": [
    {
     "data": {
      "text/plain": [
       "79.0"
      ]
     },
     "execution_count": 109,
     "metadata": {},
     "output_type": "execute_result"
    }
   ],
   "source": [
    "m[0].get_height()"
   ]
  },
  {
   "cell_type": "code",
   "execution_count": 3,
   "metadata": {
    "collapsed": false
   },
   "outputs": [
    {
     "data": {
      "text/plain": [
       "27265881"
      ]
     },
     "execution_count": 3,
     "metadata": {},
     "output_type": "execute_result"
    }
   ],
   "source": [
    "109063524/4"
   ]
  },
  {
   "cell_type": "code",
   "execution_count": 5,
   "metadata": {
    "collapsed": false
   },
   "outputs": [
    {
     "data": {
      "text/plain": [
       "32943625"
      ]
     },
     "execution_count": 5,
     "metadata": {},
     "output_type": "execute_result"
    }
   ],
   "source": [
    "25511853 + 7431772"
   ]
  },
  {
   "cell_type": "code",
   "execution_count": null,
   "metadata": {
    "collapsed": true
   },
   "outputs": [],
   "source": []
  }
 ],
 "metadata": {
  "kernelspec": {
   "display_name": "Python 2",
   "language": "python",
   "name": "python2"
  },
  "language_info": {
   "codemirror_mode": {
    "name": "ipython",
    "version": 2
   },
   "file_extension": ".py",
   "mimetype": "text/x-python",
   "name": "python",
   "nbconvert_exporter": "python",
   "pygments_lexer": "ipython2",
   "version": "2.7.8"
  }
 },
 "nbformat": 4,
 "nbformat_minor": 0
}

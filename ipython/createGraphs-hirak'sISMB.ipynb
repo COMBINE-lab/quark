{
 "cells": [
  {
   "cell_type": "code",
   "execution_count": 49,
   "metadata": {
    "collapsed": false
   },
   "outputs": [],
   "source": [
    "%matplotlib inline\n",
    "import math\n",
    "import seaborn as sns\n",
    "import pandas as pd\n",
    "import matplotlib\n",
    "import matplotlib.pyplot as plt\n",
    "\n",
    "VenFile = \"/home/hirak/Ven.txt\"\n",
    "mapperAccuracyFile = \"mapperAccuracy.txt\"\n",
    "kmerAccuracyPrefix = \"kmerAccuracy\"\n",
    "timeMapperFile = \"timerMapper.txt\"\n",
    "timeIndexFile= \"./dummy_reads/timeMapIndex.txt\"\n",
    "kmerSize = [21, 25, 27, 31]"
   ]
  },
  {
   "cell_type": "markdown",
   "metadata": {},
   "source": [
    "###Read Accuracy into a dictionary"
   ]
  },
  {
   "cell_type": "code",
   "execution_count": 2,
   "metadata": {
    "collapsed": false
   },
   "outputs": [],
   "source": [
    "def readValue(fileName, flag = ''):\n",
    "    mapValueDict = {}\n",
    "    with open(fileName, 'r') as fileHandle:\n",
    "        for line in fileHandle:\n",
    "            #get name of mapper\n",
    "            if flag == 'kmerFile':\n",
    "                mapperName = len(mapValueDict)+1\n",
    "            else:\n",
    "                mapperName = line.strip().split(\"/\")[-1].replace('.sam','')   \n",
    "\n",
    "            #use temporary dictionary\n",
    "            valueDict = {}\n",
    "\n",
    "            #get total no. of reads\n",
    "            line = fileHandle.next().strip()\n",
    "            valueDict['reads'] = int(line.split(\"=\")[-1])\n",
    "\n",
    "            #get # of reads Aligned\n",
    "            line = fileHandle.next().strip()\n",
    "            valueDict['align'] = int(line.split(\"=\")[-1])\n",
    "\n",
    "            #get # of True positive\n",
    "            line = fileHandle.next().strip()\n",
    "            valueDict['tp'] = int(line.split(\"=\")[-1])\n",
    "\n",
    "            #get # of False positive\n",
    "            line = fileHandle.next().strip()\n",
    "            valueDict['fp'] = int(line.split(\"=\")[-1])\n",
    "\n",
    "            #get # of False negative\n",
    "            line = fileHandle.next().strip()\n",
    "            valueDict['fn'] = int(line.split(\"=\")[-1])\n",
    "\n",
    "            #get precision\n",
    "            line = fileHandle.next().strip()\n",
    "            valueDict['pre'] = float(line.split(\"=\")[-1].replace('%',''))\n",
    "\n",
    "            #get recall\n",
    "            line = fileHandle.next().strip()\n",
    "            valueDict['recall'] = float(line.split(\"=\")[-1].replace('%',''))\n",
    "\n",
    "            #ignore true positve % since same as precision\n",
    "            line = fileHandle.next().strip()\n",
    "\n",
    "            #get FDR %\n",
    "            line = fileHandle.next().strip()\n",
    "            valueDict['fdr'] = float(line.split(\"=\")[-1].replace('%',''))\n",
    "\n",
    "            #get f1 %\n",
    "            line = fileHandle.next().strip()\n",
    "            valueDict['f1'] = float(line.split(\"=\")[-1].replace('%',''))\n",
    "\n",
    "            #get avg hits per read\n",
    "\n",
    "            line = fileHandle.next().strip()\n",
    "            valueDict['hpr'] = float(line.split(\"=\")[-1].replace('%',''))\n",
    "\n",
    "            mapValueDict[mapperName] = valueDict\n",
    "\n",
    "        return mapValueDict"
   ]
  },
  {
   "cell_type": "code",
   "execution_count": 27,
   "metadata": {
    "collapsed": true
   },
   "outputs": [],
   "source": [
    "df = pd.read_table(VenFile,index_col=0,header=None,names=[\"QuasiNew\",\"QuasiOld\",\"kallisto\",\"Star\",\"B2\"],skiprows=1)"
   ]
  },
  {
   "cell_type": "code",
   "execution_count": 34,
   "metadata": {
    "collapsed": true
   },
   "outputs": [],
   "source": [
    "s = df['QuasiNew'][4]"
   ]
  },
  {
   "cell_type": "code",
   "execution_count": 37,
   "metadata": {
    "collapsed": false
   },
   "outputs": [
    {
     "data": {
      "text/plain": [
       "'97.18'"
      ]
     },
     "execution_count": 37,
     "metadata": {},
     "output_type": "execute_result"
    }
   ],
   "source": [
    "s.strip('%')"
   ]
  },
  {
   "cell_type": "code",
   "execution_count": 38,
   "metadata": {
    "collapsed": false
   },
   "outputs": [],
   "source": [
    "for i in range(0,len(df)):\n",
    "    s= df['QuasiNew'][i]\n",
    "    if(s[-1] != '%'):\n",
    "        df['QuasiNew'][i] = float(df['QuasiNew'][i])\n",
    "    else:\n",
    "        df['QuasiNew'][i] = float(s.strip('%'))\n",
    "        \n",
    "    s= df['QuasiOld'][i]\n",
    "    if(s[-1] != '%'):\n",
    "        df['QuasiOld'][i] = float(df['QuasiOld'][i])\n",
    "    else:\n",
    "        df['kallisto'][i] = float(s.strip('%'))\n",
    "        \n",
    "    if(s[-1] != '%'):\n",
    "        df['kallisto'][i] = float(df['kallisto'][i])\n",
    "    else:\n",
    "        df['kallisto'][i] = float(s.strip('%'))\n",
    "        \n",
    "    if(s[-1] != '%'):\n",
    "        df['Star'][i] = float(df['Star'][i])\n",
    "    else:\n",
    "        df['Star'][i] = float(s.strip('%'))\n",
    "        \n",
    "    if(s[-1] != '%'):\n",
    "        df['B2'][i] = float(df['B2'][i])\n",
    "    else:\n",
    "        df['B2'][i] = float(s.strip('%'))"
   ]
  },
  {
   "cell_type": "code",
   "execution_count": 39,
   "metadata": {
    "collapsed": false
   },
   "outputs": [
    {
     "data": {
      "text/html": [
       "<div>\n",
       "<table border=\"1\" class=\"dataframe\">\n",
       "  <thead>\n",
       "    <tr style=\"text-align: right;\">\n",
       "      <th></th>\n",
       "      <th>QuasiNew</th>\n",
       "      <th>QuasiOld</th>\n",
       "      <th>kallisto</th>\n",
       "      <th>Star</th>\n",
       "      <th>B2</th>\n",
       "    </tr>\n",
       "  </thead>\n",
       "  <tbody>\n",
       "    <tr>\n",
       "      <th>Reads Aligned</th>\n",
       "      <td>8.74627e+06</td>\n",
       "      <td>8.95219e+06</td>\n",
       "      <td>8.37543e+06</td>\n",
       "      <td>8.33295e+06</td>\n",
       "      <td>8.94063e+06</td>\n",
       "    </tr>\n",
       "    <tr>\n",
       "      <th>True Pos</th>\n",
       "      <td>8.49926e+06</td>\n",
       "      <td>8.64669e+06</td>\n",
       "      <td>8.05644e+06</td>\n",
       "      <td>8.00269e+06</td>\n",
       "      <td>8.64226e+06</td>\n",
       "    </tr>\n",
       "    <tr>\n",
       "      <th>False Pos</th>\n",
       "      <td>247003</td>\n",
       "      <td>305495</td>\n",
       "      <td>318992</td>\n",
       "      <td>330261</td>\n",
       "      <td>298363</td>\n",
       "    </tr>\n",
       "    <tr>\n",
       "      <th>False Neg</th>\n",
       "      <td>1.25373e+06</td>\n",
       "      <td>1.04781e+06</td>\n",
       "      <td>1.62457e+06</td>\n",
       "      <td>1.66705e+06</td>\n",
       "      <td>1.05937e+06</td>\n",
       "    </tr>\n",
       "    <tr>\n",
       "      <th>Precision</th>\n",
       "      <td>97.18</td>\n",
       "      <td>96.59%</td>\n",
       "      <td>96.59</td>\n",
       "      <td>96.59</td>\n",
       "      <td>96.59</td>\n",
       "    </tr>\n",
       "    <tr>\n",
       "      <th>Recall</th>\n",
       "      <td>87.15</td>\n",
       "      <td>89.19%</td>\n",
       "      <td>89.19</td>\n",
       "      <td>89.19</td>\n",
       "      <td>89.19</td>\n",
       "    </tr>\n",
       "    <tr>\n",
       "      <th>FDR</th>\n",
       "      <td>2.82</td>\n",
       "      <td>3.41%</td>\n",
       "      <td>3.41</td>\n",
       "      <td>3.41</td>\n",
       "      <td>3.41</td>\n",
       "    </tr>\n",
       "    <tr>\n",
       "      <th>F1 Score</th>\n",
       "      <td>91.89</td>\n",
       "      <td>92.74%</td>\n",
       "      <td>92.74</td>\n",
       "      <td>92.74</td>\n",
       "      <td>92.74</td>\n",
       "    </tr>\n",
       "    <tr>\n",
       "      <th>Noise cases</th>\n",
       "      <td>131419</td>\n",
       "      <td>174096</td>\n",
       "      <td>130253</td>\n",
       "      <td>84001</td>\n",
       "      <td>166665</td>\n",
       "    </tr>\n",
       "  </tbody>\n",
       "</table>\n",
       "</div>"
      ],
      "text/plain": [
       "                  QuasiNew     QuasiOld     kallisto         Star           B2\n",
       "Reads Aligned  8.74627e+06  8.95219e+06  8.37543e+06  8.33295e+06  8.94063e+06\n",
       "True Pos       8.49926e+06  8.64669e+06  8.05644e+06  8.00269e+06  8.64226e+06\n",
       "False Pos           247003       305495       318992       330261       298363\n",
       "False Neg      1.25373e+06  1.04781e+06  1.62457e+06  1.66705e+06  1.05937e+06\n",
       "Precision            97.18       96.59%        96.59        96.59        96.59\n",
       "Recall               87.15       89.19%        89.19        89.19        89.19\n",
       "FDR                   2.82        3.41%         3.41         3.41         3.41\n",
       "F1 Score             91.89       92.74%        92.74        92.74        92.74\n",
       "Noise cases         131419       174096       130253        84001       166665"
      ]
     },
     "execution_count": 39,
     "metadata": {},
     "output_type": "execute_result"
    }
   ],
   "source": [
    "df"
   ]
  },
  {
   "cell_type": "code",
   "execution_count": 70,
   "metadata": {
    "collapsed": false
   },
   "outputs": [
    {
     "data": {
      "image/png": "[encoded data removed]",
      "text/plain": [
       "<matplotlib.figure.Figure at 0x7fa1b79a2710>"
      ]
     },
     "metadata": {},
     "output_type": "display_data"
    }
   ],
   "source": [
    "sns.set_style(\"white\")\n",
    "df.loc[['Precision','Recall','FDR','F1 Score']].plot(kind='bar', grid=False).legend(bbox_to_anchor=(1.4, 0.7))\n",
    "plt.ylim(85,100)\n",
    "#ax1.set_ylim([0, 10])\n",
    "#ax2.set_ylim([90, 100])\n",
    "sns.despine()\n",
    "plt.xlabel('Score (%)', fontsize='large')\n",
    "plt.savefig('/home/hirak/mapping_scorebenchmark.pdf',bbox_inches='tight', pad_inches=0)"
   ]
  },
  {
   "cell_type": "markdown",
   "metadata": {},
   "source": [
    "###Mapper-Accuracy plot"
   ]
  },
  {
   "cell_type": "code",
   "execution_count": 178,
   "metadata": {
    "collapsed": false
   },
   "outputs": [
    {
     "data": {
      "image/png": "[encoded data removed]",
      "text/plain": [
       "<matplotlib.figure.Figure at 0x7f5508c99e50>"
      ]
     },
     "metadata": {},
     "output_type": "display_data"
    }
   ],
   "source": [
    "sns.set_style(\"white\")\n",
    "\n",
    "mapValueDict = readValue(mapperAccuracyFile)\n",
    "mvd = pd.DataFrame(mapValueDict)\n",
    "\n",
    "mvd.loc['precision'] = mvd.loc['pre']\n",
    "mvd.loc['F1-score'] = mvd.loc['f1']\n",
    "mvd.loc['FDR'] = mvd.loc['fdr']\n",
    "mvd.loc['hits per read'] = mvd.loc['hpr']\n",
    "\n",
    "mvd.loc[['precision', 'recall', 'F1-score']].plot(kind='barh', grid=False).legend(bbox_to_anchor=(1.1, 0.5))\n",
    "plt.xlim(85,100)\n",
    "sns.despine()\n",
    "plt.xlabel('Accuracy (%)', fontsize='large')\n",
    "plt.savefig('./dummy_reads/mapping_scorebenchmark.pdf',bbox_inches='tight', pad_inches=0)"
   ]
  },
  {
   "cell_type": "code",
   "execution_count": 74,
   "metadata": {
    "collapsed": false
   },
   "outputs": [
    {
     "data": {
      "image/png": "[encoded data removed]",
      "text/plain": [
       "<matplotlib.figure.Figure at 0x7fa1b8151410>"
      ]
     },
     "metadata": {},
     "output_type": "display_data"
    }
   ],
   "source": [
    "def addBreakClips(ax1,ax2):\n",
    "    \"\"\" Code to add diagonal slashes to truncated y-axes.\n",
    "    copied from http://matplotlib.org/examples/pylab_examples/broken_axis.html\"\"\"\n",
    "    \n",
    "    d = .015 # how big to make the diagonal lines in axes coordinates\n",
    "    # arguments to pass plot, just so we don't keep repeating them\n",
    "    kwargs = dict(transform=ax1.transAxes, color='r', clip_on=False)\n",
    "    ax1.plot((-d,+d),(-d,+d), **kwargs)      # top-left diagonal\n",
    "    #ax1.plot((1-d,1+d),(-d,+d), **kwargs)    # top-right diagonal\n",
    "\n",
    "    kwargs.update(transform=ax2.transAxes)  # switch to the bottom axes\n",
    "    ax2.plot((-d,+d),(1-d,1+d), **kwargs)   # bottom-left diagonal\n",
    "    #ax2.plot((1-d,1+d),(1-d,1+d), **kwargs) # bottom-right diagonal\n",
    "\n",
    "\n",
    "#Time/Thread Graph\n",
    "sns.set_style(\"white\")\n",
    "threads = [1, 2, 4, 8, 10]\n",
    "\n",
    "#axes = plt.gca()\n",
    "fig,(ax2,ax1) = plt.subplots(2, 1, sharex=True)\n",
    "ax1.set_xlim([0.5, 11])\n",
    "ax1.set_ylim([-5, 140])\n",
    "ax2.set_ylim([400, 450])\n",
    "plt.ylabel('time (minutes)', fontsize= 'x-large' )\n",
    "plt.xlabel('# of threads', fontsize= 'x-large' )\n",
    "\n",
    "timeDict = {'star_8': '20.26', 'quasi_10': '2.59', 'bowtie2_10': '421.02', 'star_2': '66.10', 'star_1': '132.20', 'star_4': '33.32', 'quasi_8': '3.40', 'star_10': '16.77', 'quasi_1': '10.37', 'quasi_2': '6.27', 'quasi_4': '4.39'}\n",
    "timeIndDict = {'quasiload_1': '0.11', 'quasiload_8': '0.10', 'quasiload_2': '0.10', 'quasiload_10': '0.10', 'quasiload_4': '0.10'}\n",
    "\n",
    "quasiVal = [timeDict['quasi_1'], timeDict['quasi_2'], timeDict['quasi_4'], timeDict['quasi_8'], timeDict['quasi_10']]\n",
    "quasiLoad = [timeIndDict['quasiload_1'], timeIndDict['quasiload_2'], timeIndDict['quasiload_4'], timeIndDict['quasiload_8'], timeIndDict['quasiload_10']]\n",
    "starVal = [timeDict['star_1'], timeDict['star_2'], timeDict['star_4'], timeDict['star_8'], timeDict['star_10']]\n",
    "\n",
    "sns.set_palette('muted')\n",
    "\n",
    "\n",
    "ms = 10\n",
    "bow, = ax2.plot(threads[-1], timeDict['bowtie2_10'], 'r^', markersize=ms)\n",
    "STAR, = ax1.plot(threads, starVal, 's', markersize=ms)\n",
    "quasi = ax1.plot(threads, quasiVal, 'o', markersize=ms)\n",
    "quasiload = ax1.plot(threads, quasiLoad, '--', markersize=ms)\n",
    "plt.xticks(threads, threads)\n",
    "sns.despine()\n",
    "ax2.spines['bottom'].set_visible(False)\n",
    "addBreakClips(ax2, ax1)\n",
    "\n",
    "x0, y0 = ax1.yaxis.label.get_position()\n",
    "ax1.yaxis.set_label_coords(x0-0.09, y0+0.6)\n",
    "\n",
    "ax2.legend([bow, STAR, quasi[0], quasiload[0]], [\"bowtie-2\", \"STAR\", \"RapMap\", \"index loading (RapMap)\"], loc = 2)\n",
    "plt.savefig('./dummy_reads/timeBench.pdf',bbox_inches='tight', pad_inches=0)\n",
    "plt.show()"
   ]
  },
  {
   "cell_type": "code",
   "execution_count": 179,
   "metadata": {
    "collapsed": false,
    "scrolled": true
   },
   "outputs": [
    {
     "data": {
      "text/html": [
       "<div style=\"max-height:1000px;max-width:1500px;overflow:auto;\">\n",
       "<table border=\"1\" class=\"dataframe\">\n",
       "  <thead>\n",
       "    <tr style=\"text-align: right;\">\n",
       "      <th></th>\n",
       "      <th>bow</th>\n",
       "      <th>kallisto</th>\n",
       "      <th>quasi</th>\n",
       "      <th>star</th>\n",
       "    </tr>\n",
       "  </thead>\n",
       "  <tbody>\n",
       "    <tr>\n",
       "      <th>align</th>\n",
       "      <td> 47579567.00</td>\n",
       "      <td> 44774502.00</td>\n",
       "      <td> 47677356.00</td>\n",
       "      <td> 44711604.00</td>\n",
       "    </tr>\n",
       "    <tr>\n",
       "      <th>f1</th>\n",
       "      <td>       97.86</td>\n",
       "      <td>       94.50</td>\n",
       "      <td>       97.98</td>\n",
       "      <td>       94.10</td>\n",
       "    </tr>\n",
       "    <tr>\n",
       "      <th>fdr</th>\n",
       "      <td>        1.69</td>\n",
       "      <td>        2.33</td>\n",
       "      <td>        1.65</td>\n",
       "      <td>        2.98</td>\n",
       "    </tr>\n",
       "    <tr>\n",
       "      <th>fn</th>\n",
       "      <td>  1241778.00</td>\n",
       "      <td>  4046843.00</td>\n",
       "      <td>  1143989.00</td>\n",
       "      <td>  4109741.00</td>\n",
       "    </tr>\n",
       "    <tr>\n",
       "      <th>fp</th>\n",
       "      <td>   805965.00</td>\n",
       "      <td>  1042167.00</td>\n",
       "      <td>   785845.00</td>\n",
       "      <td>  1330181.00</td>\n",
       "    </tr>\n",
       "    <tr>\n",
       "      <th>hpr</th>\n",
       "      <td>        0.00</td>\n",
       "      <td>        5.30</td>\n",
       "      <td>        4.30</td>\n",
       "      <td>        3.80</td>\n",
       "    </tr>\n",
       "    <tr>\n",
       "      <th>pre</th>\n",
       "      <td>       98.31</td>\n",
       "      <td>       97.67</td>\n",
       "      <td>       98.35</td>\n",
       "      <td>       97.02</td>\n",
       "    </tr>\n",
       "    <tr>\n",
       "      <th>reads</th>\n",
       "      <td> 48821345.00</td>\n",
       "      <td> 48821345.00</td>\n",
       "      <td> 48821345.00</td>\n",
       "      <td> 48821345.00</td>\n",
       "    </tr>\n",
       "    <tr>\n",
       "      <th>recall</th>\n",
       "      <td>       97.41</td>\n",
       "      <td>       91.53</td>\n",
       "      <td>       97.62</td>\n",
       "      <td>       91.35</td>\n",
       "    </tr>\n",
       "    <tr>\n",
       "      <th>tp</th>\n",
       "      <td> 46773603.00</td>\n",
       "      <td> 43732336.00</td>\n",
       "      <td> 46891512.00</td>\n",
       "      <td> 43381424.00</td>\n",
       "    </tr>\n",
       "    <tr>\n",
       "      <th>precision</th>\n",
       "      <td>       98.31</td>\n",
       "      <td>       97.67</td>\n",
       "      <td>       98.35</td>\n",
       "      <td>       97.02</td>\n",
       "    </tr>\n",
       "    <tr>\n",
       "      <th>F1-score</th>\n",
       "      <td>       97.86</td>\n",
       "      <td>       94.50</td>\n",
       "      <td>       97.98</td>\n",
       "      <td>       94.10</td>\n",
       "    </tr>\n",
       "    <tr>\n",
       "      <th>FDR</th>\n",
       "      <td>        1.69</td>\n",
       "      <td>        2.33</td>\n",
       "      <td>        1.65</td>\n",
       "      <td>        2.98</td>\n",
       "    </tr>\n",
       "    <tr>\n",
       "      <th>hits per read</th>\n",
       "      <td>        0.00</td>\n",
       "      <td>        5.30</td>\n",
       "      <td>        4.30</td>\n",
       "      <td>        3.80</td>\n",
       "    </tr>\n",
       "  </tbody>\n",
       "</table>\n",
       "</div>"
      ],
      "text/plain": [
       "                       bow     kallisto        quasi         star\n",
       "align          47579567.00  44774502.00  47677356.00  44711604.00\n",
       "f1                   97.86        94.50        97.98        94.10\n",
       "fdr                   1.69         2.33         1.65         2.98\n",
       "fn              1241778.00   4046843.00   1143989.00   4109741.00\n",
       "fp               805965.00   1042167.00    785845.00   1330181.00\n",
       "hpr                   0.00         5.30         4.30         3.80\n",
       "pre                  98.31        97.67        98.35        97.02\n",
       "reads          48821345.00  48821345.00  48821345.00  48821345.00\n",
       "recall               97.41        91.53        97.62        91.35\n",
       "tp             46773603.00  43732336.00  46891512.00  43381424.00\n",
       "precision            98.31        97.67        98.35        97.02\n",
       "F1-score             97.86        94.50        97.98        94.10\n",
       "FDR                   1.69         2.33         1.65         2.98\n",
       "hits per read         0.00         5.30         4.30         3.80"
      ]
     },
     "execution_count": 179,
     "metadata": {},
     "output_type": "execute_result"
    }
   ],
   "source": [
    "mvd"
   ]
  },
  {
   "cell_type": "code",
   "execution_count": 180,
   "metadata": {
    "collapsed": true
   },
   "outputs": [],
   "source": [
    "fp = open('./dummy_reads/score_table.tex','w')\n",
    "fp.write(str(mvd.to_latex()))"
   ]
  },
  {
   "cell_type": "code",
   "execution_count": 181,
   "metadata": {
    "collapsed": false
   },
   "outputs": [
    {
     "name": "stdout",
     "output_type": "stream",
     "text": [
      "\\begin{tabular}{lrrrr}\n",
      "\\toprule\n",
      "{} &          bow &     kallisto &        quasi &         star \\\\\n",
      "\\midrule\n",
      "align         &  47579567.00 &  44774502.00 &  47677356.00 &  44711604.00 \\\\\n",
      "recall        &        97.41 &        91.53 &        97.62 &        91.35 \\\\\n",
      "precision     &        98.31 &        97.67 &        98.35 &        97.02 \\\\\n",
      "F1-score      &        97.86 &        94.50 &        97.98 &        94.10 \\\\\n",
      "FDR           &         1.69 &         2.33 &         1.65 &         2.98 \\\\\n",
      "hits per read &         0.00 &         5.30 &         4.30 &         3.80 \\\\\n",
      "\\bottomrule\n",
      "\\end{tabular}\n",
      "\n"
     ]
    }
   ],
   "source": [
    "mvd2 = mvd.drop(['f1','fdr','pre','reads', 'hpr', 'tp', 'fp', 'fn'])\n",
    "print (mvd2.to_latex())"
   ]
  },
  {
   "cell_type": "markdown",
   "metadata": {},
   "source": [
    "###kmer-Accuracy plot"
   ]
  },
  {
   "cell_type": "markdown",
   "metadata": {},
   "source": [
    "#F1-score"
   ]
  },
  {
   "cell_type": "code",
   "execution_count": 52,
   "metadata": {
    "collapsed": false
   },
   "outputs": [
    {
     "data": {
      "image/png": "[encoded data removed]",
      "text/plain": [
       "<matplotlib.figure.Figure at 0x7f5509af6550>"
      ]
     },
     "metadata": {},
     "output_type": "display_data"
    }
   ],
   "source": [
    "sns.set_style(\"white\")\n",
    "\n",
    "kmerValueDict = {}\n",
    "for kmer in kmerSize:\n",
    "    kmerValueDict[kmer] = readValue(kmerAccuracyPrefix+str(kmer)+\".txt\", 'kmerFile')\n",
    "\n",
    "plotDict = {'quasi' : {}, 'kallisto' : {}}\n",
    "kmer = []\n",
    "\n",
    "for kmer in kmerSize:\n",
    "    for id in [1, 2]:\n",
    "        if id == 1:\n",
    "            plotDict['quasi'][kmer] = kmerValueDict[kmer][id]['f1']\n",
    "        else:\n",
    "            plotDict['kallisto'][kmer] =  kmerValueDict[kmer][id]['f1']\n",
    "       \n",
    "mvd = pd.DataFrame(plotDict)\n",
    "mvd.loc[[21, 25, 27, 31]].plot(kind='bar', grid=False).legend(bbox_to_anchor=(1.25, 0.6))\n",
    "plt.ylim(80,100)\n",
    "sns.despine()\n",
    "plt.xlabel('kmer Size', fontsize='large')\n",
    "plt.ylabel('F1-Score (%)', fontsize='large')\n",
    "plt.savefig('./dummy_reads/f1.pdf',bbox_inches='tight', pad_inches=0)"
   ]
  },
  {
   "cell_type": "code",
   "execution_count": 15,
   "metadata": {
    "collapsed": false,
    "scrolled": false
   },
   "outputs": [
    {
     "data": {
      "text/html": [
       "<div style=\"max-height:1000px;max-width:1500px;overflow:auto;\">\n",
       "<table border=\"1\" class=\"dataframe\">\n",
       "  <thead>\n",
       "    <tr style=\"text-align: right;\">\n",
       "      <th></th>\n",
       "      <th>kallisto</th>\n",
       "      <th>quasi</th>\n",
       "    </tr>\n",
       "  </thead>\n",
       "  <tbody>\n",
       "    <tr>\n",
       "      <th>21</th>\n",
       "      <td> 94.20</td>\n",
       "      <td> 97.99</td>\n",
       "    </tr>\n",
       "    <tr>\n",
       "      <th>25</th>\n",
       "      <td> 94.36</td>\n",
       "      <td> 98.02</td>\n",
       "    </tr>\n",
       "    <tr>\n",
       "      <th>27</th>\n",
       "      <td> 94.42</td>\n",
       "      <td> 98.02</td>\n",
       "    </tr>\n",
       "    <tr>\n",
       "      <th>31</th>\n",
       "      <td> 94.50</td>\n",
       "      <td> 97.98</td>\n",
       "    </tr>\n",
       "  </tbody>\n",
       "</table>\n",
       "</div>"
      ],
      "text/plain": [
       "    kallisto  quasi\n",
       "21     94.20  97.99\n",
       "25     94.36  98.02\n",
       "27     94.42  98.02\n",
       "31     94.50  97.98"
      ]
     },
     "execution_count": 15,
     "metadata": {},
     "output_type": "execute_result"
    }
   ],
   "source": [
    "mvd"
   ]
  },
  {
   "cell_type": "markdown",
   "metadata": {},
   "source": [
    "#hits/read"
   ]
  },
  {
   "cell_type": "code",
   "execution_count": 53,
   "metadata": {
    "collapsed": false
   },
   "outputs": [
    {
     "data": {
      "image/png": "[encoded data removed]",
      "text/plain": [
       "<matplotlib.figure.Figure at 0x7f55092f8290>"
      ]
     },
     "metadata": {},
     "output_type": "display_data"
    }
   ],
   "source": [
    "sns.set_style(\"white\")\n",
    "\n",
    "kmerValueDict = {}\n",
    "for kmer in kmerSize:\n",
    "    kmerValueDict[kmer] = readValue(kmerAccuracyPrefix+str(kmer)+\".txt\", 'kmerFile')\n",
    "\n",
    "plotDict = {'quasi' : {}, 'kallisto' : {}}\n",
    "kmer = []\n",
    "\n",
    "for kmer in kmerSize:\n",
    "    for id in [1, 2]:\n",
    "        if id == 1:\n",
    "            plotDict['quasi'][kmer] = kmerValueDict[kmer][id]['hpr']\n",
    "        else:\n",
    "            plotDict['kallisto'][kmer] =  kmerValueDict[kmer][id]['hpr']\n",
    "       \n",
    "mvd = pd.DataFrame(plotDict)\n",
    "mvd.loc[[21, 25, 27, 31]].plot(kind='bar', grid=False).legend(bbox_to_anchor=(1.25, 0.6))\n",
    "plt.xlabel('kmer Size', fontsize='large')\n",
    "plt.ylabel('Hits / read', fontsize='large')\n",
    "plt.savefig('./dummy_reads/heats_read.pdf',bbox_inches='tight', pad_inches=0)"
   ]
  },
  {
   "cell_type": "markdown",
   "metadata": {},
   "source": [
    "#Recall"
   ]
  },
  {
   "cell_type": "code",
   "execution_count": 54,
   "metadata": {
    "collapsed": false
   },
   "outputs": [
    {
     "data": {
      "image/png": "[encoded data removed]",
      "text/plain": [
       "<matplotlib.figure.Figure at 0x7f55092c5590>"
      ]
     },
     "metadata": {},
     "output_type": "display_data"
    }
   ],
   "source": [
    "sns.set_style(\"white\")\n",
    "\n",
    "kmerValueDict = {}\n",
    "for kmer in kmerSize:\n",
    "    kmerValueDict[kmer] = readValue(kmerAccuracyPrefix+str(kmer)+\".txt\", 'kmerFile')\n",
    "\n",
    "plotDict = {'quasi' : {}, 'kallisto' : {}}\n",
    "kmer = []\n",
    "\n",
    "for kmer in kmerSize:\n",
    "    for id in [1, 2]:\n",
    "        if id == 1:\n",
    "            plotDict['quasi'][kmer] = kmerValueDict[kmer][id]['recall']\n",
    "        else:\n",
    "            plotDict['kallisto'][kmer] =  kmerValueDict[kmer][id]['recall']\n",
    "       \n",
    "mvd = pd.DataFrame(plotDict)\n",
    "mvd.loc[[21, 25, 27, 31]].plot(kind='bar', grid=False).legend(bbox_to_anchor=(1.25, 0.6))\n",
    "plt.ylim(85,100)\n",
    "plt.xlabel('kmer Size', fontsize='large')\n",
    "plt.ylabel('Recall (%)', fontsize='large')\n",
    "plt.savefig('./dummy_reads/recall.pdf',bbox_inches='tight', pad_inches=0)"
   ]
  },
  {
   "cell_type": "code",
   "execution_count": 18,
   "metadata": {
    "collapsed": false
   },
   "outputs": [
    {
     "data": {
      "text/html": [
       "<div style=\"max-height:1000px;max-width:1500px;overflow:auto;\">\n",
       "<table border=\"1\" class=\"dataframe\">\n",
       "  <thead>\n",
       "    <tr style=\"text-align: right;\">\n",
       "      <th></th>\n",
       "      <th>kallisto</th>\n",
       "      <th>quasi</th>\n",
       "    </tr>\n",
       "  </thead>\n",
       "  <tbody>\n",
       "    <tr>\n",
       "      <th>21</th>\n",
       "      <td> 90.63</td>\n",
       "      <td> 97.38</td>\n",
       "    </tr>\n",
       "    <tr>\n",
       "      <th>25</th>\n",
       "      <td> 91.01</td>\n",
       "      <td> 97.60</td>\n",
       "    </tr>\n",
       "    <tr>\n",
       "      <th>27</th>\n",
       "      <td> 91.15</td>\n",
       "      <td> 97.57</td>\n",
       "    </tr>\n",
       "    <tr>\n",
       "      <th>31</th>\n",
       "      <td> 91.53</td>\n",
       "      <td> 97.62</td>\n",
       "    </tr>\n",
       "  </tbody>\n",
       "</table>\n",
       "</div>"
      ],
      "text/plain": [
       "    kallisto  quasi\n",
       "21     90.63  97.38\n",
       "25     91.01  97.60\n",
       "27     91.15  97.57\n",
       "31     91.53  97.62"
      ]
     },
     "execution_count": 18,
     "metadata": {},
     "output_type": "execute_result"
    }
   ],
   "source": [
    "mvd"
   ]
  },
  {
   "cell_type": "markdown",
   "metadata": {
    "collapsed": true
   },
   "source": [
    "#Time-Mapper Plot"
   ]
  },
  {
   "cell_type": "code",
   "execution_count": 3,
   "metadata": {
    "collapsed": false
   },
   "outputs": [
    {
     "name": "stdout",
     "output_type": "stream",
     "text": [
      "{'star_8': '20.26', 'quasi_10': '2.59', 'bowtie2_10': '421.02', 'star_2': '66.10', 'star_1': '132.20', 'star_4': '33.32', 'quasi_8': '3.40', 'star_10': '16.77', 'quasi_1': '10.37', 'quasi_2': '6.27', 'quasi_4': '4.39'}\n",
      "{'star_8': ' 4708952', 'quasi_10': ' 5201588', 'bowtie2_10': ' 922404', 'star_2': ' 3773536', 'star_1': ' 3630760', 'star_4': ' 4086268', 'quasi_8': ' 5194372', 'star_10': ' 5023836', 'quasi_1': ' 5170608', 'quasi_2': ' 5173596', 'quasi_4': ' 5181304'}\n",
      "{'quasiload_1': '0.11', 'quasiload_8': '0.10', 'quasiload_2': '0.10', 'quasiload_10': '0.10', 'quasiload_4': '0.10'}\n"
     ]
    }
   ],
   "source": [
    "timeDict = {}\n",
    "memDict = {}\n",
    "timeIndDict = {}\n",
    "from __future__ import print_function\n",
    "with open(timeMapperFile, 'r') as fileHandle:\n",
    "    for line in fileHandle:\n",
    "        mapperName = line.strip().replace('_48M','')\n",
    "        line = fileHandle.next().strip().split(',')\n",
    "        if len(line[0].split(':')) == 2:\n",
    "            timeDict[mapperName] = \"{0:.2f}\".format(float(line[0].split(':')[0]) + (float(line[0].split(':')[1]) / 60))\n",
    "        elif len(line[0].split(':')) == 3:\n",
    "            timeDict[mapperName] = \"{0:.2f}\".format(float(line[0].split(':')[0])*60 + (float(line[0].split(':')[1])) + (float(line[0].split(':')[1]) / 60))\n",
    "        memDict[mapperName] = line[1]\n",
    "with open(timeIndexFile, 'r') as fileHandle:\n",
    "    for line in fileHandle:\n",
    "        mapperName = line.strip().replace('_48M','load')\n",
    "        line = fileHandle.next().strip().split(',')\n",
    "        timeIndDict[mapperName] = \"{0:.2f}\".format(float(line[0].split(':')[0]) + (float(line[0].split(':')[1]) / 60))\n",
    "print (timeDict)\n",
    "print (memDict)\n",
    "print (timeIndDict)"
   ]
  },
  {
   "cell_type": "code",
   "execution_count": 4,
   "metadata": {
    "collapsed": true
   },
   "outputs": [],
   "source": [
    "def addBreakClips(ax1,ax2):\n",
    "    \"\"\" Code to add diagonal slashes to truncated y-axes.\n",
    "    copied from http://matplotlib.org/examples/pylab_examples/broken_axis.html\"\"\"\n",
    "    \n",
    "    d = .015 # how big to make the diagonal lines in axes coordinates\n",
    "    # arguments to pass plot, just so we don't keep repeating them\n",
    "    kwargs = dict(transform=ax1.transAxes, color='r', clip_on=False)\n",
    "    ax1.plot((-d,+d),(-d,+d), **kwargs)      # top-left diagonal\n",
    "    #ax1.plot((1-d,1+d),(-d,+d), **kwargs)    # top-right diagonal\n",
    "\n",
    "    kwargs.update(transform=ax2.transAxes)  # switch to the bottom axes\n",
    "    ax2.plot((-d,+d),(1-d,1+d), **kwargs)   # bottom-left diagonal\n",
    "    #ax2.plot((1-d,1+d),(1-d,1+d), **kwargs) # bottom-right diagonal"
   ]
  },
  {
   "cell_type": "code",
   "execution_count": 7,
   "metadata": {
    "collapsed": false
   },
   "outputs": [
    {
     "data": {
      "image/png": "[encoded data removed]",
      "text/plain": [
       "<matplotlib.figure.Figure at 0x7fc2ef3006d0>"
      ]
     },
     "metadata": {},
     "output_type": "display_data"
    }
   ],
   "source": [
    "#Time/Thread Graph\n",
    "sns.set_style(\"white\")\n",
    "threads = [1, 2, 4, 8, 10]\n",
    "\n",
    "#axes = plt.gca()\n",
    "fig,(ax2,ax1) = plt.subplots(2, 1, sharex=True)\n",
    "ax1.set_xlim([0.5, 11])\n",
    "ax1.set_ylim([-5, 140])\n",
    "ax2.set_ylim([400, 450])\n",
    "plt.ylabel('time (minutes)', fontsize= 'x-large' )\n",
    "plt.xlabel('# of threads', fontsize= 'x-large' )\n",
    "\n",
    "timeDict = {'star_8': '20.26', 'quasi_10': '2.59', 'bowtie2_10': '421.02', 'star_2': '66.10', 'star_1': '132.20', 'star_4': '33.32', 'quasi_8': '3.40', 'star_10': '16.77', 'quasi_1': '10.37', 'quasi_2': '6.27', 'quasi_4': '4.39'}\n",
    "quasiVal = [timeDict['quasi_1'], timeDict['quasi_2'], timeDict['quasi_4'], timeDict['quasi_8'], timeDict['quasi_10']]\n",
    "quasiLoad = [timeIndDict['quasiload_1'], timeIndDict['quasiload_2'], timeIndDict['quasiload_4'], timeIndDict['quasiload_8'], timeIndDict['quasiload_10']]\n",
    "starVal = [timeDict['star_1'], timeDict['star_2'], timeDict['star_4'], timeDict['star_8'], timeDict['star_10']]\n",
    "\n",
    "sns.set_palette('muted')\n",
    "\n",
    "\n",
    "ms = 10\n",
    "bow, = ax2.plot(threads[-1], timeDict['bowtie2_10'], 'r^', markersize=ms)\n",
    "STAR, = ax1.plot(threads, starVal, 's', markersize=ms)\n",
    "quasi = ax1.plot(threads, quasiVal, 'o', markersize=ms)\n",
    "quasiload = ax1.plot(threads, quasiLoad, '--', markersize=ms)\n",
    "plt.xticks(threads, threads)\n",
    "sns.despine()\n",
    "ax2.spines['bottom'].set_visible(False)\n",
    "addBreakClips(ax2, ax1)\n",
    "\n",
    "x0, y0 = ax1.yaxis.label.get_position()\n",
    "ax1.yaxis.set_label_coords(x0-0.09, y0+0.6)\n",
    "\n",
    "ax2.legend([bow, STAR, quasi[0], quasiload[0]], [\"bowtie-2\", \"STAR\", \"quasi\", \"index loading (RapMap)\"], loc = 2)\n",
    "plt.savefig('./dummy_reads/timeBench.pdf',bbox_inches='tight', pad_inches=0)\n",
    "plt.show()"
   ]
  },
  {
   "cell_type": "code",
   "execution_count": 90,
   "metadata": {
    "collapsed": false
   },
   "outputs": [
    {
     "data": {
      "text/plain": [
       "<matplotlib.axes.AxesSubplot at 0x7f5508cf9f90>"
      ]
     },
     "execution_count": 90,
     "metadata": {},
     "output_type": "execute_result"
    },
    {
     "data": {
      "image/png": "[encoded data removed]",
      "text/plain": [
       "<matplotlib.figure.Figure at 0x7f5508d2ead0>"
      ]
     },
     "metadata": {},
     "output_type": "display_data"
    }
   ],
   "source": [
    "dat = [(n.split('_')[0], float(v), int(n.split('_')[-1])) for n,v in timeDict.iteritems()]\n",
    "D = pd.DataFrame(dat)\n",
    "D.columns = ['Method', 'Time (minutes)', '# threads']\n",
    "sns.pointplot(x=\"# threads\", y=\"Time (minutes)\", hue='Method', data=D.sort(\"# threads\"))"
   ]
  },
  {
   "cell_type": "code",
   "execution_count": 11,
   "metadata": {
    "collapsed": false
   },
   "outputs": [
    {
     "data": {
      "text/plain": [
       "{'bowtie2_10': '421.02',\n",
       " 'quasi_1': '10.37',\n",
       " 'quasi_10': '2.59',\n",
       " 'quasi_2': '6.27',\n",
       " 'quasi_4': '4.39',\n",
       " 'quasi_8': '3.40',\n",
       " 'star_1': '132.20',\n",
       " 'star_10': '16.77'}"
      ]
     },
     "execution_count": 11,
     "metadata": {},
     "output_type": "execute_result"
    }
   ],
   "source": [
    "timeDict"
   ]
  },
  {
   "cell_type": "markdown",
   "metadata": {
    "collapsed": true
   },
   "source": [
    "###Real Data Venn plot"
   ]
  },
  {
   "cell_type": "code",
   "execution_count": 43,
   "metadata": {
    "collapsed": false
   },
   "outputs": [],
   "source": [
    "fileName = \"venStats.txt\"\n",
    "cap = []\n",
    "\n",
    "with open(fileName, 'r') as fileHandle:\n",
    "    data = fileHandle.readlines()\n",
    "n1 = int(data[7].strip()[-8:])\n",
    "n2 = int(data[8].strip()[-8:])\n",
    "n3 = int(data[9].strip()[-8:])\n",
    "n4 = int(data[10].strip()[-8:])\n",
    "\n",
    "cap.append(int(data[14].strip()[-8:]))\n",
    "n12 = int(data[36].strip().replace(\"(\", '').replace(\")\", '').split(',')[-1])\n",
    "\n",
    "cap.append(int(data[38].strip()[-8:]))\n",
    "n13 = int(data[59].strip().replace(\"(\", '').replace(\")\", '').split(',')[-1])\n",
    "\n",
    "cap.append(int(data[61].strip()[-8:]))\n",
    "n14 = int(data[82].strip().replace(\"(\", '').replace(\")\", '').split(',')[-1])\n",
    "\n",
    "cap.append(int(data[84].strip()[-8:]))\n",
    "n23 = int(data[105].strip().replace(\"(\", '').replace(\")\", '').split(',')[-1])\n",
    "    \n",
    "cap.append(int(data[107].strip()[-8:]))\n",
    "n24 = int(data[128].strip().replace(\"(\", '').replace(\")\", '').split(',')[-1])\n",
    "\n",
    "cap.append(int(data[130].strip()[-8:]))\n",
    "n34 = int(data[150].strip().replace(\"(\", '').replace(\")\", '').split(',')[-1])\n",
    "\n",
    "cap.append(int(data[153].strip()[-8:]))\n",
    "n123 = int(data[174].strip().replace(\"(\", '').replace(\")\", '').split(',')[-1])\n",
    "\n",
    "cap.append(int(data[177].strip()[-8:]))\n",
    "n124 = int(data[197].strip().replace(\"(\", '').replace(\")\", '').split(',')[-1])\n",
    "\n",
    "cap.append(int(data[200].strip()[-8:]))\n",
    "n134 = int(data[220].strip().replace(\"(\", '').replace(\")\", '').split(',')[-1])\n",
    "\n",
    "cap.append(int(data[223].strip()[-8:]))\n",
    "n234 = int(data[243].strip().replace(\"(\", '').replace(\")\", '').split(',')[-1])\n",
    "\n",
    "cap.append(int(data[246].strip()[-8:]))\n",
    "n1234 = int(data[266].strip().replace(\"(\", '').replace(\")\", '').split(',')[-1])"
   ]
  },
  {
   "cell_type": "code",
   "execution_count": 203,
   "metadata": {
    "collapsed": false,
    "scrolled": false
   },
   "outputs": [
    {
     "data": {
      "image/png": "[encoded data removed]",
      "text/plain": [
       "<matplotlib.figure.Figure at 0x7f5508314250>"
      ]
     },
     "metadata": {},
     "output_type": "display_data"
    }
   ],
   "source": [
    "r9 = n1234\n",
    "\n",
    "r5  =  n123 - r9\n",
    "r8  =  n234 - r9\n",
    "r10 =  n124 - r9\n",
    "r13 =  n134 - r9\n",
    "\n",
    "r2  =   n13 - (r5 + r9 + r13)\n",
    "r11 =   n24 - (r8 + r9 + r10)\n",
    "r12 =   n34 - (r8 + r9 + r13)\n",
    "r4  =   n23 - (r5 + r8 + r9)\n",
    "r14 =   n14 - (r9 + r10 + r13)\n",
    "r6  =   n12 - (r9 + r10 + r5)\n",
    "\n",
    "r1  = n3 - (r2 + r4 + r5 + r8 + r9 + r12 + r13)\n",
    "r3  = n1 - (r2 + r5 + r6 + r10 + r9 + r13 + r14)\n",
    "r7  = n2 - (r4 + r5 + r6 + r8 + r9 + r10 + r11)\n",
    "r15 = n4 - (r8 + r9 + r10 + r11 + r12 + r13 + r14)\n",
    "\n",
    "\n",
    "val = [r1, r3, r7, r15, n12, n13, n14, n23, n24, n34, n123, n124, n134, n234, n1234]\n",
    "errCap = [cap[id-4]-val[id] for id in range(4, 15)]\n",
    "\n",
    "#axes = plt.gca()\n",
    "fig,(ax2,ax1) = plt.subplots(2, 1, sharex=True)\n",
    "plt.ylabel('# Mapped reads', fontsize= 'large' )\n",
    "plt.xlabel('Aligner Id(S:STAR, K:Kallisto, Q:Quasi, B:Bowtie2)', fontsize= 'large' )\n",
    "#plt.title('Venn Plot', fontsize= 'large' )\n",
    "\n",
    "ax1.set_ylim([0, 1000000])\n",
    "ax2.set_ylim([18000000, 22000000])\n",
    "\n",
    "ax1.bar(range(15), val, align='center')\n",
    "#ax2.bar(range(4, 15), errCap, bottom=val[4:15], color='r', align='center')\n",
    "ax2.bar(range(15), val, align='center')\n",
    "ax2.bar(range(4, 15), errCap, bottom=val[4:15], color='r', fill=False, hatch='//', align='center')\n",
    "sns.despine()\n",
    "ax2.spines['bottom'].set_visible(False)\n",
    "\n",
    "addBreakClips(ax2, ax1)\n",
    "plt.xticks(range(15), ['Q', 'S', 'K', 'B', 'Q,S', 'Q,K', 'Q,B', 'S,K', 'S,B', 'K,B', 'Q,S,K', 'Q,S,B', 'Q,K,B', 'S,K,B', 'Q,S,K,B' ], size='small', rotation=90)\n",
    "ax1.set_xlim([-1, 15])\n",
    "x0, y0 = ax1.yaxis.label.get_position()\n",
    "ax1.yaxis.set_label_coords(x0-0.15, y0+0.6)\n",
    "plt.savefig('./dummy_reads/concordance.pdf',bbox_inches='tight', pad_inches=0)"
   ]
  },
  {
   "cell_type": "code",
   "execution_count": null,
   "metadata": {
    "collapsed": true
   },
   "outputs": [],
   "source": []
  },
  {
   "cell_type": "code",
   "execution_count": 72,
   "metadata": {
    "collapsed": false
   },
   "outputs": [
    {
     "data": {
      "text/plain": [
       "[834788,\n",
       " 1261,\n",
       " 131282,\n",
       " 487984,\n",
       " 287800,\n",
       " 87213,\n",
       " 523593,\n",
       " 711879,\n",
       " 86757,\n",
       " 494977,\n",
       " 526688]"
      ]
     },
     "execution_count": 72,
     "metadata": {},
     "output_type": "execute_result"
    }
   ],
   "source": [
    "errCap"
   ]
  },
  {
   "cell_type": "code",
   "execution_count": 221,
   "metadata": {
    "collapsed": true
   },
   "outputs": [],
   "source": [
    "labels = ['Q', 'S', 'K', 'B', 'Q,S', 'Q,K', 'Q,B', 'S,K', 'S,B', 'K,B', 'Q,S,K', 'Q,S,B', 'Q,K,B', 'S,K,B', 'Q,S,K,B' ]"
   ]
  },
  {
   "cell_type": "code",
   "execution_count": 233,
   "metadata": {
    "collapsed": true
   },
   "outputs": [],
   "source": [
    "val = [r1, r3, r7, r15, n12, n13, n14, n23, n24, n34, n123, n124, n134, n234, n1234]\n",
    "ec = [0, 0, 0, 0] + [cap[id-4]-val[id] for id in range(4, 15)]"
   ]
  },
  {
   "cell_type": "code",
   "execution_count": 234,
   "metadata": {
    "collapsed": false
   },
   "outputs": [],
   "source": [
    "VD = pd.DataFrame(zip(labels, val, ec))"
   ]
  },
  {
   "cell_type": "code",
   "execution_count": 236,
   "metadata": {
    "collapsed": false
   },
   "outputs": [],
   "source": [
    "VD.columns = ['Method', 'Intersection', 'Bound']\n",
    "VD.set_index('Method', inplace=True)"
   ]
  },
  {
   "cell_type": "code",
   "execution_count": 53,
   "metadata": {
    "collapsed": false
   },
   "outputs": [],
   "source": [
    "#sns.PairGrid(VD.T)"
   ]
  },
  {
   "cell_type": "code",
   "execution_count": null,
   "metadata": {
    "collapsed": true
   },
   "outputs": [],
   "source": []
  }
 ],
 "metadata": {
  "kernelspec": {
   "display_name": "Python 2",
   "language": "python",
   "name": "python2"
  },
  "language_info": {
   "codemirror_mode": {
    "name": "ipython",
    "version": 2
   },
   "file_extension": ".py",
   "mimetype": "text/x-python",
   "name": "python",
   "nbconvert_exporter": "python",
   "pygments_lexer": "ipython2",
   "version": "2.7.8"
  }
 },
 "nbformat": 4,
 "nbformat_minor": 0
}
